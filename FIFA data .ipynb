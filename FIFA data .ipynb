{
 "cells": [
  {
   "cell_type": "code",
   "execution_count": 51,
   "metadata": {
    "ExecuteTime": {
     "end_time": "2020-01-09T20:35:05.005893Z",
     "start_time": "2020-01-09T20:35:05.002925Z"
    }
   },
   "outputs": [],
   "source": [
    "import pandas as pd\n",
    "import numpy as np\n",
    "import pickle"
   ]
  },
  {
   "cell_type": "code",
   "execution_count": 118,
   "metadata": {
    "ExecuteTime": {
     "end_time": "2020-01-10T00:20:10.581107Z",
     "start_time": "2020-01-10T00:20:10.310690Z"
    }
   },
   "outputs": [],
   "source": [
    "filename=\"./fifa data/fifa2020data.csv\"\n",
    "fifa_df=pd.read_csv(filename)"
   ]
  },
  {
   "cell_type": "code",
   "execution_count": 122,
   "metadata": {
    "ExecuteTime": {
     "end_time": "2020-01-10T00:20:48.681614Z",
     "start_time": "2020-01-10T00:20:48.676268Z"
    }
   },
   "outputs": [
    {
     "data": {
      "text/plain": [
       "Index(['sofifa_id', 'player_url', 'short_name', 'long_name', 'age', 'dob',\n",
       "       'height_cm', 'weight_kg', 'nationality', 'club', 'overall', 'potential',\n",
       "       'value_eur', 'wage_eur', 'player_positions', 'preferred_foot',\n",
       "       'international_reputation', 'weak_foot', 'skill_moves', 'work_rate'],\n",
       "      dtype='object')"
      ]
     },
     "execution_count": 122,
     "metadata": {},
     "output_type": "execute_result"
    }
   ],
   "source": [
    "#check data schema\n",
    "fifa_df.columns[:20]"
   ]
  },
  {
   "cell_type": "code",
   "execution_count": 120,
   "metadata": {
    "ExecuteTime": {
     "end_time": "2020-01-10T00:20:17.793318Z",
     "start_time": "2020-01-10T00:20:17.791386Z"
    }
   },
   "outputs": [],
   "source": [
    "# fifa_df['Release Clause']\n",
    "# fifa_df=fifa_df.rename(columns = {'Release Clause':'ReleaseClause'})"
   ]
  },
  {
   "cell_type": "code",
   "execution_count": 121,
   "metadata": {
    "ExecuteTime": {
     "end_time": "2020-01-10T00:20:25.674968Z",
     "start_time": "2020-01-10T00:20:25.671629Z"
    }
   },
   "outputs": [],
   "source": [
    "# # clean currency column\n",
    "# def currency_cleaner(amount):\n",
    "#     if amount.endswith('M'):   \n",
    "#         return float(amount[1:-1])*1e6\n",
    "#     if amount.endswith('K'):\n",
    "#         return float(amount[1:-1])*1e3\n",
    "# fifa_df.Value=fifa_df.Value.apply(currency_cleaner)\n",
    "# fifa_df.Wage=fifa_df.Wage.apply(currency_cleaner)\n"
   ]
  },
  {
   "cell_type": "code",
   "execution_count": 126,
   "metadata": {
    "ExecuteTime": {
     "end_time": "2020-01-10T00:21:49.358892Z",
     "start_time": "2020-01-10T00:21:49.334258Z"
    }
   },
   "outputs": [],
   "source": [
    "team_attributes_df=fifa_df.groupby('club').mean()[['overall','value_eur','wage_eur','age','potential','international_reputation']].sort_values(by='value_eur',ascending=False)\n",
    "\n",
    "team_attributes_df=team_attributes_df.reset_index()\n",
    "\n",
    "team_attributes_df\n",
    "\n",
    "FIFA_club_name=team_attributes_df['club'].unique()"
   ]
  },
  {
   "cell_type": "code",
   "execution_count": 127,
   "metadata": {
    "ExecuteTime": {
     "end_time": "2020-01-10T00:22:04.658217Z",
     "start_time": "2020-01-10T00:22:04.628793Z"
    }
   },
   "outputs": [],
   "source": [
    "network_club_name=['RB Leipzig', 'Borussia Dortmund', 'Schalke ', 'Augsburg',\n",
    "       'Bayer  Leverkusen', 'TSG  Hoffenheim', 'Werder Bremen',\n",
    "       'Hertha B', 'Borussia Mönchengladbach', 'Eintracht Frankfurt',\n",
    "       'Wolfsburg', 'VfB Stuttgart', 'Hannover ', 'Darmstadt ',\n",
    "       'Ingolstadt ', 'Hamburger', '.F Mainz ', '.  Köln',\n",
    "       'Arminia Bielefeld', 'Alemannia Aachen', 'Bochum', '. Nuremberg',\n",
    "       'Energie Cottbus', 'Bayern Munich', 'Fortuna Düsseldorf',\n",
    "       'Freiburg', 'M Duisburg', 'St. Pauli', 'SpVgg Greuther Fürth',\n",
    "       'T  Munich', 'Hansa Rostock', '. Kaiserslautern',\n",
    "       'Eintracht Braunschweig', 'Paderborn ', 'Karlsruher',\n",
    "       '. Union Berlin', 'SpVgg Unterhaching', 'SBV Excelsior Rotterdam',\n",
    "       'NEC Nijmegen', 'Heracles Almelo', 'Willem II Tilburg', 'Utrecht',\n",
    "       'Cambuur-Leeuwarden', 'ADO Den Haag', 'De Graafschap Doetinchem',\n",
    "       'Roda JC Kerkrade', 'Twente Enschede', 'AZ Alkmaar',\n",
    "       'Ajax Amsterdam', 'Groningen', 'Vitesse Arnhem', 'R Roosendaal',\n",
    "       'RKC Waalwijk', 'NAC Breda', 'Feyenoord Rotterdam', 'Den Bosch',\n",
    "       'P Eindhoven', 'Heerenveen', 'PEC Zwolle', 'Dordrecht',\n",
    "       'Go Ahead Eagles Deventer', 'Sparta Rotterdam', 'VVV-Venlo',\n",
    "       'Volendam', 'Fortuna Sittard', 'Zwolle', 'Emmen',\n",
    "       'Atlético Madrid', 'Granada', 'Celta de Vigo', 'Levante',\n",
    "       'Espanyol Barcelona', 'Girona', 'Getafe', 'Athletic Bilbao',\n",
    "       'Real Sociedad', 'Real Madrid', 'Real Betis', 'Real Valladolid',\n",
    "       'Sevilla', 'Mallorca', 'CA Osasuna', 'Rayo Vallecano', 'Barcelona',\n",
    "       'Real Zaragoza', 'Real Murcia', 'Eibar', 'Málaga',\n",
    "       'Sporting Gijón', 'Huesca', 'Villarreal', 'Valencia',\n",
    "       'Deportivo Alavés', 'Gimnàstic de Tarragona', 'Recreativo Huelva',\n",
    "       'Las Palmas', 'Deportivo de La Coruña', 'Tenerife',\n",
    "       'Racing Santander', 'Leganés', 'Numancia', 'Almería', 'Xerez',\n",
    "       'Real Oviedo', 'Hércules', 'Córdoba', 'Elche', 'Cádiz', 'Albacete',\n",
    "       'Le Mans Union Club ', 'Valenciennes', 'RC Lens', 'Montpellier',\n",
    "       'Lyon', 'Lille', 'Paris Saint-Germain', 'Saint-Étienne',\n",
    "       'Sochaux-Montbéliard', 'Lorient', 'Stade Brest ',\n",
    "       'Athlétic Club Arlésien', 'Nancy-Lorraine', 'Boulogne', 'SM Caen',\n",
    "       'Nice', 'Girondins Bordeaux', 'Monaco', 'Grenoble Foot ',\n",
    "       'Stade Rennais', 'AJ Auxerre', 'Toulouse', 'Marseille',\n",
    "       'Stade Reims', 'O Angers', 'Bastia', 'Metz',\n",
    "       'RC Strasbourg Alsace', 'O Dijon', 'Nantes', 'EA Guingamp',\n",
    "       'Amiens', 'G Ajaccio', 'Évian Thonon Gaillard', 'ES Troyes AC',\n",
    "       'AC Ajaccio', 'Nîmes', 'Sedan-Ardennes', 'AC Le Havre',\n",
    "       'Istres Ouest Provence', 'Manchester United', 'Manchester City',\n",
    "       'Newcastle United', 'Liverpool', 'Hull City', 'Everton',\n",
    "       'Crystal Palace', 'Leicester City', 'Queens Park Rangers',\n",
    "       'Tottenham Hotspur', 'Swansea City', 'West Ham United',\n",
    "       'West Bromwich Albion', 'Southampton', 'Sunderland A',\n",
    "       'Stoke City', 'Chelsea', 'Fulham', 'Birmingham City',\n",
    "       'Charlton Athletic', 'Leeds United', 'Aston Villa',\n",
    "       'Middlesbrough', 'Blackburn Rovers', 'Ipswich Town', 'Arsenal',\n",
    "       'Bolton Wanderers', 'Burnley', 'Wigan Athletic', 'Derby County',\n",
    "       'Watford', 'A Bournemouth', 'Norwich City', 'Sheffield United',\n",
    "       'Brighton & Hove Albion', 'Portsmouth', 'Reading', 'Coventry City',\n",
    "       'Bradford City', 'Cardiff City', 'Wolverhampton Wanderers',\n",
    "       'Huddersfield Town', 'Blackpool', 'Sporting CP', 'Braga',\n",
    "       'Vitória Setúbal', 'Porto', 'Feirense', 'Tondela', 'Moreirense',\n",
    "       'Boavista Porto', 'Benfica', 'Nacional', 'Gil Vicente',\n",
    "       'Santa Clara', 'Belenenses SAD', 'Rio Ave', 'Vitória Guimarães',\n",
    "       'Marítimo', 'União de Leiria', 'Paços de Ferreira',\n",
    "       'Varzim Sport Club', 'Académica Coimbra', 'Beira-Mar',\n",
    "       'Portimonense', 'Penafiel', 'Arouca', 'Estrela Amadora',\n",
    "       'Naval º de Maio', 'Desportivo Aves', 'GD Chaves', 'GD Estoril',\n",
    "       'Olhanense', 'Leixões', 'Trofense', 'Alverca', 'União Madeira',\n",
    "       'Famalicão', 'Salgueiros', 'Farense', 'Campomaiorense', 'Juventus',\n",
    "       'Torino', 'Livorno', 'Florentia Viola', 'Empoli', 'Lecce',\n",
    "       'Bologna', 'Sampdoria', 'Udinese', 'Milan AC', 'Internazionale',\n",
    "       'Cagliari', 'AC Perugia', 'Brescia', 'SPAL', 'Hellas Verona',\n",
    "       'Chievo Verona', 'Roma', 'Lazio', 'AC Venezia ', 'Atalanta',\n",
    "       'AC Siena', 'Bari', 'Napoli', 'Benevento', 'Vicenza', 'Reggina',\n",
    "       'Crotone', 'A Fiorentina', 'AC Parma', 'AC Fiorentina', 'Sassuolo',\n",
    "       'Modena  ', 'SPAL ', 'Inter Milan', 'Genoa C', 'AC Milan',\n",
    "       'Catania', 'Parma  ', 'Piacenza', 'Frosinone', 'Como', 'Palermo',\n",
    "       'Parma', 'AC Cesena', 'Ascoli  ', 'Messina Peloro',\n",
    "       'Delfino Pescara ', 'Ancona', 'Novara  ', 'A Treviso', 'Carpi']"
   ]
  },
  {
   "cell_type": "code",
   "execution_count": 128,
   "metadata": {
    "ExecuteTime": {
     "end_time": "2020-01-10T00:22:05.243262Z",
     "start_time": "2020-01-10T00:22:05.227079Z"
    }
   },
   "outputs": [],
   "source": [
    "missing_club=[club for club in network_club_name if not(club in  FIFA_club_name)]"
   ]
  },
  {
   "cell_type": "code",
   "execution_count": 129,
   "metadata": {
    "ExecuteTime": {
     "end_time": "2020-01-10T00:22:06.160656Z",
     "start_time": "2020-01-10T00:22:06.157266Z"
    }
   },
   "outputs": [
    {
     "data": {
      "text/plain": [
       "183"
      ]
     },
     "execution_count": 129,
     "metadata": {},
     "output_type": "execute_result"
    }
   ],
   "source": [
    "len(missing_club)"
   ]
  },
  {
   "cell_type": "code",
   "execution_count": 130,
   "metadata": {
    "ExecuteTime": {
     "end_time": "2020-01-10T00:22:08.084643Z",
     "start_time": "2020-01-10T00:22:08.078868Z"
    }
   },
   "outputs": [
    {
     "data": {
      "text/plain": [
       "['Schalke ',\n",
       " 'Augsburg',\n",
       " 'Bayer  Leverkusen',\n",
       " 'TSG  Hoffenheim',\n",
       " 'Werder Bremen',\n",
       " 'Hertha B',\n",
       " 'Wolfsburg',\n",
       " 'Hannover ',\n",
       " 'Darmstadt ',\n",
       " 'Ingolstadt ',\n",
       " 'Hamburger',\n",
       " '.F Mainz ',\n",
       " '.  Köln',\n",
       " 'Arminia Bielefeld',\n",
       " 'Alemannia Aachen',\n",
       " 'Bochum',\n",
       " '. Nuremberg',\n",
       " 'Energie Cottbus',\n",
       " 'Bayern Munich',\n",
       " 'Freiburg',\n",
       " 'M Duisburg',\n",
       " 'St. Pauli',\n",
       " 'T  Munich',\n",
       " 'Hansa Rostock',\n",
       " '. Kaiserslautern',\n",
       " 'Paderborn ',\n",
       " 'Karlsruher',\n",
       " '. Union Berlin',\n",
       " 'SBV Excelsior Rotterdam',\n",
       " 'NEC Nijmegen',\n",
       " 'Willem II Tilburg',\n",
       " 'Utrecht',\n",
       " 'Cambuur-Leeuwarden',\n",
       " 'De Graafschap Doetinchem',\n",
       " 'Roda JC Kerkrade',\n",
       " 'Twente Enschede',\n",
       " 'Ajax Amsterdam',\n",
       " 'Groningen',\n",
       " 'Vitesse Arnhem',\n",
       " 'R Roosendaal',\n",
       " 'NAC Breda',\n",
       " 'Feyenoord Rotterdam',\n",
       " 'Den Bosch',\n",
       " 'P Eindhoven',\n",
       " 'Heerenveen',\n",
       " 'Dordrecht',\n",
       " 'Go Ahead Eagles Deventer',\n",
       " 'Volendam',\n",
       " 'Zwolle',\n",
       " 'Emmen',\n",
       " 'Granada',\n",
       " 'Celta de Vigo',\n",
       " 'Levante',\n",
       " 'Espanyol Barcelona',\n",
       " 'Girona',\n",
       " 'Getafe',\n",
       " 'Athletic Bilbao',\n",
       " 'Real Valladolid',\n",
       " 'Sevilla',\n",
       " 'Mallorca',\n",
       " 'Barcelona',\n",
       " 'Real Murcia',\n",
       " 'Eibar',\n",
       " 'Málaga',\n",
       " 'Sporting Gijón',\n",
       " 'Huesca',\n",
       " 'Villarreal',\n",
       " 'Valencia',\n",
       " 'Gimnàstic de Tarragona',\n",
       " 'Recreativo Huelva',\n",
       " 'Las Palmas',\n",
       " 'Tenerife',\n",
       " 'Leganés',\n",
       " 'Numancia',\n",
       " 'Almería',\n",
       " 'Xerez',\n",
       " 'Hércules',\n",
       " 'Córdoba',\n",
       " 'Elche',\n",
       " 'Cádiz',\n",
       " 'Albacete',\n",
       " 'Le Mans Union Club ',\n",
       " 'Valenciennes',\n",
       " 'RC Lens',\n",
       " 'Montpellier',\n",
       " 'Lyon',\n",
       " 'Lille',\n",
       " 'Saint-Étienne',\n",
       " 'Sochaux-Montbéliard',\n",
       " 'Lorient',\n",
       " 'Stade Brest ',\n",
       " 'Athlétic Club Arlésien',\n",
       " 'Nancy-Lorraine',\n",
       " 'Boulogne',\n",
       " 'SM Caen',\n",
       " 'Nice',\n",
       " 'Girondins Bordeaux',\n",
       " 'Monaco',\n",
       " 'Grenoble Foot ',\n",
       " 'Stade Rennais',\n",
       " 'Toulouse',\n",
       " 'Marseille',\n",
       " 'Stade Reims',\n",
       " 'O Angers',\n",
       " 'Bastia',\n",
       " 'Metz',\n",
       " 'O Dijon',\n",
       " 'Nantes',\n",
       " 'EA Guingamp',\n",
       " 'Amiens',\n",
       " 'G Ajaccio',\n",
       " 'Évian Thonon Gaillard',\n",
       " 'ES Troyes AC',\n",
       " 'Nîmes',\n",
       " 'Sedan-Ardennes',\n",
       " 'AC Le Havre',\n",
       " 'Istres Ouest Provence',\n",
       " 'Sunderland A',\n",
       " 'A Bournemouth',\n",
       " 'Braga',\n",
       " 'Vitória Setúbal',\n",
       " 'Porto',\n",
       " 'Feirense',\n",
       " 'Tondela',\n",
       " 'Moreirense',\n",
       " 'Boavista Porto',\n",
       " 'Benfica',\n",
       " 'Nacional',\n",
       " 'Gil Vicente',\n",
       " 'Belenenses SAD',\n",
       " 'Rio Ave',\n",
       " 'Marítimo',\n",
       " 'União de Leiria',\n",
       " 'Paços de Ferreira',\n",
       " 'Varzim Sport Club',\n",
       " 'Académica Coimbra',\n",
       " 'Beira-Mar',\n",
       " 'Portimonense',\n",
       " 'Penafiel',\n",
       " 'Arouca',\n",
       " 'Estrela Amadora',\n",
       " 'Naval º de Maio',\n",
       " 'Desportivo Aves',\n",
       " 'GD Chaves',\n",
       " 'GD Estoril',\n",
       " 'Olhanense',\n",
       " 'Leixões',\n",
       " 'Trofense',\n",
       " 'Alverca',\n",
       " 'União Madeira',\n",
       " 'Salgueiros',\n",
       " 'Farense',\n",
       " 'Campomaiorense',\n",
       " 'Florentia Viola',\n",
       " 'Milan AC',\n",
       " 'Internazionale',\n",
       " 'AC Perugia',\n",
       " 'AC Venezia ',\n",
       " 'AC Siena',\n",
       " 'Bari',\n",
       " 'Vicenza',\n",
       " 'Reggina',\n",
       " 'A Fiorentina',\n",
       " 'AC Parma',\n",
       " 'AC Fiorentina',\n",
       " 'Modena  ',\n",
       " 'SPAL ',\n",
       " 'Inter Milan',\n",
       " 'Genoa C',\n",
       " 'AC Milan',\n",
       " 'Catania',\n",
       " 'Parma  ',\n",
       " 'Piacenza',\n",
       " 'Como',\n",
       " 'Palermo',\n",
       " 'AC Cesena',\n",
       " 'Ascoli  ',\n",
       " 'Messina Peloro',\n",
       " 'Delfino Pescara ',\n",
       " 'Ancona',\n",
       " 'Novara  ',\n",
       " 'A Treviso',\n",
       " 'Carpi']"
      ]
     },
     "execution_count": 130,
     "metadata": {},
     "output_type": "execute_result"
    }
   ],
   "source": [
    "missing_club"
   ]
  },
  {
   "cell_type": "code",
   "execution_count": 131,
   "metadata": {
    "ExecuteTime": {
     "end_time": "2020-01-10T00:22:11.922085Z",
     "start_time": "2020-01-10T00:22:11.729230Z"
    }
   },
   "outputs": [
    {
     "data": {
      "text/plain": [
       "('Bayer 04 Leverkusen', 95)"
      ]
     },
     "execution_count": 131,
     "metadata": {},
     "output_type": "execute_result"
    }
   ],
   "source": [
    "from fuzzywuzzy import process\n",
    "choices=FIFA_club_name\n",
    "process.extractOne('Bayer  Leverkusen', choices)"
   ]
  },
  {
   "cell_type": "code",
   "execution_count": 65,
   "metadata": {
    "ExecuteTime": {
     "end_time": "2020-01-09T20:37:08.442362Z",
     "start_time": "2020-01-09T20:37:08.392390Z"
    }
   },
   "outputs": [],
   "source": [
    "pkl_file = open('./temporary_pkl/transfer_span_reduced.pkl','rb')\n",
    "transfer_span_reduced = pickle.load(pkl_file)\n",
    "pkl_file.close()"
   ]
  },
  {
   "cell_type": "code",
   "execution_count": 132,
   "metadata": {
    "ExecuteTime": {
     "end_time": "2020-01-10T00:22:23.912987Z",
     "start_time": "2020-01-10T00:22:23.908336Z"
    }
   },
   "outputs": [],
   "source": [
    "def rename(club,choices):\n",
    "    return process.extractOne(club, choices)[0]"
   ]
  },
  {
   "cell_type": "code",
   "execution_count": 133,
   "metadata": {
    "ExecuteTime": {
     "end_time": "2020-01-10T00:22:53.897891Z",
     "start_time": "2020-01-10T00:22:24.373512Z"
    }
   },
   "outputs": [],
   "source": [
    "#len(new_name)=282  ,  29.5 seconds\n",
    "new_name=[rename(club,choices) if not (club in FIFA_club_name) else club for club in list(transfer_span_reduced['club_name'].unique())  ]"
   ]
  },
  {
   "cell_type": "code",
   "execution_count": 134,
   "metadata": {
    "ExecuteTime": {
     "end_time": "2020-01-10T00:22:53.902885Z",
     "start_time": "2020-01-10T00:22:53.899231Z"
    }
   },
   "outputs": [
    {
     "data": {
      "text/plain": [
       "(233, 282)"
      ]
     },
     "execution_count": 134,
     "metadata": {},
     "output_type": "execute_result"
    }
   ],
   "source": [
    "len(set(new_name)),len(new_name)"
   ]
  },
  {
   "cell_type": "code",
   "execution_count": 135,
   "metadata": {
    "ExecuteTime": {
     "end_time": "2020-01-10T00:23:05.343878Z",
     "start_time": "2020-01-10T00:23:05.328622Z"
    }
   },
   "outputs": [],
   "source": [
    "fifa_df_reduced=fifa_df[fifa_df['club'].isin(new_name)]"
   ]
  },
  {
   "cell_type": "code",
   "execution_count": 136,
   "metadata": {
    "ExecuteTime": {
     "end_time": "2020-01-10T00:23:09.363298Z",
     "start_time": "2020-01-10T00:23:09.311762Z"
    }
   },
   "outputs": [],
   "source": [
    "attributes_df=fifa_df_reduced.groupby('club')['overall'].apply(list).reset_index(name='score_list')"
   ]
  },
  {
   "cell_type": "code",
   "execution_count": 137,
   "metadata": {
    "ExecuteTime": {
     "end_time": "2020-01-10T00:23:35.649376Z",
     "start_time": "2020-01-10T00:23:35.614122Z"
    },
    "scrolled": true
   },
   "outputs": [
    {
     "data": {
      "text/html": [
       "<div>\n",
       "<style scoped>\n",
       "    .dataframe tbody tr th:only-of-type {\n",
       "        vertical-align: middle;\n",
       "    }\n",
       "\n",
       "    .dataframe tbody tr th {\n",
       "        vertical-align: top;\n",
       "    }\n",
       "\n",
       "    .dataframe thead th {\n",
       "        text-align: right;\n",
       "    }\n",
       "</style>\n",
       "<table border=\"1\" class=\"dataframe\">\n",
       "  <thead>\n",
       "    <tr style=\"text-align: right;\">\n",
       "      <th></th>\n",
       "      <th>club</th>\n",
       "      <th>score_list</th>\n",
       "      <th>overall</th>\n",
       "      <th>value_eur</th>\n",
       "    </tr>\n",
       "  </thead>\n",
       "  <tbody>\n",
       "    <tr>\n",
       "      <td>0</td>\n",
       "      <td>1. FC Kaiserslautern</td>\n",
       "      <td>[69, 68, 68, 67, 67, 66, 66, 66, 66, 65, 65, 6...</td>\n",
       "      <td>63.750000</td>\n",
       "      <td>6.039286e+05</td>\n",
       "    </tr>\n",
       "    <tr>\n",
       "      <td>1</td>\n",
       "      <td>1. FC Köln</td>\n",
       "      <td>[81, 79, 79, 78, 77, 76, 76, 76, 75, 75, 75, 7...</td>\n",
       "      <td>71.612903</td>\n",
       "      <td>5.360000e+06</td>\n",
       "    </tr>\n",
       "    <tr>\n",
       "      <td>2</td>\n",
       "      <td>1. FC Union Berlin</td>\n",
       "      <td>[77, 75, 74, 73, 73, 73, 73, 73, 72, 72, 72, 7...</td>\n",
       "      <td>68.787879</td>\n",
       "      <td>2.206970e+06</td>\n",
       "    </tr>\n",
       "    <tr>\n",
       "      <td>3</td>\n",
       "      <td>1. FSV Mainz 05</td>\n",
       "      <td>[78, 78, 78, 77, 75, 75, 75, 75, 75, 75, 74, 7...</td>\n",
       "      <td>69.969697</td>\n",
       "      <td>4.636364e+06</td>\n",
       "    </tr>\n",
       "    <tr>\n",
       "      <td>4</td>\n",
       "      <td>AC Ajaccio</td>\n",
       "      <td>[70, 69, 68, 68, 68, 68, 66, 66, 65, 64, 63, 6...</td>\n",
       "      <td>62.458333</td>\n",
       "      <td>4.556250e+05</td>\n",
       "    </tr>\n",
       "    <tr>\n",
       "      <td>...</td>\n",
       "      <td>...</td>\n",
       "      <td>...</td>\n",
       "      <td>...</td>\n",
       "      <td>...</td>\n",
       "    </tr>\n",
       "    <tr>\n",
       "      <td>228</td>\n",
       "      <td>West Ham United</td>\n",
       "      <td>[84, 83, 82, 81, 80, 79, 79, 79, 78, 78, 78, 7...</td>\n",
       "      <td>72.575758</td>\n",
       "      <td>8.412576e+06</td>\n",
       "    </tr>\n",
       "    <tr>\n",
       "      <td>229</td>\n",
       "      <td>Wigan Athletic</td>\n",
       "      <td>[71, 71, 70, 70, 70, 70, 70, 69, 69, 69, 69, 6...</td>\n",
       "      <td>66.166667</td>\n",
       "      <td>9.980000e+05</td>\n",
       "    </tr>\n",
       "    <tr>\n",
       "      <td>230</td>\n",
       "      <td>Willem II</td>\n",
       "      <td>[71, 71, 70, 69, 69, 68, 68, 67, 67, 66, 66, 6...</td>\n",
       "      <td>64.681818</td>\n",
       "      <td>9.177273e+05</td>\n",
       "    </tr>\n",
       "    <tr>\n",
       "      <td>231</td>\n",
       "      <td>Wolfsberger AC</td>\n",
       "      <td>[71, 69, 69, 68, 66, 66, 66, 66, 66, 65, 65, 6...</td>\n",
       "      <td>62.961538</td>\n",
       "      <td>5.176923e+05</td>\n",
       "    </tr>\n",
       "    <tr>\n",
       "      <td>232</td>\n",
       "      <td>Wolverhampton Wanderers</td>\n",
       "      <td>[84, 83, 82, 80, 80, 79, 79, 78, 78, 77, 77, 7...</td>\n",
       "      <td>70.454545</td>\n",
       "      <td>7.016667e+06</td>\n",
       "    </tr>\n",
       "  </tbody>\n",
       "</table>\n",
       "<p>233 rows × 4 columns</p>\n",
       "</div>"
      ],
      "text/plain": [
       "                        club  \\\n",
       "0       1. FC Kaiserslautern   \n",
       "1                 1. FC Köln   \n",
       "2         1. FC Union Berlin   \n",
       "3            1. FSV Mainz 05   \n",
       "4                 AC Ajaccio   \n",
       "..                       ...   \n",
       "228          West Ham United   \n",
       "229           Wigan Athletic   \n",
       "230                Willem II   \n",
       "231           Wolfsberger AC   \n",
       "232  Wolverhampton Wanderers   \n",
       "\n",
       "                                            score_list    overall  \\\n",
       "0    [69, 68, 68, 67, 67, 66, 66, 66, 66, 65, 65, 6...  63.750000   \n",
       "1    [81, 79, 79, 78, 77, 76, 76, 76, 75, 75, 75, 7...  71.612903   \n",
       "2    [77, 75, 74, 73, 73, 73, 73, 73, 72, 72, 72, 7...  68.787879   \n",
       "3    [78, 78, 78, 77, 75, 75, 75, 75, 75, 75, 74, 7...  69.969697   \n",
       "4    [70, 69, 68, 68, 68, 68, 66, 66, 65, 64, 63, 6...  62.458333   \n",
       "..                                                 ...        ...   \n",
       "228  [84, 83, 82, 81, 80, 79, 79, 79, 78, 78, 78, 7...  72.575758   \n",
       "229  [71, 71, 70, 70, 70, 70, 70, 69, 69, 69, 69, 6...  66.166667   \n",
       "230  [71, 71, 70, 69, 69, 68, 68, 67, 67, 66, 66, 6...  64.681818   \n",
       "231  [71, 69, 69, 68, 66, 66, 66, 66, 66, 65, 65, 6...  62.961538   \n",
       "232  [84, 83, 82, 80, 80, 79, 79, 78, 78, 77, 77, 7...  70.454545   \n",
       "\n",
       "        value_eur  \n",
       "0    6.039286e+05  \n",
       "1    5.360000e+06  \n",
       "2    2.206970e+06  \n",
       "3    4.636364e+06  \n",
       "4    4.556250e+05  \n",
       "..            ...  \n",
       "228  8.412576e+06  \n",
       "229  9.980000e+05  \n",
       "230  9.177273e+05  \n",
       "231  5.176923e+05  \n",
       "232  7.016667e+06  \n",
       "\n",
       "[233 rows x 4 columns]"
      ]
     },
     "execution_count": 137,
     "metadata": {},
     "output_type": "execute_result"
    }
   ],
   "source": [
    "attributes_df.merge(team_attributes_df[['overall','value_eur','club']],how='left',left_on='club',right_on='club')"
   ]
  },
  {
   "cell_type": "code",
   "execution_count": 138,
   "metadata": {
    "ExecuteTime": {
     "end_time": "2020-01-10T00:23:50.651382Z",
     "start_time": "2020-01-10T00:23:50.641841Z"
    }
   },
   "outputs": [],
   "source": [
    "#introduce club score data scraped from https://projects.fivethirtyeight.com/global-club-soccer-rankings/\n",
    "pkl_file = open('./temporary_pkl/club_score_df.pkl','rb')\n",
    "club_score_df = pickle.load(pkl_file)\n",
    "pkl_file.close()"
   ]
  },
  {
   "cell_type": "code",
   "execution_count": null,
   "metadata": {},
   "outputs": [],
   "source": []
  }
 ],
 "metadata": {
  "kernelspec": {
   "display_name": "Python 3",
   "language": "python",
   "name": "python3"
  },
  "language_info": {
   "codemirror_mode": {
    "name": "ipython",
    "version": 3
   },
   "file_extension": ".py",
   "mimetype": "text/x-python",
   "name": "python",
   "nbconvert_exporter": "python",
   "pygments_lexer": "ipython3",
   "version": "3.7.3"
  }
 },
 "nbformat": 4,
 "nbformat_minor": 2
}
