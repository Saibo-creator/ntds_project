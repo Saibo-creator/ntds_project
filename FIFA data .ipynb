{
 "cells": [
  {
   "cell_type": "code",
   "execution_count": 76,
   "metadata": {
    "ExecuteTime": {
     "end_time": "2020-01-08T00:07:25.658196Z",
     "start_time": "2020-01-08T00:07:25.654700Z"
    }
   },
   "outputs": [],
   "source": [
    "import pandas as pd\n",
    "import numpy as np"
   ]
  },
  {
   "cell_type": "code",
   "execution_count": 107,
   "metadata": {
    "ExecuteTime": {
     "end_time": "2020-01-08T00:11:42.259708Z",
     "start_time": "2020-01-08T00:11:41.968824Z"
    }
   },
   "outputs": [],
   "source": [
    "filename=\"./fifa data/fifa2019data.csv\"\n",
    "fifa_df=pd.read_csv(filename)"
   ]
  },
  {
   "cell_type": "code",
   "execution_count": 108,
   "metadata": {
    "ExecuteTime": {
     "end_time": "2020-01-08T00:11:42.265373Z",
     "start_time": "2020-01-08T00:11:42.261565Z"
    }
   },
   "outputs": [
    {
     "data": {
      "text/plain": [
       "Index(['Unnamed: 0', 'ID', 'Name', 'Age', 'Photo', 'Nationality', 'Flag',\n",
       "       'Overall', 'Potential', 'Club', 'Club Logo', 'Value', 'Wage', 'Special',\n",
       "       'Preferred Foot', 'International Reputation', 'Weak Foot',\n",
       "       'Skill Moves', 'Work Rate', 'Body Type', 'Real Face', 'Position',\n",
       "       'Jersey Number', 'Joined', 'Loaned From', 'Contract Valid Until',\n",
       "       'Height', 'Weight', 'LS', 'ST', 'RS', 'LW', 'LF', 'CF', 'RF', 'RW',\n",
       "       'LAM', 'CAM', 'RAM', 'LM', 'LCM', 'CM', 'RCM', 'RM', 'LWB', 'LDM',\n",
       "       'CDM', 'RDM', 'RWB', 'LB', 'LCB', 'CB', 'RCB', 'RB', 'Crossing',\n",
       "       'Finishing', 'HeadingAccuracy', 'ShortPassing', 'Volleys', 'Dribbling',\n",
       "       'Curve', 'FKAccuracy', 'LongPassing', 'BallControl', 'Acceleration',\n",
       "       'SprintSpeed', 'Agility', 'Reactions', 'Balance', 'ShotPower',\n",
       "       'Jumping', 'Stamina', 'Strength', 'LongShots', 'Aggression',\n",
       "       'Interceptions', 'Positioning', 'Vision', 'Penalties', 'Composure',\n",
       "       'Marking', 'StandingTackle', 'SlidingTackle', 'GKDiving', 'GKHandling',\n",
       "       'GKKicking', 'GKPositioning', 'GKReflexes', 'Release Clause'],\n",
       "      dtype='object')"
      ]
     },
     "execution_count": 108,
     "metadata": {},
     "output_type": "execute_result"
    }
   ],
   "source": [
    "fifa_df.columns"
   ]
  },
  {
   "cell_type": "code",
   "execution_count": 109,
   "metadata": {
    "ExecuteTime": {
     "end_time": "2020-01-08T00:11:42.289203Z",
     "start_time": "2020-01-08T00:11:42.266706Z"
    }
   },
   "outputs": [],
   "source": [
    "fifa_df['Release Clause']\n",
    "fifa_df=fifa_df.rename(columns = {'Release Clause':'ReleaseClause'})"
   ]
  },
  {
   "cell_type": "code",
   "execution_count": 110,
   "metadata": {
    "ExecuteTime": {
     "end_time": "2020-01-08T00:11:42.882173Z",
     "start_time": "2020-01-08T00:11:42.837317Z"
    }
   },
   "outputs": [],
   "source": [
    "def currency_cleaner(amount):\n",
    "    if amount.endswith('M'):   \n",
    "        return float(amount[1:-1])*1e6\n",
    "    if amount.endswith('K'):\n",
    "        return float(amount[1:-1])*1e3\n",
    "fifa_df.Value=fifa_df.Value.apply(currency_cleaner)\n",
    "fifa_df.Wage=fifa_df.Wage.apply(currency_cleaner)\n"
   ]
  },
  {
   "cell_type": "code",
   "execution_count": 54,
   "metadata": {
    "ExecuteTime": {
     "end_time": "2020-01-08T00:03:17.635203Z",
     "start_time": "2020-01-08T00:03:17.598900Z"
    }
   },
   "outputs": [
    {
     "data": {
      "text/html": [
       "<div>\n",
       "<style scoped>\n",
       "    .dataframe tbody tr th:only-of-type {\n",
       "        vertical-align: middle;\n",
       "    }\n",
       "\n",
       "    .dataframe tbody tr th {\n",
       "        vertical-align: top;\n",
       "    }\n",
       "\n",
       "    .dataframe thead th {\n",
       "        text-align: right;\n",
       "    }\n",
       "</style>\n",
       "<table border=\"1\" class=\"dataframe\">\n",
       "  <thead>\n",
       "    <tr style=\"text-align: right;\">\n",
       "      <th></th>\n",
       "      <th>Value</th>\n",
       "      <th>Wage</th>\n",
       "      <th>Age</th>\n",
       "      <th>Potential</th>\n",
       "      <th>International Reputation</th>\n",
       "    </tr>\n",
       "    <tr>\n",
       "      <th>Club</th>\n",
       "      <th></th>\n",
       "      <th></th>\n",
       "      <th></th>\n",
       "      <th></th>\n",
       "      <th></th>\n",
       "    </tr>\n",
       "  </thead>\n",
       "  <tbody>\n",
       "    <tr>\n",
       "      <td>Juventus</td>\n",
       "      <td>2.817900e+07</td>\n",
       "      <td>131680.000000</td>\n",
       "      <td>27.160000</td>\n",
       "      <td>85.520000</td>\n",
       "      <td>2.520000</td>\n",
       "    </tr>\n",
       "    <tr>\n",
       "      <td>Real Madrid</td>\n",
       "      <td>2.649773e+07</td>\n",
       "      <td>152030.303030</td>\n",
       "      <td>24.030303</td>\n",
       "      <td>84.636364</td>\n",
       "      <td>2.090909</td>\n",
       "    </tr>\n",
       "    <tr>\n",
       "      <td>FC Barcelona</td>\n",
       "      <td>2.583636e+07</td>\n",
       "      <td>146575.757576</td>\n",
       "      <td>23.848485</td>\n",
       "      <td>85.303030</td>\n",
       "      <td>2.242424</td>\n",
       "    </tr>\n",
       "    <tr>\n",
       "      <td>Manchester City</td>\n",
       "      <td>2.383500e+07</td>\n",
       "      <td>113363.636364</td>\n",
       "      <td>23.909091</td>\n",
       "      <td>83.909091</td>\n",
       "      <td>2.090909</td>\n",
       "    </tr>\n",
       "    <tr>\n",
       "      <td>FC Bayern München</td>\n",
       "      <td>2.341466e+07</td>\n",
       "      <td>78827.586207</td>\n",
       "      <td>24.310345</td>\n",
       "      <td>83.655172</td>\n",
       "      <td>2.517241</td>\n",
       "    </tr>\n",
       "    <tr>\n",
       "      <td>...</td>\n",
       "      <td>...</td>\n",
       "      <td>...</td>\n",
       "      <td>...</td>\n",
       "      <td>...</td>\n",
       "      <td>...</td>\n",
       "    </tr>\n",
       "    <tr>\n",
       "      <td>Morecambe</td>\n",
       "      <td>1.682143e+05</td>\n",
       "      <td>1642.857143</td>\n",
       "      <td>25.071429</td>\n",
       "      <td>62.178571</td>\n",
       "      <td>1.000000</td>\n",
       "    </tr>\n",
       "    <tr>\n",
       "      <td>Derry City</td>\n",
       "      <td>1.552778e+05</td>\n",
       "      <td>1055.555556</td>\n",
       "      <td>22.111111</td>\n",
       "      <td>65.888889</td>\n",
       "      <td>1.000000</td>\n",
       "    </tr>\n",
       "    <tr>\n",
       "      <td>Bohemian FC</td>\n",
       "      <td>1.278000e+05</td>\n",
       "      <td>1000.000000</td>\n",
       "      <td>21.480000</td>\n",
       "      <td>64.240000</td>\n",
       "      <td>1.000000</td>\n",
       "    </tr>\n",
       "    <tr>\n",
       "      <td>Limerick FC</td>\n",
       "      <td>1.073684e+05</td>\n",
       "      <td>1000.000000</td>\n",
       "      <td>22.947368</td>\n",
       "      <td>61.263158</td>\n",
       "      <td>1.000000</td>\n",
       "    </tr>\n",
       "    <tr>\n",
       "      <td>Bray Wanderers</td>\n",
       "      <td>8.391304e+04</td>\n",
       "      <td>1000.000000</td>\n",
       "      <td>22.217391</td>\n",
       "      <td>62.608696</td>\n",
       "      <td>1.000000</td>\n",
       "    </tr>\n",
       "  </tbody>\n",
       "</table>\n",
       "<p>651 rows × 5 columns</p>\n",
       "</div>"
      ],
      "text/plain": [
       "                          Value           Wage        Age  Potential  \\\n",
       "Club                                                                   \n",
       "Juventus           2.817900e+07  131680.000000  27.160000  85.520000   \n",
       "Real Madrid        2.649773e+07  152030.303030  24.030303  84.636364   \n",
       "FC Barcelona       2.583636e+07  146575.757576  23.848485  85.303030   \n",
       "Manchester City    2.383500e+07  113363.636364  23.909091  83.909091   \n",
       "FC Bayern München  2.341466e+07   78827.586207  24.310345  83.655172   \n",
       "...                         ...            ...        ...        ...   \n",
       "Morecambe          1.682143e+05    1642.857143  25.071429  62.178571   \n",
       "Derry City         1.552778e+05    1055.555556  22.111111  65.888889   \n",
       "Bohemian FC        1.278000e+05    1000.000000  21.480000  64.240000   \n",
       "Limerick FC        1.073684e+05    1000.000000  22.947368  61.263158   \n",
       "Bray Wanderers     8.391304e+04    1000.000000  22.217391  62.608696   \n",
       "\n",
       "                   International Reputation  \n",
       "Club                                         \n",
       "Juventus                           2.520000  \n",
       "Real Madrid                        2.090909  \n",
       "FC Barcelona                       2.242424  \n",
       "Manchester City                    2.090909  \n",
       "FC Bayern München                  2.517241  \n",
       "...                                     ...  \n",
       "Morecambe                          1.000000  \n",
       "Derry City                         1.000000  \n",
       "Bohemian FC                        1.000000  \n",
       "Limerick FC                        1.000000  \n",
       "Bray Wanderers                     1.000000  \n",
       "\n",
       "[651 rows x 5 columns]"
      ]
     },
     "execution_count": 54,
     "metadata": {},
     "output_type": "execute_result"
    }
   ],
   "source": [
    "fifa_df.groupby('Club').mean()[['Value','Wage','Age','Potential','International Reputation']].sort_values(by='Value',ascending=False)"
   ]
  },
  {
   "cell_type": "code",
   "execution_count": 43,
   "metadata": {
    "ExecuteTime": {
     "end_time": "2020-01-08T00:01:09.511645Z",
     "start_time": "2020-01-08T00:01:09.503577Z"
    }
   },
   "outputs": [],
   "source": []
  },
  {
   "cell_type": "code",
   "execution_count": null,
   "metadata": {},
   "outputs": [],
   "source": []
  }
 ],
 "metadata": {
  "kernelspec": {
   "display_name": "Python 3",
   "language": "python",
   "name": "python3"
  },
  "language_info": {
   "codemirror_mode": {
    "name": "ipython",
    "version": 3
   },
   "file_extension": ".py",
   "mimetype": "text/x-python",
   "name": "python",
   "nbconvert_exporter": "python",
   "pygments_lexer": "ipython3",
   "version": "3.7.3"
  }
 },
 "nbformat": 4,
 "nbformat_minor": 2
}
