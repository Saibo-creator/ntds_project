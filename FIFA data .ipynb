{
 "cells": [
  {
   "cell_type": "code",
   "execution_count": 51,
   "metadata": {
    "ExecuteTime": {
     "end_time": "2020-01-09T20:35:05.005893Z",
     "start_time": "2020-01-09T20:35:05.002925Z"
    }
   },
   "outputs": [],
   "source": [
    "import pandas as pd\n",
    "import numpy as np\n",
    "import pickle"
   ]
  },
  {
   "cell_type": "code",
   "execution_count": 118,
   "metadata": {
    "ExecuteTime": {
     "end_time": "2020-01-10T00:20:10.581107Z",
     "start_time": "2020-01-10T00:20:10.310690Z"
    }
   },
   "outputs": [],
   "source": [
    "filename=\"./fifa data/fifa2020data.csv\"\n",
    "fifa_df=pd.read_csv(filename)"
   ]
  },
  {
   "cell_type": "code",
   "execution_count": 122,
   "metadata": {
    "ExecuteTime": {
     "end_time": "2020-01-10T00:20:48.681614Z",
     "start_time": "2020-01-10T00:20:48.676268Z"
    }
   },
   "outputs": [
    {
     "data": {
      "text/plain": [
       "Index(['sofifa_id', 'player_url', 'short_name', 'long_name', 'age', 'dob',\n",
       "       'height_cm', 'weight_kg', 'nationality', 'club', 'overall', 'potential',\n",
       "       'value_eur', 'wage_eur', 'player_positions', 'preferred_foot',\n",
       "       'international_reputation', 'weak_foot', 'skill_moves', 'work_rate'],\n",
       "      dtype='object')"
      ]
     },
     "execution_count": 122,
     "metadata": {},
     "output_type": "execute_result"
    }
   ],
   "source": [
    "#check data schema\n",
    "fifa_df.columns[:20]"
   ]
  },
  {
   "cell_type": "code",
   "execution_count": 120,
   "metadata": {
    "ExecuteTime": {
     "end_time": "2020-01-10T00:20:17.793318Z",
     "start_time": "2020-01-10T00:20:17.791386Z"
    }
   },
   "outputs": [],
   "source": [
    "# fifa_df['Release Clause']\n",
    "# fifa_df=fifa_df.rename(columns = {'Release Clause':'ReleaseClause'})"
   ]
  },
  {
   "cell_type": "code",
   "execution_count": 121,
   "metadata": {
    "ExecuteTime": {
     "end_time": "2020-01-10T00:20:25.674968Z",
     "start_time": "2020-01-10T00:20:25.671629Z"
    }
   },
   "outputs": [],
   "source": [
    "# # clean currency column\n",
    "# def currency_cleaner(amount):\n",
    "#     if amount.endswith('M'):   \n",
    "#         return float(amount[1:-1])*1e6\n",
    "#     if amount.endswith('K'):\n",
    "#         return float(amount[1:-1])*1e3\n",
    "# fifa_df.Value=fifa_df.Value.apply(currency_cleaner)\n",
    "# fifa_df.Wage=fifa_df.Wage.apply(currency_cleaner)\n"
   ]
  },
  {
   "cell_type": "code",
   "execution_count": 126,
   "metadata": {
    "ExecuteTime": {
     "end_time": "2020-01-10T00:21:49.358892Z",
     "start_time": "2020-01-10T00:21:49.334258Z"
    }
   },
   "outputs": [],
   "source": [
    "team_attributes_df=fifa_df.groupby('club').mean()[['overall','value_eur','wage_eur','age','potential','international_reputation']].sort_values(by='value_eur',ascending=False)\n",
    "\n",
    "team_attributes_df=team_attributes_df.reset_index()\n",
    "\n",
    "team_attributes_df\n",
    "\n",
    "FIFA_club_name=team_attributes_df['club'].unique()"
   ]
  },
  {
   "cell_type": "code",
   "execution_count": 127,
   "metadata": {
    "ExecuteTime": {
     "end_time": "2020-01-10T00:22:04.658217Z",
     "start_time": "2020-01-10T00:22:04.628793Z"
    }
   },
   "outputs": [],
   "source": [
    "network_club_name=['RB Leipzig', 'Borussia Dortmund', 'Schalke ', 'Augsburg',\n",
    "       'Bayer  Leverkusen', 'TSG  Hoffenheim', 'Werder Bremen',\n",
    "       'Hertha B', 'Borussia Mönchengladbach', 'Eintracht Frankfurt',\n",
    "       'Wolfsburg', 'VfB Stuttgart', 'Hannover ', 'Darmstadt ',\n",
    "       'Ingolstadt ', 'Hamburger', '.F Mainz ', '.  Köln',\n",
    "       'Arminia Bielefeld', 'Alemannia Aachen', 'Bochum', '. Nuremberg',\n",
    "       'Energie Cottbus', 'Bayern Munich', 'Fortuna Düsseldorf',\n",
    "       'Freiburg', 'M Duisburg', 'St. Pauli', 'SpVgg Greuther Fürth',\n",
    "       'T  Munich', 'Hansa Rostock', '. Kaiserslautern',\n",
    "       'Eintracht Braunschweig', 'Paderborn ', 'Karlsruher',\n",
    "       '. Union Berlin', 'SpVgg Unterhaching', 'SBV Excelsior Rotterdam',\n",
    "       'NEC Nijmegen', 'Heracles Almelo', 'Willem II Tilburg', 'Utrecht',\n",
    "       'Cambuur-Leeuwarden', 'ADO Den Haag', 'De Graafschap Doetinchem',\n",
    "       'Roda JC Kerkrade', 'Twente Enschede', 'AZ Alkmaar',\n",
    "       'Ajax Amsterdam', 'Groningen', 'Vitesse Arnhem', 'R Roosendaal',\n",
    "       'RKC Waalwijk', 'NAC Breda', 'Feyenoord Rotterdam', 'Den Bosch',\n",
    "       'P Eindhoven', 'Heerenveen', 'PEC Zwolle', 'Dordrecht',\n",
    "       'Go Ahead Eagles Deventer', 'Sparta Rotterdam', 'VVV-Venlo',\n",
    "       'Volendam', 'Fortuna Sittard', 'Zwolle', 'Emmen',\n",
    "       'Atlético Madrid', 'Granada', 'Celta de Vigo', 'Levante',\n",
    "       'Espanyol Barcelona', 'Girona', 'Getafe', 'Athletic Bilbao',\n",
    "       'Real Sociedad', 'Real Madrid', 'Real Betis', 'Real Valladolid',\n",
    "       'Sevilla', 'Mallorca', 'CA Osasuna', 'Rayo Vallecano', 'Barcelona',\n",
    "       'Real Zaragoza', 'Real Murcia', 'Eibar', 'Málaga',\n",
    "       'Sporting Gijón', 'Huesca', 'Villarreal', 'Valencia',\n",
    "       'Deportivo Alavés', 'Gimnàstic de Tarragona', 'Recreativo Huelva',\n",
    "       'Las Palmas', 'Deportivo de La Coruña', 'Tenerife',\n",
    "       'Racing Santander', 'Leganés', 'Numancia', 'Almería', 'Xerez',\n",
    "       'Real Oviedo', 'Hércules', 'Córdoba', 'Elche', 'Cádiz', 'Albacete',\n",
    "       'Le Mans Union Club ', 'Valenciennes', 'RC Lens', 'Montpellier',\n",
    "       'Lyon', 'Lille', 'Paris Saint-Germain', 'Saint-Étienne',\n",
    "       'Sochaux-Montbéliard', 'Lorient', 'Stade Brest ',\n",
    "       'Athlétic Club Arlésien', 'Nancy-Lorraine', 'Boulogne', 'SM Caen',\n",
    "       'Nice', 'Girondins Bordeaux', 'Monaco', 'Grenoble Foot ',\n",
    "       'Stade Rennais', 'AJ Auxerre', 'Toulouse', 'Marseille',\n",
    "       'Stade Reims', 'O Angers', 'Bastia', 'Metz',\n",
    "       'RC Strasbourg Alsace', 'O Dijon', 'Nantes', 'EA Guingamp',\n",
    "       'Amiens', 'G Ajaccio', 'Évian Thonon Gaillard', 'ES Troyes AC',\n",
    "       'AC Ajaccio', 'Nîmes', 'Sedan-Ardennes', 'AC Le Havre',\n",
    "       'Istres Ouest Provence', 'Manchester United', 'Manchester City',\n",
    "       'Newcastle United', 'Liverpool', 'Hull City', 'Everton',\n",
    "       'Crystal Palace', 'Leicester City', 'Queens Park Rangers',\n",
    "       'Tottenham Hotspur', 'Swansea City', 'West Ham United',\n",
    "       'West Bromwich Albion', 'Southampton', 'Sunderland A',\n",
    "       'Stoke City', 'Chelsea', 'Fulham', 'Birmingham City',\n",
    "       'Charlton Athletic', 'Leeds United', 'Aston Villa',\n",
    "       'Middlesbrough', 'Blackburn Rovers', 'Ipswich Town', 'Arsenal',\n",
    "       'Bolton Wanderers', 'Burnley', 'Wigan Athletic', 'Derby County',\n",
    "       'Watford', 'A Bournemouth', 'Norwich City', 'Sheffield United',\n",
    "       'Brighton & Hove Albion', 'Portsmouth', 'Reading', 'Coventry City',\n",
    "       'Bradford City', 'Cardiff City', 'Wolverhampton Wanderers',\n",
    "       'Huddersfield Town', 'Blackpool', 'Sporting CP', 'Braga',\n",
    "       'Vitória Setúbal', 'Porto', 'Feirense', 'Tondela', 'Moreirense',\n",
    "       'Boavista Porto', 'Benfica', 'Nacional', 'Gil Vicente',\n",
    "       'Santa Clara', 'Belenenses SAD', 'Rio Ave', 'Vitória Guimarães',\n",
    "       'Marítimo', 'União de Leiria', 'Paços de Ferreira',\n",
    "       'Varzim Sport Club', 'Académica Coimbra', 'Beira-Mar',\n",
    "       'Portimonense', 'Penafiel', 'Arouca', 'Estrela Amadora',\n",
    "       'Naval º de Maio', 'Desportivo Aves', 'GD Chaves', 'GD Estoril',\n",
    "       'Olhanense', 'Leixões', 'Trofense', 'Alverca', 'União Madeira',\n",
    "       'Famalicão', 'Salgueiros', 'Farense', 'Campomaiorense', 'Juventus',\n",
    "       'Torino', 'Livorno', 'Florentia Viola', 'Empoli', 'Lecce',\n",
    "       'Bologna', 'Sampdoria', 'Udinese', 'Milan AC', 'Internazionale',\n",
    "       'Cagliari', 'AC Perugia', 'Brescia', 'SPAL', 'Hellas Verona',\n",
    "       'Chievo Verona', 'Roma', 'Lazio', 'AC Venezia ', 'Atalanta',\n",
    "       'AC Siena', 'Bari', 'Napoli', 'Benevento', 'Vicenza', 'Reggina',\n",
    "       'Crotone', 'A Fiorentina', 'AC Parma', 'AC Fiorentina', 'Sassuolo',\n",
    "       'Modena  ', 'SPAL ', 'Inter Milan', 'Genoa C', 'AC Milan',\n",
    "       'Catania', 'Parma  ', 'Piacenza', 'Frosinone', 'Como', 'Palermo',\n",
    "       'Parma', 'AC Cesena', 'Ascoli  ', 'Messina Peloro',\n",
    "       'Delfino Pescara ', 'Ancona', 'Novara  ', 'A Treviso', 'Carpi']"
   ]
  },
  {
   "cell_type": "code",
   "execution_count": 128,
   "metadata": {
    "ExecuteTime": {
     "end_time": "2020-01-10T00:22:05.243262Z",
     "start_time": "2020-01-10T00:22:05.227079Z"
    }
   },
   "outputs": [],
   "source": [
    "missing_club=[club for club in network_club_name if not(club in  FIFA_club_name)]"
   ]
  },
  {
   "cell_type": "code",
   "execution_count": 129,
   "metadata": {
    "ExecuteTime": {
     "end_time": "2020-01-10T00:22:06.160656Z",
     "start_time": "2020-01-10T00:22:06.157266Z"
    }
   },
   "outputs": [
    {
     "data": {
      "text/plain": [
       "183"
      ]
     },
     "execution_count": 129,
     "metadata": {},
     "output_type": "execute_result"
    }
   ],
   "source": [
    "len(missing_club)"
   ]
  },
  {
   "cell_type": "code",
   "execution_count": 130,
   "metadata": {
    "ExecuteTime": {
     "end_time": "2020-01-10T00:22:08.084643Z",
     "start_time": "2020-01-10T00:22:08.078868Z"
    }
   },
   "outputs": [
    {
     "data": {
      "text/plain": [
       "['Schalke ',\n",
       " 'Augsburg',\n",
       " 'Bayer  Leverkusen',\n",
       " 'TSG  Hoffenheim',\n",
       " 'Werder Bremen',\n",
       " 'Hertha B',\n",
       " 'Wolfsburg',\n",
       " 'Hannover ',\n",
       " 'Darmstadt ',\n",
       " 'Ingolstadt ',\n",
       " 'Hamburger',\n",
       " '.F Mainz ',\n",
       " '.  Köln',\n",
       " 'Arminia Bielefeld',\n",
       " 'Alemannia Aachen',\n",
       " 'Bochum',\n",
       " '. Nuremberg',\n",
       " 'Energie Cottbus',\n",
       " 'Bayern Munich',\n",
       " 'Freiburg',\n",
       " 'M Duisburg',\n",
       " 'St. Pauli',\n",
       " 'T  Munich',\n",
       " 'Hansa Rostock',\n",
       " '. Kaiserslautern',\n",
       " 'Paderborn ',\n",
       " 'Karlsruher',\n",
       " '. Union Berlin',\n",
       " 'SBV Excelsior Rotterdam',\n",
       " 'NEC Nijmegen',\n",
       " 'Willem II Tilburg',\n",
       " 'Utrecht',\n",
       " 'Cambuur-Leeuwarden',\n",
       " 'De Graafschap Doetinchem',\n",
       " 'Roda JC Kerkrade',\n",
       " 'Twente Enschede',\n",
       " 'Ajax Amsterdam',\n",
       " 'Groningen',\n",
       " 'Vitesse Arnhem',\n",
       " 'R Roosendaal',\n",
       " 'NAC Breda',\n",
       " 'Feyenoord Rotterdam',\n",
       " 'Den Bosch',\n",
       " 'P Eindhoven',\n",
       " 'Heerenveen',\n",
       " 'Dordrecht',\n",
       " 'Go Ahead Eagles Deventer',\n",
       " 'Volendam',\n",
       " 'Zwolle',\n",
       " 'Emmen',\n",
       " 'Granada',\n",
       " 'Celta de Vigo',\n",
       " 'Levante',\n",
       " 'Espanyol Barcelona',\n",
       " 'Girona',\n",
       " 'Getafe',\n",
       " 'Athletic Bilbao',\n",
       " 'Real Valladolid',\n",
       " 'Sevilla',\n",
       " 'Mallorca',\n",
       " 'Barcelona',\n",
       " 'Real Murcia',\n",
       " 'Eibar',\n",
       " 'Málaga',\n",
       " 'Sporting Gijón',\n",
       " 'Huesca',\n",
       " 'Villarreal',\n",
       " 'Valencia',\n",
       " 'Gimnàstic de Tarragona',\n",
       " 'Recreativo Huelva',\n",
       " 'Las Palmas',\n",
       " 'Tenerife',\n",
       " 'Leganés',\n",
       " 'Numancia',\n",
       " 'Almería',\n",
       " 'Xerez',\n",
       " 'Hércules',\n",
       " 'Córdoba',\n",
       " 'Elche',\n",
       " 'Cádiz',\n",
       " 'Albacete',\n",
       " 'Le Mans Union Club ',\n",
       " 'Valenciennes',\n",
       " 'RC Lens',\n",
       " 'Montpellier',\n",
       " 'Lyon',\n",
       " 'Lille',\n",
       " 'Saint-Étienne',\n",
       " 'Sochaux-Montbéliard',\n",
       " 'Lorient',\n",
       " 'Stade Brest ',\n",
       " 'Athlétic Club Arlésien',\n",
       " 'Nancy-Lorraine',\n",
       " 'Boulogne',\n",
       " 'SM Caen',\n",
       " 'Nice',\n",
       " 'Girondins Bordeaux',\n",
       " 'Monaco',\n",
       " 'Grenoble Foot ',\n",
       " 'Stade Rennais',\n",
       " 'Toulouse',\n",
       " 'Marseille',\n",
       " 'Stade Reims',\n",
       " 'O Angers',\n",
       " 'Bastia',\n",
       " 'Metz',\n",
       " 'O Dijon',\n",
       " 'Nantes',\n",
       " 'EA Guingamp',\n",
       " 'Amiens',\n",
       " 'G Ajaccio',\n",
       " 'Évian Thonon Gaillard',\n",
       " 'ES Troyes AC',\n",
       " 'Nîmes',\n",
       " 'Sedan-Ardennes',\n",
       " 'AC Le Havre',\n",
       " 'Istres Ouest Provence',\n",
       " 'Sunderland A',\n",
       " 'A Bournemouth',\n",
       " 'Braga',\n",
       " 'Vitória Setúbal',\n",
       " 'Porto',\n",
       " 'Feirense',\n",
       " 'Tondela',\n",
       " 'Moreirense',\n",
       " 'Boavista Porto',\n",
       " 'Benfica',\n",
       " 'Nacional',\n",
       " 'Gil Vicente',\n",
       " 'Belenenses SAD',\n",
       " 'Rio Ave',\n",
       " 'Marítimo',\n",
       " 'União de Leiria',\n",
       " 'Paços de Ferreira',\n",
       " 'Varzim Sport Club',\n",
       " 'Académica Coimbra',\n",
       " 'Beira-Mar',\n",
       " 'Portimonense',\n",
       " 'Penafiel',\n",
       " 'Arouca',\n",
       " 'Estrela Amadora',\n",
       " 'Naval º de Maio',\n",
       " 'Desportivo Aves',\n",
       " 'GD Chaves',\n",
       " 'GD Estoril',\n",
       " 'Olhanense',\n",
       " 'Leixões',\n",
       " 'Trofense',\n",
       " 'Alverca',\n",
       " 'União Madeira',\n",
       " 'Salgueiros',\n",
       " 'Farense',\n",
       " 'Campomaiorense',\n",
       " 'Florentia Viola',\n",
       " 'Milan AC',\n",
       " 'Internazionale',\n",
       " 'AC Perugia',\n",
       " 'AC Venezia ',\n",
       " 'AC Siena',\n",
       " 'Bari',\n",
       " 'Vicenza',\n",
       " 'Reggina',\n",
       " 'A Fiorentina',\n",
       " 'AC Parma',\n",
       " 'AC Fiorentina',\n",
       " 'Modena  ',\n",
       " 'SPAL ',\n",
       " 'Inter Milan',\n",
       " 'Genoa C',\n",
       " 'AC Milan',\n",
       " 'Catania',\n",
       " 'Parma  ',\n",
       " 'Piacenza',\n",
       " 'Como',\n",
       " 'Palermo',\n",
       " 'AC Cesena',\n",
       " 'Ascoli  ',\n",
       " 'Messina Peloro',\n",
       " 'Delfino Pescara ',\n",
       " 'Ancona',\n",
       " 'Novara  ',\n",
       " 'A Treviso',\n",
       " 'Carpi']"
      ]
     },
     "execution_count": 130,
     "metadata": {},
     "output_type": "execute_result"
    }
   ],
   "source": [
    "missing_club"
   ]
  },
  {
   "cell_type": "code",
   "execution_count": 131,
   "metadata": {
    "ExecuteTime": {
     "end_time": "2020-01-10T00:22:11.922085Z",
     "start_time": "2020-01-10T00:22:11.729230Z"
    }
   },
   "outputs": [
    {
     "data": {
      "text/plain": [
       "('Bayer 04 Leverkusen', 95)"
      ]
     },
     "execution_count": 131,
     "metadata": {},
     "output_type": "execute_result"
    }
   ],
   "source": [
    "from fuzzywuzzy import process\n",
    "choices=FIFA_club_name\n",
    "process.extractOne('Bayer  Leverkusen', choices)"
   ]
  },
  {
   "cell_type": "code",
   "execution_count": 65,
   "metadata": {
    "ExecuteTime": {
     "end_time": "2020-01-09T20:37:08.442362Z",
     "start_time": "2020-01-09T20:37:08.392390Z"
    }
   },
   "outputs": [],
   "source": [
    "pkl_file = open('./temporary_pkl/transfer_span_reduced.pkl','rb')\n",
    "transfer_span_reduced = pickle.load(pkl_file)\n",
    "pkl_file.close()"
   ]
  },
  {
   "cell_type": "code",
   "execution_count": 132,
   "metadata": {
    "ExecuteTime": {
     "end_time": "2020-01-10T00:22:23.912987Z",
     "start_time": "2020-01-10T00:22:23.908336Z"
    }
   },
   "outputs": [],
   "source": [
    "def rename(club,choices):\n",
    "    return process.extractOne(club, choices)[0]"
   ]
  },
  {
   "cell_type": "code",
   "execution_count": 133,
   "metadata": {
    "ExecuteTime": {
     "end_time": "2020-01-10T00:22:53.897891Z",
     "start_time": "2020-01-10T00:22:24.373512Z"
    }
   },
   "outputs": [],
   "source": [
    "#len(new_name)=282  ,  29.5 seconds\n",
    "new_name=[rename(club,choices) if not (club in FIFA_club_name) else club for club in list(transfer_span_reduced['club_name'].unique())  ]"
   ]
  },
  {
   "cell_type": "code",
   "execution_count": 134,
   "metadata": {
    "ExecuteTime": {
     "end_time": "2020-01-10T00:22:53.902885Z",
     "start_time": "2020-01-10T00:22:53.899231Z"
    }
   },
   "outputs": [
    {
     "data": {
      "text/plain": [
       "(233, 282)"
      ]
     },
     "execution_count": 134,
     "metadata": {},
     "output_type": "execute_result"
    }
   ],
   "source": [
    "len(set(new_name)),len(new_name)"
   ]
  },
  {
   "cell_type": "code",
   "execution_count": 135,
   "metadata": {
    "ExecuteTime": {
     "end_time": "2020-01-10T00:23:05.343878Z",
     "start_time": "2020-01-10T00:23:05.328622Z"
    }
   },
   "outputs": [],
   "source": [
    "fifa_df_reduced=fifa_df[fifa_df['club'].isin(new_name)]"
   ]
  },
  {
   "cell_type": "code",
   "execution_count": 136,
   "metadata": {
    "ExecuteTime": {
     "end_time": "2020-01-10T00:23:09.363298Z",
     "start_time": "2020-01-10T00:23:09.311762Z"
    }
   },
   "outputs": [],
   "source": [
    "attributes_df=fifa_df_reduced.groupby('club')['overall'].apply(list).reset_index(name='score_list')"
   ]
  },
  {
   "cell_type": "code",
   "execution_count": 137,
   "metadata": {
    "ExecuteTime": {
     "end_time": "2020-01-10T00:23:35.649376Z",
     "start_time": "2020-01-10T00:23:35.614122Z"
    },
    "scrolled": true
   },
   "outputs": [
    {
     "data": {
      "text/html": [
       "<div>\n",
       "<style scoped>\n",
       "    .dataframe tbody tr th:only-of-type {\n",
       "        vertical-align: middle;\n",
       "    }\n",
       "\n",
       "    .dataframe tbody tr th {\n",
       "        vertical-align: top;\n",
       "    }\n",
       "\n",
       "    .dataframe thead th {\n",
       "        text-align: right;\n",
       "    }\n",
       "</style>\n",
       "<table border=\"1\" class=\"dataframe\">\n",
       "  <thead>\n",
       "    <tr style=\"text-align: right;\">\n",
       "      <th></th>\n",
       "      <th>club</th>\n",
       "      <th>score_list</th>\n",
       "      <th>overall</th>\n",
       "      <th>value_eur</th>\n",
       "    </tr>\n",
       "  </thead>\n",
       "  <tbody>\n",
       "    <tr>\n",
       "      <td>0</td>\n",
       "      <td>1. FC Kaiserslautern</td>\n",
       "      <td>[69, 68, 68, 67, 67, 66, 66, 66, 66, 65, 65, 6...</td>\n",
       "      <td>63.750000</td>\n",
       "      <td>6.039286e+05</td>\n",
       "    </tr>\n",
       "    <tr>\n",
       "      <td>1</td>\n",
       "      <td>1. FC Köln</td>\n",
       "      <td>[81, 79, 79, 78, 77, 76, 76, 76, 75, 75, 75, 7...</td>\n",
       "      <td>71.612903</td>\n",
       "      <td>5.360000e+06</td>\n",
       "    </tr>\n",
       "    <tr>\n",
       "      <td>2</td>\n",
       "      <td>1. FC Union Berlin</td>\n",
       "      <td>[77, 75, 74, 73, 73, 73, 73, 73, 72, 72, 72, 7...</td>\n",
       "      <td>68.787879</td>\n",
       "      <td>2.206970e+06</td>\n",
       "    </tr>\n",
       "    <tr>\n",
       "      <td>3</td>\n",
       "      <td>1. FSV Mainz 05</td>\n",
       "      <td>[78, 78, 78, 77, 75, 75, 75, 75, 75, 75, 74, 7...</td>\n",
       "      <td>69.969697</td>\n",
       "      <td>4.636364e+06</td>\n",
       "    </tr>\n",
       "    <tr>\n",
       "      <td>4</td>\n",
       "      <td>AC Ajaccio</td>\n",
       "      <td>[70, 69, 68, 68, 68, 68, 66, 66, 65, 64, 63, 6...</td>\n",
       "      <td>62.458333</td>\n",
       "      <td>4.556250e+05</td>\n",
       "    </tr>\n",
       "    <tr>\n",
       "      <td>...</td>\n",
       "      <td>...</td>\n",
       "      <td>...</td>\n",
       "      <td>...</td>\n",
       "      <td>...</td>\n",
       "    </tr>\n",
       "    <tr>\n",
       "      <td>228</td>\n",
       "      <td>West Ham United</td>\n",
       "      <td>[84, 83, 82, 81, 80, 79, 79, 79, 78, 78, 78, 7...</td>\n",
       "      <td>72.575758</td>\n",
       "      <td>8.412576e+06</td>\n",
       "    </tr>\n",
       "    <tr>\n",
       "      <td>229</td>\n",
       "      <td>Wigan Athletic</td>\n",
       "      <td>[71, 71, 70, 70, 70, 70, 70, 69, 69, 69, 69, 6...</td>\n",
       "      <td>66.166667</td>\n",
       "      <td>9.980000e+05</td>\n",
       "    </tr>\n",
       "    <tr>\n",
       "      <td>230</td>\n",
       "      <td>Willem II</td>\n",
       "      <td>[71, 71, 70, 69, 69, 68, 68, 67, 67, 66, 66, 6...</td>\n",
       "      <td>64.681818</td>\n",
       "      <td>9.177273e+05</td>\n",
       "    </tr>\n",
       "    <tr>\n",
       "      <td>231</td>\n",
       "      <td>Wolfsberger AC</td>\n",
       "      <td>[71, 69, 69, 68, 66, 66, 66, 66, 66, 65, 65, 6...</td>\n",
       "      <td>62.961538</td>\n",
       "      <td>5.176923e+05</td>\n",
       "    </tr>\n",
       "    <tr>\n",
       "      <td>232</td>\n",
       "      <td>Wolverhampton Wanderers</td>\n",
       "      <td>[84, 83, 82, 80, 80, 79, 79, 78, 78, 77, 77, 7...</td>\n",
       "      <td>70.454545</td>\n",
       "      <td>7.016667e+06</td>\n",
       "    </tr>\n",
       "  </tbody>\n",
       "</table>\n",
       "<p>233 rows × 4 columns</p>\n",
       "</div>"
      ],
      "text/plain": [
       "                        club  \\\n",
       "0       1. FC Kaiserslautern   \n",
       "1                 1. FC Köln   \n",
       "2         1. FC Union Berlin   \n",
       "3            1. FSV Mainz 05   \n",
       "4                 AC Ajaccio   \n",
       "..                       ...   \n",
       "228          West Ham United   \n",
       "229           Wigan Athletic   \n",
       "230                Willem II   \n",
       "231           Wolfsberger AC   \n",
       "232  Wolverhampton Wanderers   \n",
       "\n",
       "                                            score_list    overall  \\\n",
       "0    [69, 68, 68, 67, 67, 66, 66, 66, 66, 65, 65, 6...  63.750000   \n",
       "1    [81, 79, 79, 78, 77, 76, 76, 76, 75, 75, 75, 7...  71.612903   \n",
       "2    [77, 75, 74, 73, 73, 73, 73, 73, 72, 72, 72, 7...  68.787879   \n",
       "3    [78, 78, 78, 77, 75, 75, 75, 75, 75, 75, 74, 7...  69.969697   \n",
       "4    [70, 69, 68, 68, 68, 68, 66, 66, 65, 64, 63, 6...  62.458333   \n",
       "..                                                 ...        ...   \n",
       "228  [84, 83, 82, 81, 80, 79, 79, 79, 78, 78, 78, 7...  72.575758   \n",
       "229  [71, 71, 70, 70, 70, 70, 70, 69, 69, 69, 69, 6...  66.166667   \n",
       "230  [71, 71, 70, 69, 69, 68, 68, 67, 67, 66, 66, 6...  64.681818   \n",
       "231  [71, 69, 69, 68, 66, 66, 66, 66, 66, 65, 65, 6...  62.961538   \n",
       "232  [84, 83, 82, 80, 80, 79, 79, 78, 78, 77, 77, 7...  70.454545   \n",
       "\n",
       "        value_eur  \n",
       "0    6.039286e+05  \n",
       "1    5.360000e+06  \n",
       "2    2.206970e+06  \n",
       "3    4.636364e+06  \n",
       "4    4.556250e+05  \n",
       "..            ...  \n",
       "228  8.412576e+06  \n",
       "229  9.980000e+05  \n",
       "230  9.177273e+05  \n",
       "231  5.176923e+05  \n",
       "232  7.016667e+06  \n",
       "\n",
       "[233 rows x 4 columns]"
      ]
     },
     "execution_count": 137,
     "metadata": {},
     "output_type": "execute_result"
    }
   ],
   "source": [
    "attributes_df.merge(team_attributes_df[['overall','value_eur','club']],how='left',left_on='club',right_on='club')"
   ]
  },
  {
   "cell_type": "code",
   "execution_count": 138,
   "metadata": {
    "ExecuteTime": {
     "end_time": "2020-01-10T00:23:50.651382Z",
     "start_time": "2020-01-10T00:23:50.641841Z"
    }
   },
   "outputs": [],
   "source": [
    "#introduce club score data scraped from https://projects.fivethirtyeight.com/global-club-soccer-rankings/\n",
    "pkl_file = open('./temporary_pkl/club_score_df.pkl','rb')\n",
    "club_score_df = pickle.load(pkl_file)\n",
    "pkl_file.close()"
   ]
  },
  {
   "cell_type": "code",
   "execution_count": 113,
   "metadata": {
    "ExecuteTime": {
     "end_time": "2020-01-09T21:23:06.913662Z",
     "start_time": "2020-01-09T21:22:49.567515Z"
    }
   },
   "outputs": [
    {
     "ename": "KeyboardInterrupt",
     "evalue": "",
     "output_type": "error",
     "traceback": [
      "\u001b[0;31m---------------------------------------------------------------------------\u001b[0m",
      "\u001b[0;31mAttributeError\u001b[0m                            Traceback (most recent call last)",
      "\u001b[0;32m~/anaconda3/lib/python3.7/site-packages/fuzzywuzzy/process.py\u001b[0m in \u001b[0;36mextractWithoutOrder\u001b[0;34m(query, choices, processor, scorer, score_cutoff)\u001b[0m\n\u001b[1;32m    107\u001b[0m         \u001b[0;31m# See if choices is a dictionary-like object.\u001b[0m\u001b[0;34m\u001b[0m\u001b[0;34m\u001b[0m\u001b[0;34m\u001b[0m\u001b[0m\n\u001b[0;32m--> 108\u001b[0;31m         \u001b[0;32mfor\u001b[0m \u001b[0mkey\u001b[0m\u001b[0;34m,\u001b[0m \u001b[0mchoice\u001b[0m \u001b[0;32min\u001b[0m \u001b[0mchoices\u001b[0m\u001b[0;34m.\u001b[0m\u001b[0mitems\u001b[0m\u001b[0;34m(\u001b[0m\u001b[0;34m)\u001b[0m\u001b[0;34m:\u001b[0m\u001b[0;34m\u001b[0m\u001b[0;34m\u001b[0m\u001b[0m\n\u001b[0m\u001b[1;32m    109\u001b[0m             \u001b[0mprocessed\u001b[0m \u001b[0;34m=\u001b[0m \u001b[0mpre_processor\u001b[0m\u001b[0;34m(\u001b[0m\u001b[0mprocessor\u001b[0m\u001b[0;34m(\u001b[0m\u001b[0mchoice\u001b[0m\u001b[0;34m)\u001b[0m\u001b[0;34m)\u001b[0m\u001b[0;34m\u001b[0m\u001b[0;34m\u001b[0m\u001b[0m\n",
      "\u001b[0;31mAttributeError\u001b[0m: 'numpy.ndarray' object has no attribute 'items'",
      "\nDuring handling of the above exception, another exception occurred:\n",
      "\u001b[0;31mKeyboardInterrupt\u001b[0m                         Traceback (most recent call last)",
      "\u001b[0;32m<ipython-input-113-6b033ce01152>\u001b[0m in \u001b[0;36m<module>\u001b[0;34m\u001b[0m\n\u001b[0;32m----> 1\u001b[0;31m \u001b[0mclub_score_df\u001b[0m\u001b[0;34m[\u001b[0m\u001b[0;34m'club'\u001b[0m\u001b[0;34m]\u001b[0m\u001b[0;34m.\u001b[0m\u001b[0mapply\u001b[0m\u001b[0;34m(\u001b[0m\u001b[0;32mlambda\u001b[0m \u001b[0mx\u001b[0m\u001b[0;34m:\u001b[0m\u001b[0;34m'Paris Saint-Germain'\u001b[0m \u001b[0;32mif\u001b[0m \u001b[0mx\u001b[0m\u001b[0;34m==\u001b[0m\u001b[0;34m'PSG'\u001b[0m \u001b[0;32melse\u001b[0m \u001b[0mrename\u001b[0m\u001b[0;34m(\u001b[0m\u001b[0mx\u001b[0m\u001b[0;34m,\u001b[0m\u001b[0mchoices\u001b[0m\u001b[0;34m)\u001b[0m\u001b[0;34m)\u001b[0m\u001b[0;34m\u001b[0m\u001b[0;34m\u001b[0m\u001b[0m\n\u001b[0m",
      "\u001b[0;32m~/anaconda3/lib/python3.7/site-packages/pandas/core/series.py\u001b[0m in \u001b[0;36mapply\u001b[0;34m(self, func, convert_dtype, args, **kwds)\u001b[0m\n\u001b[1;32m   4040\u001b[0m             \u001b[0;32melse\u001b[0m\u001b[0;34m:\u001b[0m\u001b[0;34m\u001b[0m\u001b[0;34m\u001b[0m\u001b[0m\n\u001b[1;32m   4041\u001b[0m                 \u001b[0mvalues\u001b[0m \u001b[0;34m=\u001b[0m \u001b[0mself\u001b[0m\u001b[0;34m.\u001b[0m\u001b[0mastype\u001b[0m\u001b[0;34m(\u001b[0m\u001b[0mobject\u001b[0m\u001b[0;34m)\u001b[0m\u001b[0;34m.\u001b[0m\u001b[0mvalues\u001b[0m\u001b[0;34m\u001b[0m\u001b[0;34m\u001b[0m\u001b[0m\n\u001b[0;32m-> 4042\u001b[0;31m                 \u001b[0mmapped\u001b[0m \u001b[0;34m=\u001b[0m \u001b[0mlib\u001b[0m\u001b[0;34m.\u001b[0m\u001b[0mmap_infer\u001b[0m\u001b[0;34m(\u001b[0m\u001b[0mvalues\u001b[0m\u001b[0;34m,\u001b[0m \u001b[0mf\u001b[0m\u001b[0;34m,\u001b[0m \u001b[0mconvert\u001b[0m\u001b[0;34m=\u001b[0m\u001b[0mconvert_dtype\u001b[0m\u001b[0;34m)\u001b[0m\u001b[0;34m\u001b[0m\u001b[0;34m\u001b[0m\u001b[0m\n\u001b[0m\u001b[1;32m   4043\u001b[0m \u001b[0;34m\u001b[0m\u001b[0m\n\u001b[1;32m   4044\u001b[0m         \u001b[0;32mif\u001b[0m \u001b[0mlen\u001b[0m\u001b[0;34m(\u001b[0m\u001b[0mmapped\u001b[0m\u001b[0;34m)\u001b[0m \u001b[0;32mand\u001b[0m \u001b[0misinstance\u001b[0m\u001b[0;34m(\u001b[0m\u001b[0mmapped\u001b[0m\u001b[0;34m[\u001b[0m\u001b[0;36m0\u001b[0m\u001b[0;34m]\u001b[0m\u001b[0;34m,\u001b[0m \u001b[0mSeries\u001b[0m\u001b[0;34m)\u001b[0m\u001b[0;34m:\u001b[0m\u001b[0;34m\u001b[0m\u001b[0;34m\u001b[0m\u001b[0m\n",
      "\u001b[0;32mpandas/_libs/lib.pyx\u001b[0m in \u001b[0;36mpandas._libs.lib.map_infer\u001b[0;34m()\u001b[0m\n",
      "\u001b[0;32m<ipython-input-113-6b033ce01152>\u001b[0m in \u001b[0;36m<lambda>\u001b[0;34m(x)\u001b[0m\n\u001b[0;32m----> 1\u001b[0;31m \u001b[0mclub_score_df\u001b[0m\u001b[0;34m[\u001b[0m\u001b[0;34m'club'\u001b[0m\u001b[0;34m]\u001b[0m\u001b[0;34m.\u001b[0m\u001b[0mapply\u001b[0m\u001b[0;34m(\u001b[0m\u001b[0;32mlambda\u001b[0m \u001b[0mx\u001b[0m\u001b[0;34m:\u001b[0m\u001b[0;34m'Paris Saint-Germain'\u001b[0m \u001b[0;32mif\u001b[0m \u001b[0mx\u001b[0m\u001b[0;34m==\u001b[0m\u001b[0;34m'PSG'\u001b[0m \u001b[0;32melse\u001b[0m \u001b[0mrename\u001b[0m\u001b[0;34m(\u001b[0m\u001b[0mx\u001b[0m\u001b[0;34m,\u001b[0m\u001b[0mchoices\u001b[0m\u001b[0;34m)\u001b[0m\u001b[0;34m)\u001b[0m\u001b[0;34m\u001b[0m\u001b[0;34m\u001b[0m\u001b[0m\n\u001b[0m",
      "\u001b[0;32m<ipython-input-76-3ea1a0e88911>\u001b[0m in \u001b[0;36mrename\u001b[0;34m(club, choices)\u001b[0m\n\u001b[1;32m      1\u001b[0m \u001b[0;32mdef\u001b[0m \u001b[0mrename\u001b[0m\u001b[0;34m(\u001b[0m\u001b[0mclub\u001b[0m\u001b[0;34m,\u001b[0m\u001b[0mchoices\u001b[0m\u001b[0;34m)\u001b[0m\u001b[0;34m:\u001b[0m\u001b[0;34m\u001b[0m\u001b[0;34m\u001b[0m\u001b[0m\n\u001b[0;32m----> 2\u001b[0;31m     \u001b[0;32mreturn\u001b[0m \u001b[0mprocess\u001b[0m\u001b[0;34m.\u001b[0m\u001b[0mextractOne\u001b[0m\u001b[0;34m(\u001b[0m\u001b[0mclub\u001b[0m\u001b[0;34m,\u001b[0m \u001b[0mchoices\u001b[0m\u001b[0;34m)\u001b[0m\u001b[0;34m[\u001b[0m\u001b[0;36m0\u001b[0m\u001b[0;34m]\u001b[0m\u001b[0;34m\u001b[0m\u001b[0;34m\u001b[0m\u001b[0m\n\u001b[0m",
      "\u001b[0;32m~/anaconda3/lib/python3.7/site-packages/fuzzywuzzy/process.py\u001b[0m in \u001b[0;36mextractOne\u001b[0;34m(query, choices, processor, scorer, score_cutoff)\u001b[0m\n\u001b[1;32m    218\u001b[0m     \u001b[0mbest_list\u001b[0m \u001b[0;34m=\u001b[0m \u001b[0mextractWithoutOrder\u001b[0m\u001b[0;34m(\u001b[0m\u001b[0mquery\u001b[0m\u001b[0;34m,\u001b[0m \u001b[0mchoices\u001b[0m\u001b[0;34m,\u001b[0m \u001b[0mprocessor\u001b[0m\u001b[0;34m,\u001b[0m \u001b[0mscorer\u001b[0m\u001b[0;34m,\u001b[0m \u001b[0mscore_cutoff\u001b[0m\u001b[0;34m)\u001b[0m\u001b[0;34m\u001b[0m\u001b[0;34m\u001b[0m\u001b[0m\n\u001b[1;32m    219\u001b[0m     \u001b[0;32mtry\u001b[0m\u001b[0;34m:\u001b[0m\u001b[0;34m\u001b[0m\u001b[0;34m\u001b[0m\u001b[0m\n\u001b[0;32m--> 220\u001b[0;31m         \u001b[0;32mreturn\u001b[0m \u001b[0mmax\u001b[0m\u001b[0;34m(\u001b[0m\u001b[0mbest_list\u001b[0m\u001b[0;34m,\u001b[0m \u001b[0mkey\u001b[0m\u001b[0;34m=\u001b[0m\u001b[0;32mlambda\u001b[0m \u001b[0mi\u001b[0m\u001b[0;34m:\u001b[0m \u001b[0mi\u001b[0m\u001b[0;34m[\u001b[0m\u001b[0;36m1\u001b[0m\u001b[0;34m]\u001b[0m\u001b[0;34m)\u001b[0m\u001b[0;34m\u001b[0m\u001b[0;34m\u001b[0m\u001b[0m\n\u001b[0m\u001b[1;32m    221\u001b[0m     \u001b[0;32mexcept\u001b[0m \u001b[0mValueError\u001b[0m\u001b[0;34m:\u001b[0m\u001b[0;34m\u001b[0m\u001b[0;34m\u001b[0m\u001b[0m\n\u001b[1;32m    222\u001b[0m         \u001b[0;32mreturn\u001b[0m \u001b[0;32mNone\u001b[0m\u001b[0;34m\u001b[0m\u001b[0;34m\u001b[0m\u001b[0m\n",
      "\u001b[0;32m~/anaconda3/lib/python3.7/site-packages/fuzzywuzzy/process.py\u001b[0m in \u001b[0;36mextractWithoutOrder\u001b[0;34m(query, choices, processor, scorer, score_cutoff)\u001b[0m\n\u001b[1;32m    115\u001b[0m         \u001b[0;32mfor\u001b[0m \u001b[0mchoice\u001b[0m \u001b[0;32min\u001b[0m \u001b[0mchoices\u001b[0m\u001b[0;34m:\u001b[0m\u001b[0;34m\u001b[0m\u001b[0;34m\u001b[0m\u001b[0m\n\u001b[1;32m    116\u001b[0m             \u001b[0mprocessed\u001b[0m \u001b[0;34m=\u001b[0m \u001b[0mpre_processor\u001b[0m\u001b[0;34m(\u001b[0m\u001b[0mprocessor\u001b[0m\u001b[0;34m(\u001b[0m\u001b[0mchoice\u001b[0m\u001b[0;34m)\u001b[0m\u001b[0;34m)\u001b[0m\u001b[0;34m\u001b[0m\u001b[0;34m\u001b[0m\u001b[0m\n\u001b[0;32m--> 117\u001b[0;31m             \u001b[0mscore\u001b[0m \u001b[0;34m=\u001b[0m \u001b[0mscorer\u001b[0m\u001b[0;34m(\u001b[0m\u001b[0mprocessed_query\u001b[0m\u001b[0;34m,\u001b[0m \u001b[0mprocessed\u001b[0m\u001b[0;34m)\u001b[0m\u001b[0;34m\u001b[0m\u001b[0;34m\u001b[0m\u001b[0m\n\u001b[0m\u001b[1;32m    118\u001b[0m             \u001b[0;32mif\u001b[0m \u001b[0mscore\u001b[0m \u001b[0;34m>=\u001b[0m \u001b[0mscore_cutoff\u001b[0m\u001b[0;34m:\u001b[0m\u001b[0;34m\u001b[0m\u001b[0;34m\u001b[0m\u001b[0m\n\u001b[1;32m    119\u001b[0m                 \u001b[0;32myield\u001b[0m \u001b[0;34m(\u001b[0m\u001b[0mchoice\u001b[0m\u001b[0;34m,\u001b[0m \u001b[0mscore\u001b[0m\u001b[0;34m)\u001b[0m\u001b[0;34m\u001b[0m\u001b[0;34m\u001b[0m\u001b[0m\n",
      "\u001b[0;32m~/anaconda3/lib/python3.7/site-packages/fuzzywuzzy/fuzz.py\u001b[0m in \u001b[0;36mWRatio\u001b[0;34m(s1, s2, force_ascii, full_process)\u001b[0m\n\u001b[1;32m    290\u001b[0m             \u001b[0;34m*\u001b[0m \u001b[0munbase_scale\u001b[0m \u001b[0;34m*\u001b[0m \u001b[0mpartial_scale\u001b[0m\u001b[0;34m\u001b[0m\u001b[0;34m\u001b[0m\u001b[0m\n\u001b[1;32m    291\u001b[0m         \u001b[0mptser\u001b[0m \u001b[0;34m=\u001b[0m \u001b[0mpartial_token_set_ratio\u001b[0m\u001b[0;34m(\u001b[0m\u001b[0mp1\u001b[0m\u001b[0;34m,\u001b[0m \u001b[0mp2\u001b[0m\u001b[0;34m,\u001b[0m \u001b[0mfull_process\u001b[0m\u001b[0;34m=\u001b[0m\u001b[0;32mFalse\u001b[0m\u001b[0;34m)\u001b[0m\u001b[0;31m \u001b[0m\u001b[0;31m\\\u001b[0m\u001b[0;34m\u001b[0m\u001b[0;34m\u001b[0m\u001b[0m\n\u001b[0;32m--> 292\u001b[0;31m             \u001b[0;34m*\u001b[0m \u001b[0munbase_scale\u001b[0m \u001b[0;34m*\u001b[0m \u001b[0mpartial_scale\u001b[0m\u001b[0;34m\u001b[0m\u001b[0;34m\u001b[0m\u001b[0m\n\u001b[0m\u001b[1;32m    293\u001b[0m \u001b[0;34m\u001b[0m\u001b[0m\n\u001b[1;32m    294\u001b[0m         \u001b[0;32mreturn\u001b[0m \u001b[0mutils\u001b[0m\u001b[0;34m.\u001b[0m\u001b[0mintr\u001b[0m\u001b[0;34m(\u001b[0m\u001b[0mmax\u001b[0m\u001b[0;34m(\u001b[0m\u001b[0mbase\u001b[0m\u001b[0;34m,\u001b[0m \u001b[0mpartial\u001b[0m\u001b[0;34m,\u001b[0m \u001b[0mptsor\u001b[0m\u001b[0;34m,\u001b[0m \u001b[0mptser\u001b[0m\u001b[0;34m)\u001b[0m\u001b[0;34m)\u001b[0m\u001b[0;34m\u001b[0m\u001b[0;34m\u001b[0m\u001b[0m\n",
      "\u001b[0;32m~/anaconda3/lib/python3.7/site-packages/fuzzywuzzy/fuzz.py\u001b[0m in \u001b[0;36mpartial_token_set_ratio\u001b[0;34m(s1, s2, force_ascii, full_process)\u001b[0m\n\u001b[1;32m    171\u001b[0m \u001b[0;34m\u001b[0m\u001b[0m\n\u001b[1;32m    172\u001b[0m \u001b[0;32mdef\u001b[0m \u001b[0mpartial_token_set_ratio\u001b[0m\u001b[0;34m(\u001b[0m\u001b[0ms1\u001b[0m\u001b[0;34m,\u001b[0m \u001b[0ms2\u001b[0m\u001b[0;34m,\u001b[0m \u001b[0mforce_ascii\u001b[0m\u001b[0;34m=\u001b[0m\u001b[0;32mTrue\u001b[0m\u001b[0;34m,\u001b[0m \u001b[0mfull_process\u001b[0m\u001b[0;34m=\u001b[0m\u001b[0;32mTrue\u001b[0m\u001b[0;34m)\u001b[0m\u001b[0;34m:\u001b[0m\u001b[0;34m\u001b[0m\u001b[0;34m\u001b[0m\u001b[0m\n\u001b[0;32m--> 173\u001b[0;31m     \u001b[0;32mreturn\u001b[0m \u001b[0m_token_set\u001b[0m\u001b[0;34m(\u001b[0m\u001b[0ms1\u001b[0m\u001b[0;34m,\u001b[0m \u001b[0ms2\u001b[0m\u001b[0;34m,\u001b[0m \u001b[0mpartial\u001b[0m\u001b[0;34m=\u001b[0m\u001b[0;32mTrue\u001b[0m\u001b[0;34m,\u001b[0m \u001b[0mforce_ascii\u001b[0m\u001b[0;34m=\u001b[0m\u001b[0mforce_ascii\u001b[0m\u001b[0;34m,\u001b[0m \u001b[0mfull_process\u001b[0m\u001b[0;34m=\u001b[0m\u001b[0mfull_process\u001b[0m\u001b[0;34m)\u001b[0m\u001b[0;34m\u001b[0m\u001b[0;34m\u001b[0m\u001b[0m\n\u001b[0m\u001b[1;32m    174\u001b[0m \u001b[0;34m\u001b[0m\u001b[0m\n\u001b[1;32m    175\u001b[0m \u001b[0;34m\u001b[0m\u001b[0m\n",
      "\u001b[0;32m~/anaconda3/lib/python3.7/site-packages/fuzzywuzzy/utils.py\u001b[0m in \u001b[0;36mdecorator\u001b[0;34m(*args, **kwargs)\u001b[0m\n\u001b[1;32m     36\u001b[0m         \u001b[0;32mif\u001b[0m \u001b[0margs\u001b[0m\u001b[0;34m[\u001b[0m\u001b[0;36m0\u001b[0m\u001b[0;34m]\u001b[0m \u001b[0;32mis\u001b[0m \u001b[0;32mNone\u001b[0m \u001b[0;32mor\u001b[0m \u001b[0margs\u001b[0m\u001b[0;34m[\u001b[0m\u001b[0;36m1\u001b[0m\u001b[0;34m]\u001b[0m \u001b[0;32mis\u001b[0m \u001b[0;32mNone\u001b[0m\u001b[0;34m:\u001b[0m\u001b[0;34m\u001b[0m\u001b[0;34m\u001b[0m\u001b[0m\n\u001b[1;32m     37\u001b[0m             \u001b[0;32mreturn\u001b[0m \u001b[0;36m0\u001b[0m\u001b[0;34m\u001b[0m\u001b[0;34m\u001b[0m\u001b[0m\n\u001b[0;32m---> 38\u001b[0;31m         \u001b[0;32mreturn\u001b[0m \u001b[0mfunc\u001b[0m\u001b[0;34m(\u001b[0m\u001b[0;34m*\u001b[0m\u001b[0margs\u001b[0m\u001b[0;34m,\u001b[0m \u001b[0;34m**\u001b[0m\u001b[0mkwargs\u001b[0m\u001b[0;34m)\u001b[0m\u001b[0;34m\u001b[0m\u001b[0;34m\u001b[0m\u001b[0m\n\u001b[0m\u001b[1;32m     39\u001b[0m     \u001b[0;32mreturn\u001b[0m \u001b[0mdecorator\u001b[0m\u001b[0;34m\u001b[0m\u001b[0;34m\u001b[0m\u001b[0m\n\u001b[1;32m     40\u001b[0m \u001b[0;34m\u001b[0m\u001b[0m\n",
      "\u001b[0;32m~/anaconda3/lib/python3.7/site-packages/fuzzywuzzy/fuzz.py\u001b[0m in \u001b[0;36m_token_set\u001b[0;34m(s1, s2, partial, force_ascii, full_process)\u001b[0m\n\u001b[1;32m    161\u001b[0m         \u001b[0mratio_func\u001b[0m\u001b[0;34m(\u001b[0m\u001b[0msorted_sect\u001b[0m\u001b[0;34m,\u001b[0m \u001b[0mcombined_1to2\u001b[0m\u001b[0;34m)\u001b[0m\u001b[0;34m,\u001b[0m\u001b[0;34m\u001b[0m\u001b[0;34m\u001b[0m\u001b[0m\n\u001b[1;32m    162\u001b[0m         \u001b[0mratio_func\u001b[0m\u001b[0;34m(\u001b[0m\u001b[0msorted_sect\u001b[0m\u001b[0;34m,\u001b[0m \u001b[0mcombined_2to1\u001b[0m\u001b[0;34m)\u001b[0m\u001b[0;34m,\u001b[0m\u001b[0;34m\u001b[0m\u001b[0;34m\u001b[0m\u001b[0m\n\u001b[0;32m--> 163\u001b[0;31m         \u001b[0mratio_func\u001b[0m\u001b[0;34m(\u001b[0m\u001b[0mcombined_1to2\u001b[0m\u001b[0;34m,\u001b[0m \u001b[0mcombined_2to1\u001b[0m\u001b[0;34m)\u001b[0m\u001b[0;34m\u001b[0m\u001b[0;34m\u001b[0m\u001b[0m\n\u001b[0m\u001b[1;32m    164\u001b[0m     ]\n\u001b[1;32m    165\u001b[0m     \u001b[0;32mreturn\u001b[0m \u001b[0mmax\u001b[0m\u001b[0;34m(\u001b[0m\u001b[0mpairwise\u001b[0m\u001b[0;34m)\u001b[0m\u001b[0;34m\u001b[0m\u001b[0;34m\u001b[0m\u001b[0m\n",
      "\u001b[0;32m~/anaconda3/lib/python3.7/site-packages/fuzzywuzzy/utils.py\u001b[0m in \u001b[0;36mdecorator\u001b[0;34m(*args, **kwargs)\u001b[0m\n\u001b[1;32m     36\u001b[0m         \u001b[0;32mif\u001b[0m \u001b[0margs\u001b[0m\u001b[0;34m[\u001b[0m\u001b[0;36m0\u001b[0m\u001b[0;34m]\u001b[0m \u001b[0;32mis\u001b[0m \u001b[0;32mNone\u001b[0m \u001b[0;32mor\u001b[0m \u001b[0margs\u001b[0m\u001b[0;34m[\u001b[0m\u001b[0;36m1\u001b[0m\u001b[0;34m]\u001b[0m \u001b[0;32mis\u001b[0m \u001b[0;32mNone\u001b[0m\u001b[0;34m:\u001b[0m\u001b[0;34m\u001b[0m\u001b[0;34m\u001b[0m\u001b[0m\n\u001b[1;32m     37\u001b[0m             \u001b[0;32mreturn\u001b[0m \u001b[0;36m0\u001b[0m\u001b[0;34m\u001b[0m\u001b[0;34m\u001b[0m\u001b[0m\n\u001b[0;32m---> 38\u001b[0;31m         \u001b[0;32mreturn\u001b[0m \u001b[0mfunc\u001b[0m\u001b[0;34m(\u001b[0m\u001b[0;34m*\u001b[0m\u001b[0margs\u001b[0m\u001b[0;34m,\u001b[0m \u001b[0;34m**\u001b[0m\u001b[0mkwargs\u001b[0m\u001b[0;34m)\u001b[0m\u001b[0;34m\u001b[0m\u001b[0;34m\u001b[0m\u001b[0m\n\u001b[0m\u001b[1;32m     39\u001b[0m     \u001b[0;32mreturn\u001b[0m \u001b[0mdecorator\u001b[0m\u001b[0;34m\u001b[0m\u001b[0;34m\u001b[0m\u001b[0m\n\u001b[1;32m     40\u001b[0m \u001b[0;34m\u001b[0m\u001b[0m\n",
      "\u001b[0;32m~/anaconda3/lib/python3.7/site-packages/fuzzywuzzy/utils.py\u001b[0m in \u001b[0;36mdecorator\u001b[0;34m(*args, **kwargs)\u001b[0m\n\u001b[1;32m     27\u001b[0m         \u001b[0;32mif\u001b[0m \u001b[0margs\u001b[0m\u001b[0;34m[\u001b[0m\u001b[0;36m0\u001b[0m\u001b[0;34m]\u001b[0m \u001b[0;34m==\u001b[0m \u001b[0margs\u001b[0m\u001b[0;34m[\u001b[0m\u001b[0;36m1\u001b[0m\u001b[0;34m]\u001b[0m\u001b[0;34m:\u001b[0m\u001b[0;34m\u001b[0m\u001b[0;34m\u001b[0m\u001b[0m\n\u001b[1;32m     28\u001b[0m             \u001b[0;32mreturn\u001b[0m \u001b[0;36m100\u001b[0m\u001b[0;34m\u001b[0m\u001b[0;34m\u001b[0m\u001b[0m\n\u001b[0;32m---> 29\u001b[0;31m         \u001b[0;32mreturn\u001b[0m \u001b[0mfunc\u001b[0m\u001b[0;34m(\u001b[0m\u001b[0;34m*\u001b[0m\u001b[0margs\u001b[0m\u001b[0;34m,\u001b[0m \u001b[0;34m**\u001b[0m\u001b[0mkwargs\u001b[0m\u001b[0;34m)\u001b[0m\u001b[0;34m\u001b[0m\u001b[0;34m\u001b[0m\u001b[0m\n\u001b[0m\u001b[1;32m     30\u001b[0m     \u001b[0;32mreturn\u001b[0m \u001b[0mdecorator\u001b[0m\u001b[0;34m\u001b[0m\u001b[0;34m\u001b[0m\u001b[0m\n\u001b[1;32m     31\u001b[0m \u001b[0;34m\u001b[0m\u001b[0m\n",
      "\u001b[0;32m~/anaconda3/lib/python3.7/site-packages/fuzzywuzzy/utils.py\u001b[0m in \u001b[0;36mdecorator\u001b[0;34m(*args, **kwargs)\u001b[0m\n\u001b[1;32m     45\u001b[0m         \u001b[0;32mif\u001b[0m \u001b[0mlen\u001b[0m\u001b[0;34m(\u001b[0m\u001b[0margs\u001b[0m\u001b[0;34m[\u001b[0m\u001b[0;36m0\u001b[0m\u001b[0;34m]\u001b[0m\u001b[0;34m)\u001b[0m \u001b[0;34m==\u001b[0m \u001b[0;36m0\u001b[0m \u001b[0;32mor\u001b[0m \u001b[0mlen\u001b[0m\u001b[0;34m(\u001b[0m\u001b[0margs\u001b[0m\u001b[0;34m[\u001b[0m\u001b[0;36m1\u001b[0m\u001b[0;34m]\u001b[0m\u001b[0;34m)\u001b[0m \u001b[0;34m==\u001b[0m \u001b[0;36m0\u001b[0m\u001b[0;34m:\u001b[0m\u001b[0;34m\u001b[0m\u001b[0;34m\u001b[0m\u001b[0m\n\u001b[1;32m     46\u001b[0m             \u001b[0;32mreturn\u001b[0m \u001b[0;36m0\u001b[0m\u001b[0;34m\u001b[0m\u001b[0;34m\u001b[0m\u001b[0m\n\u001b[0;32m---> 47\u001b[0;31m         \u001b[0;32mreturn\u001b[0m \u001b[0mfunc\u001b[0m\u001b[0;34m(\u001b[0m\u001b[0;34m*\u001b[0m\u001b[0margs\u001b[0m\u001b[0;34m,\u001b[0m \u001b[0;34m**\u001b[0m\u001b[0mkwargs\u001b[0m\u001b[0;34m)\u001b[0m\u001b[0;34m\u001b[0m\u001b[0;34m\u001b[0m\u001b[0m\n\u001b[0m\u001b[1;32m     48\u001b[0m     \u001b[0;32mreturn\u001b[0m \u001b[0mdecorator\u001b[0m\u001b[0;34m\u001b[0m\u001b[0;34m\u001b[0m\u001b[0m\n\u001b[1;32m     49\u001b[0m \u001b[0;34m\u001b[0m\u001b[0m\n",
      "\u001b[0;32m~/anaconda3/lib/python3.7/site-packages/fuzzywuzzy/fuzz.py\u001b[0m in \u001b[0;36mpartial_ratio\u001b[0;34m(s1, s2)\u001b[0m\n\u001b[1;32m     59\u001b[0m         \u001b[0mlong_substr\u001b[0m \u001b[0;34m=\u001b[0m \u001b[0mlonger\u001b[0m\u001b[0;34m[\u001b[0m\u001b[0mlong_start\u001b[0m\u001b[0;34m:\u001b[0m\u001b[0mlong_end\u001b[0m\u001b[0;34m]\u001b[0m\u001b[0;34m\u001b[0m\u001b[0;34m\u001b[0m\u001b[0m\n\u001b[1;32m     60\u001b[0m \u001b[0;34m\u001b[0m\u001b[0m\n\u001b[0;32m---> 61\u001b[0;31m         \u001b[0mm2\u001b[0m \u001b[0;34m=\u001b[0m \u001b[0mSequenceMatcher\u001b[0m\u001b[0;34m(\u001b[0m\u001b[0;32mNone\u001b[0m\u001b[0;34m,\u001b[0m \u001b[0mshorter\u001b[0m\u001b[0;34m,\u001b[0m \u001b[0mlong_substr\u001b[0m\u001b[0;34m)\u001b[0m\u001b[0;34m\u001b[0m\u001b[0;34m\u001b[0m\u001b[0m\n\u001b[0m\u001b[1;32m     62\u001b[0m         \u001b[0mr\u001b[0m \u001b[0;34m=\u001b[0m \u001b[0mm2\u001b[0m\u001b[0;34m.\u001b[0m\u001b[0mratio\u001b[0m\u001b[0;34m(\u001b[0m\u001b[0;34m)\u001b[0m\u001b[0;34m\u001b[0m\u001b[0;34m\u001b[0m\u001b[0m\n\u001b[1;32m     63\u001b[0m         \u001b[0;32mif\u001b[0m \u001b[0mr\u001b[0m \u001b[0;34m>\u001b[0m \u001b[0;36m.995\u001b[0m\u001b[0;34m:\u001b[0m\u001b[0;34m\u001b[0m\u001b[0;34m\u001b[0m\u001b[0m\n",
      "\u001b[0;32m~/anaconda3/lib/python3.7/difflib.py\u001b[0m in \u001b[0;36m__init__\u001b[0;34m(self, isjunk, a, b, autojunk)\u001b[0m\n\u001b[1;32m    211\u001b[0m         \u001b[0mself\u001b[0m\u001b[0;34m.\u001b[0m\u001b[0ma\u001b[0m \u001b[0;34m=\u001b[0m \u001b[0mself\u001b[0m\u001b[0;34m.\u001b[0m\u001b[0mb\u001b[0m \u001b[0;34m=\u001b[0m \u001b[0;32mNone\u001b[0m\u001b[0;34m\u001b[0m\u001b[0;34m\u001b[0m\u001b[0m\n\u001b[1;32m    212\u001b[0m         \u001b[0mself\u001b[0m\u001b[0;34m.\u001b[0m\u001b[0mautojunk\u001b[0m \u001b[0;34m=\u001b[0m \u001b[0mautojunk\u001b[0m\u001b[0;34m\u001b[0m\u001b[0;34m\u001b[0m\u001b[0m\n\u001b[0;32m--> 213\u001b[0;31m         \u001b[0mself\u001b[0m\u001b[0;34m.\u001b[0m\u001b[0mset_seqs\u001b[0m\u001b[0;34m(\u001b[0m\u001b[0ma\u001b[0m\u001b[0;34m,\u001b[0m \u001b[0mb\u001b[0m\u001b[0;34m)\u001b[0m\u001b[0;34m\u001b[0m\u001b[0;34m\u001b[0m\u001b[0m\n\u001b[0m\u001b[1;32m    214\u001b[0m \u001b[0;34m\u001b[0m\u001b[0m\n\u001b[1;32m    215\u001b[0m     \u001b[0;32mdef\u001b[0m \u001b[0mset_seqs\u001b[0m\u001b[0;34m(\u001b[0m\u001b[0mself\u001b[0m\u001b[0;34m,\u001b[0m \u001b[0ma\u001b[0m\u001b[0;34m,\u001b[0m \u001b[0mb\u001b[0m\u001b[0;34m)\u001b[0m\u001b[0;34m:\u001b[0m\u001b[0;34m\u001b[0m\u001b[0;34m\u001b[0m\u001b[0m\n",
      "\u001b[0;32m~/anaconda3/lib/python3.7/difflib.py\u001b[0m in \u001b[0;36mset_seqs\u001b[0;34m(self, a, b)\u001b[0m\n\u001b[1;32m    223\u001b[0m \u001b[0;34m\u001b[0m\u001b[0m\n\u001b[1;32m    224\u001b[0m         \u001b[0mself\u001b[0m\u001b[0;34m.\u001b[0m\u001b[0mset_seq1\u001b[0m\u001b[0;34m(\u001b[0m\u001b[0ma\u001b[0m\u001b[0;34m)\u001b[0m\u001b[0;34m\u001b[0m\u001b[0;34m\u001b[0m\u001b[0m\n\u001b[0;32m--> 225\u001b[0;31m         \u001b[0mself\u001b[0m\u001b[0;34m.\u001b[0m\u001b[0mset_seq2\u001b[0m\u001b[0;34m(\u001b[0m\u001b[0mb\u001b[0m\u001b[0;34m)\u001b[0m\u001b[0;34m\u001b[0m\u001b[0;34m\u001b[0m\u001b[0m\n\u001b[0m\u001b[1;32m    226\u001b[0m \u001b[0;34m\u001b[0m\u001b[0m\n\u001b[1;32m    227\u001b[0m     \u001b[0;32mdef\u001b[0m \u001b[0mset_seq1\u001b[0m\u001b[0;34m(\u001b[0m\u001b[0mself\u001b[0m\u001b[0;34m,\u001b[0m \u001b[0ma\u001b[0m\u001b[0;34m)\u001b[0m\u001b[0;34m:\u001b[0m\u001b[0;34m\u001b[0m\u001b[0;34m\u001b[0m\u001b[0m\n",
      "\u001b[0;32m~/anaconda3/lib/python3.7/difflib.py\u001b[0m in \u001b[0;36mset_seq2\u001b[0;34m(self, b)\u001b[0m\n\u001b[1;32m    277\u001b[0m         \u001b[0mself\u001b[0m\u001b[0;34m.\u001b[0m\u001b[0mmatching_blocks\u001b[0m \u001b[0;34m=\u001b[0m \u001b[0mself\u001b[0m\u001b[0;34m.\u001b[0m\u001b[0mopcodes\u001b[0m \u001b[0;34m=\u001b[0m \u001b[0;32mNone\u001b[0m\u001b[0;34m\u001b[0m\u001b[0;34m\u001b[0m\u001b[0m\n\u001b[1;32m    278\u001b[0m         \u001b[0mself\u001b[0m\u001b[0;34m.\u001b[0m\u001b[0mfullbcount\u001b[0m \u001b[0;34m=\u001b[0m \u001b[0;32mNone\u001b[0m\u001b[0;34m\u001b[0m\u001b[0;34m\u001b[0m\u001b[0m\n\u001b[0;32m--> 279\u001b[0;31m         \u001b[0mself\u001b[0m\u001b[0;34m.\u001b[0m\u001b[0m__chain_b\u001b[0m\u001b[0;34m(\u001b[0m\u001b[0;34m)\u001b[0m\u001b[0;34m\u001b[0m\u001b[0;34m\u001b[0m\u001b[0m\n\u001b[0m\u001b[1;32m    280\u001b[0m \u001b[0;34m\u001b[0m\u001b[0m\n\u001b[1;32m    281\u001b[0m     \u001b[0;31m# For each element x in b, set b2j[x] to a list of the indices in\u001b[0m\u001b[0;34m\u001b[0m\u001b[0;34m\u001b[0m\u001b[0;34m\u001b[0m\u001b[0m\n",
      "\u001b[0;32m~/anaconda3/lib/python3.7/difflib.py\u001b[0m in \u001b[0;36m__chain_b\u001b[0;34m(self)\u001b[0m\n\u001b[1;32m    310\u001b[0m \u001b[0;34m\u001b[0m\u001b[0m\n\u001b[1;32m    311\u001b[0m         \u001b[0;32mfor\u001b[0m \u001b[0mi\u001b[0m\u001b[0;34m,\u001b[0m \u001b[0melt\u001b[0m \u001b[0;32min\u001b[0m \u001b[0menumerate\u001b[0m\u001b[0;34m(\u001b[0m\u001b[0mb\u001b[0m\u001b[0;34m)\u001b[0m\u001b[0;34m:\u001b[0m\u001b[0;34m\u001b[0m\u001b[0;34m\u001b[0m\u001b[0m\n\u001b[0;32m--> 312\u001b[0;31m             \u001b[0mindices\u001b[0m \u001b[0;34m=\u001b[0m \u001b[0mb2j\u001b[0m\u001b[0;34m.\u001b[0m\u001b[0msetdefault\u001b[0m\u001b[0;34m(\u001b[0m\u001b[0melt\u001b[0m\u001b[0;34m,\u001b[0m \u001b[0;34m[\u001b[0m\u001b[0;34m]\u001b[0m\u001b[0;34m)\u001b[0m\u001b[0;34m\u001b[0m\u001b[0;34m\u001b[0m\u001b[0m\n\u001b[0m\u001b[1;32m    313\u001b[0m             \u001b[0mindices\u001b[0m\u001b[0;34m.\u001b[0m\u001b[0mappend\u001b[0m\u001b[0;34m(\u001b[0m\u001b[0mi\u001b[0m\u001b[0;34m)\u001b[0m\u001b[0;34m\u001b[0m\u001b[0;34m\u001b[0m\u001b[0m\n\u001b[1;32m    314\u001b[0m \u001b[0;34m\u001b[0m\u001b[0m\n",
      "\u001b[0;31mKeyboardInterrupt\u001b[0m: "
     ]
    }
   ],
   "source": [
    "club_score_df['club'].apply(lambda x:'Paris Saint-Germain' if x=='PSG' else rename(x,choices))"
   ]
  },
  {
   "cell_type": "code",
   "execution_count": 114,
   "metadata": {
    "ExecuteTime": {
     "end_time": "2020-01-09T21:23:15.965490Z",
     "start_time": "2020-01-09T21:23:15.960188Z"
    }
   },
   "outputs": [
    {
     "data": {
      "text/plain": [
       "0           Liverpool\n",
       "1           Man. City\n",
       "2       Bayern Munich\n",
       "3                 PSG\n",
       "4         Real Madrid\n",
       "            ...      \n",
       "595       Falkenbergs\n",
       "596    Black Leopards\n",
       "597       Northampton\n",
       "598          Rochdale\n",
       "599            Baroka\n",
       "Name: club, Length: 600, dtype: object"
      ]
     },
     "execution_count": 114,
     "metadata": {},
     "output_type": "execute_result"
    }
   ],
   "source": [
    "club_score_df['club']"
   ]
  },
  {
   "cell_type": "code",
   "execution_count": 110,
   "metadata": {
    "ExecuteTime": {
     "end_time": "2020-01-09T21:20:23.548711Z",
     "start_time": "2020-01-09T21:20:23.431820Z"
    }
   },
   "outputs": [
    {
     "data": {
      "text/plain": [
       "'Shanghai SIPG FC'"
      ]
     },
     "execution_count": 110,
     "metadata": {},
     "output_type": "execute_result"
    }
   ],
   "source": [
    "rename('PSG',choices)"
   ]
  },
  {
   "cell_type": "code",
   "execution_count": 112,
   "metadata": {
    "ExecuteTime": {
     "end_time": "2020-01-09T21:21:35.171318Z",
     "start_time": "2020-01-09T21:21:35.161588Z"
    }
   },
   "outputs": [
    {
     "data": {
      "text/html": [
       "<div>\n",
       "<style scoped>\n",
       "    .dataframe tbody tr th:only-of-type {\n",
       "        vertical-align: middle;\n",
       "    }\n",
       "\n",
       "    .dataframe tbody tr th {\n",
       "        vertical-align: top;\n",
       "    }\n",
       "\n",
       "    .dataframe thead th {\n",
       "        text-align: right;\n",
       "    }\n",
       "</style>\n",
       "<table border=\"1\" class=\"dataframe\">\n",
       "  <thead>\n",
       "    <tr style=\"text-align: right;\">\n",
       "      <th></th>\n",
       "      <th>club</th>\n",
       "      <th>score</th>\n",
       "    </tr>\n",
       "  </thead>\n",
       "  <tbody>\n",
       "    <tr>\n",
       "      <td>3</td>\n",
       "      <td>PSG</td>\n",
       "      <td>90.5</td>\n",
       "    </tr>\n",
       "    <tr>\n",
       "      <td>13</td>\n",
       "      <td>Ajax</td>\n",
       "      <td>81.4</td>\n",
       "    </tr>\n",
       "    <tr>\n",
       "      <td>28</td>\n",
       "      <td>Roma</td>\n",
       "      <td>76.4</td>\n",
       "    </tr>\n",
       "    <tr>\n",
       "      <td>41</td>\n",
       "      <td>Lyon</td>\n",
       "      <td>71.5</td>\n",
       "    </tr>\n",
       "    <tr>\n",
       "      <td>56</td>\n",
       "      <td>PAOK</td>\n",
       "      <td>68.3</td>\n",
       "    </tr>\n",
       "    <tr>\n",
       "      <td>92</td>\n",
       "      <td>PSV</td>\n",
       "      <td>63.5</td>\n",
       "    </tr>\n",
       "    <tr>\n",
       "      <td>126</td>\n",
       "      <td>Nice</td>\n",
       "      <td>58.2</td>\n",
       "    </tr>\n",
       "    <tr>\n",
       "      <td>128</td>\n",
       "      <td>Gent</td>\n",
       "      <td>58.1</td>\n",
       "    </tr>\n",
       "    <tr>\n",
       "      <td>134</td>\n",
       "      <td>LAFC</td>\n",
       "      <td>57.7</td>\n",
       "    </tr>\n",
       "    <tr>\n",
       "      <td>163</td>\n",
       "      <td>SPAL</td>\n",
       "      <td>53.4</td>\n",
       "    </tr>\n",
       "    <tr>\n",
       "      <td>171</td>\n",
       "      <td>Genk</td>\n",
       "      <td>52.5</td>\n",
       "    </tr>\n",
       "    <tr>\n",
       "      <td>178</td>\n",
       "      <td>Metz</td>\n",
       "      <td>52.0</td>\n",
       "    </tr>\n",
       "    <tr>\n",
       "      <td>197</td>\n",
       "      <td>Aris</td>\n",
       "      <td>49.9</td>\n",
       "    </tr>\n",
       "    <tr>\n",
       "      <td>202</td>\n",
       "      <td>QPR</td>\n",
       "      <td>49.6</td>\n",
       "    </tr>\n",
       "    <tr>\n",
       "      <td>213</td>\n",
       "      <td>AIK</td>\n",
       "      <td>48.5</td>\n",
       "    </tr>\n",
       "    <tr>\n",
       "      <td>216</td>\n",
       "      <td>León</td>\n",
       "      <td>48.1</td>\n",
       "    </tr>\n",
       "    <tr>\n",
       "      <td>222</td>\n",
       "      <td>Ufa</td>\n",
       "      <td>47.4</td>\n",
       "    </tr>\n",
       "    <tr>\n",
       "      <td>248</td>\n",
       "      <td>Ural</td>\n",
       "      <td>45.1</td>\n",
       "    </tr>\n",
       "    <tr>\n",
       "      <td>252</td>\n",
       "      <td>Lens</td>\n",
       "      <td>44.7</td>\n",
       "    </tr>\n",
       "    <tr>\n",
       "      <td>288</td>\n",
       "      <td>AaB</td>\n",
       "      <td>41.9</td>\n",
       "    </tr>\n",
       "    <tr>\n",
       "      <td>334</td>\n",
       "      <td>GFK</td>\n",
       "      <td>38.4</td>\n",
       "    </tr>\n",
       "    <tr>\n",
       "      <td>353</td>\n",
       "      <td>OFI</td>\n",
       "      <td>37.2</td>\n",
       "    </tr>\n",
       "    <tr>\n",
       "      <td>354</td>\n",
       "      <td>Sion</td>\n",
       "      <td>37.2</td>\n",
       "    </tr>\n",
       "    <tr>\n",
       "      <td>366</td>\n",
       "      <td>CSA</td>\n",
       "      <td>35.8</td>\n",
       "    </tr>\n",
       "    <tr>\n",
       "      <td>399</td>\n",
       "      <td>Caen</td>\n",
       "      <td>33.2</td>\n",
       "    </tr>\n",
       "    <tr>\n",
       "      <td>408</td>\n",
       "      <td>Avaí</td>\n",
       "      <td>32.4</td>\n",
       "    </tr>\n",
       "    <tr>\n",
       "      <td>423</td>\n",
       "      <td>RKC</td>\n",
       "      <td>30.8</td>\n",
       "    </tr>\n",
       "    <tr>\n",
       "      <td>448</td>\n",
       "      <td>Odd</td>\n",
       "      <td>29.2</td>\n",
       "    </tr>\n",
       "    <tr>\n",
       "      <td>456</td>\n",
       "      <td>Thun</td>\n",
       "      <td>28.4</td>\n",
       "    </tr>\n",
       "    <tr>\n",
       "      <td>501</td>\n",
       "      <td>Lugo</td>\n",
       "      <td>24.6</td>\n",
       "    </tr>\n",
       "    <tr>\n",
       "      <td>570</td>\n",
       "      <td>Pisa</td>\n",
       "      <td>17.1</td>\n",
       "    </tr>\n",
       "  </tbody>\n",
       "</table>\n",
       "</div>"
      ],
      "text/plain": [
       "     club score\n",
       "3     PSG  90.5\n",
       "13   Ajax  81.4\n",
       "28   Roma  76.4\n",
       "41   Lyon  71.5\n",
       "56   PAOK  68.3\n",
       "92    PSV  63.5\n",
       "126  Nice  58.2\n",
       "128  Gent  58.1\n",
       "134  LAFC  57.7\n",
       "163  SPAL  53.4\n",
       "171  Genk  52.5\n",
       "178  Metz  52.0\n",
       "197  Aris  49.9\n",
       "202   QPR  49.6\n",
       "213   AIK  48.5\n",
       "216  León  48.1\n",
       "222   Ufa  47.4\n",
       "248  Ural  45.1\n",
       "252  Lens  44.7\n",
       "288   AaB  41.9\n",
       "334   GFK  38.4\n",
       "353   OFI  37.2\n",
       "354  Sion  37.2\n",
       "366   CSA  35.8\n",
       "399  Caen  33.2\n",
       "408  Avaí  32.4\n",
       "423   RKC  30.8\n",
       "448   Odd  29.2\n",
       "456  Thun  28.4\n",
       "501  Lugo  24.6\n",
       "570  Pisa  17.1"
      ]
     },
     "execution_count": 112,
     "metadata": {},
     "output_type": "execute_result"
    }
   ],
   "source": [
    "club_score_df[club_score_df['club'].apply(len)<5]"
   ]
  },
  {
   "cell_type": "code",
   "execution_count": null,
   "metadata": {},
   "outputs": [],
   "source": []
  }
 ],
 "metadata": {
  "kernelspec": {
   "display_name": "Python 3",
   "language": "python",
   "name": "python3"
  },
  "language_info": {
   "codemirror_mode": {
    "name": "ipython",
    "version": 3
   },
   "file_extension": ".py",
   "mimetype": "text/x-python",
   "name": "python",
   "nbconvert_exporter": "python",
   "pygments_lexer": "ipython3",
   "version": "3.7.3"
  }
 },
 "nbformat": 4,
 "nbformat_minor": 2
}
