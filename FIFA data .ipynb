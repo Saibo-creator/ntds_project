{
 "cells": [
  {
   "cell_type": "code",
   "execution_count": 51,
   "metadata": {
    "ExecuteTime": {
     "end_time": "2020-01-09T20:35:05.005893Z",
     "start_time": "2020-01-09T20:35:05.002925Z"
    }
   },
   "outputs": [],
   "source": [
    "import pandas as pd\n",
    "import numpy as np\n",
    "import pickle"
   ]
  },
  {
   "cell_type": "code",
   "execution_count": 247,
   "metadata": {
    "ExecuteTime": {
     "end_time": "2020-01-10T12:51:19.241069Z",
     "start_time": "2020-01-10T12:51:18.980956Z"
    }
   },
   "outputs": [],
   "source": [
    "filename=\"./fifa data/fifa2020data.csv\"\n",
    "fifa_df=pd.read_csv(filename)"
   ]
  },
  {
   "cell_type": "code",
   "execution_count": 248,
   "metadata": {
    "ExecuteTime": {
     "end_time": "2020-01-10T12:51:19.247856Z",
     "start_time": "2020-01-10T12:51:19.242516Z"
    }
   },
   "outputs": [
    {
     "data": {
      "text/plain": [
       "Index(['sofifa_id', 'player_url', 'short_name', 'long_name', 'age', 'dob',\n",
       "       'height_cm', 'weight_kg', 'nationality', 'club', 'overall', 'potential',\n",
       "       'value_eur', 'wage_eur', 'player_positions', 'preferred_foot',\n",
       "       'international_reputation', 'weak_foot', 'skill_moves', 'work_rate'],\n",
       "      dtype='object')"
      ]
     },
     "execution_count": 248,
     "metadata": {},
     "output_type": "execute_result"
    }
   ],
   "source": [
    "#check data schema\n",
    "fifa_df.columns[:20]"
   ]
  },
  {
   "cell_type": "code",
   "execution_count": 250,
   "metadata": {
    "ExecuteTime": {
     "end_time": "2020-01-10T12:51:19.470109Z",
     "start_time": "2020-01-10T12:51:19.467741Z"
    }
   },
   "outputs": [],
   "source": [
    "# # clean currency column\n",
    "# def currency_cleaner(amount):\n",
    "#     if amount.endswith('M'):   \n",
    "#         return float(amount[1:-1])*1e6\n",
    "#     if amount.endswith('K'):\n",
    "#         return float(amount[1:-1])*1e3\n",
    "# fifa_df.Value=fifa_df.Value.apply(currency_cleaner)\n",
    "# fifa_df.Wage=fifa_df.Wage.apply(currency_cleaner)\n"
   ]
  },
  {
   "cell_type": "code",
   "execution_count": 251,
   "metadata": {
    "ExecuteTime": {
     "end_time": "2020-01-10T12:51:19.628103Z",
     "start_time": "2020-01-10T12:51:19.586813Z"
    }
   },
   "outputs": [],
   "source": [
    "# group fifa player data by club and aggregate by averaging to get the club data\n",
    "team_attributes_df = fifa_df.groupby('club').mean(\n",
    ")[['overall', 'value_eur', 'wage_eur', 'age', 'potential', 'international_reputation']].sort_values(by='value_eur', ascending=False)\n",
    "\n",
    "team_attributes_df = team_attributes_df.reset_index()\n",
    "\n",
    "team_attributes_df\n",
    "\n",
    "FIFA_club_name = team_attributes_df['club'].unique()"
   ]
  },
  {
   "cell_type": "code",
   "execution_count": 252,
   "metadata": {
    "ExecuteTime": {
     "end_time": "2020-01-10T12:51:19.743974Z",
     "start_time": "2020-01-10T12:51:19.719316Z"
    }
   },
   "outputs": [],
   "source": [
    "# load transfer data , for future merge use\n",
    "pkl_file = open('./temporary_pkl/transfer_span_reduced.pkl','rb')\n",
    "transfer_span_reduced = pickle.load(pkl_file)\n",
    "pkl_file.close()"
   ]
  },
  {
   "cell_type": "code",
   "execution_count": 253,
   "metadata": {
    "ExecuteTime": {
     "end_time": "2020-01-10T12:51:19.861353Z",
     "start_time": "2020-01-10T12:51:19.854809Z"
    }
   },
   "outputs": [],
   "source": [
    "network_club_name=list(transfer_span_reduced['club_name'].unique())\n",
    "\n",
    "# ['Arsenal', 'Stoke City', 'Wolverhampton Wanderers', 'Chelsea',\n",
    "#        'Newcastle United', 'Fulham', 'West Bromwich Albion',\n",
    "#        'Manchester United', 'Wigan Athletic', 'Aston Villa',\n",
    "#        'West Ham United', 'Everton', 'Liverpool', 'Tottenham Hotspur',\n",
    "#        'Blackburn Rovers', 'Manchester City', 'Sunderland AFC',\n",
    "#        'Birmingham City', 'Bolton Wanderers', 'Blackpool', 'AC Milan',\n",
    "#        'AS Roma', 'Brescia Calcio', 'Internazionale', 'Parma', 'GenoaC',\n",
    "#        'AS Bari', 'SS Lazio', 'Udinese Calcio', 'AFiorentina',\n",
    "#        'US Palermo', 'Juventus', 'Chievo Verona', 'US Lecce', 'Bologna ',\n",
    "#        'UC Sampdoria', 'Cagliari Calcio', 'AC Cesena', 'Calcio Catania',\n",
    "#        'SSC Napoli', 'Girondins Bordeaux', 'AS Monaco',\n",
    "#        'Olympique Marseille', 'Stade Rennais', 'AJ Auxerre', 'Toulouse',\n",
    "#        'OGC Nice', 'Paris Saint-Germain', 'AS Saint-Étienne',\n",
    "#        'Sochaux-Montbéliard', 'RC Lens', 'HSC Montpellier',\n",
    "#        'Olympique Lyon', 'LOSC Lille', 'Lorient', 'AS Nancy-Lorraine',\n",
    "#        'SM Caen', 'Valenciennes', 'Stade Brest ',\n",
    "#        'Athlétic Club Arlésien', 'SL Benfica', 'Sporting CP', 'Porto',\n",
    "#        'CD Nacional', 'SC Braga', 'Vitória Setúbal', 'CS Marítimo',\n",
    "#        'SC Beira-Mar', 'Vitória Guimarães SC', 'Rio Ave',\n",
    "#        'União de Leiria', 'Académica Coimbra', 'Paços de Ferreira',\n",
    "#        'SC Olhanense', 'Naval º de Maio', 'Portimonense SC',\n",
    "#        'Borussia Dortmund', 'Bayern Munich', 'Schalke ',\n",
    "#        'Borussia Mönchengladbach', 'Bayer  Leverkusen', 'VfB Stuttgart',\n",
    "#        'Hannover ', 'VfL Wolfsburg', 'SV Werder Bremen', '.Nuremberg',\n",
    "#        'Eintracht Frankfurt', 'TSG  Hoffenheim', 'SC Freiburg',\n",
    "#        '.FSV Mainz ', 'Hamburger SV', '. Köln', '.Kaiserslautern',\n",
    "#        'St. Pauli', 'Atlético Madrid', 'Barcelona', 'Real Zaragoza',\n",
    "#        'RCD Mallorca', 'CA Osasuna', 'Sevilla', 'Real Madrid',\n",
    "#        'Racing Santander', 'Real Sociedad', 'RCD Espanyol Barcelona',\n",
    "#        'Deportivo de La Coruña', 'Valencia', 'Villarreal', 'Málaga',\n",
    "#        'Sporting Gijón', 'UD Almería', 'Levante UD', 'Getafe', 'Hércules',\n",
    "#        'Athletic Bilbao', 'NAC Breda', 'Roda JC Kerkrade', 'Utrecht',\n",
    "#        'Groningen', 'Feyenoord Rotterdam', 'SC Heerenveen',\n",
    "#        'Twente Enschede', 'PSV Eindhoven', 'Willem II Tilburg',\n",
    "#        'NEC Nijmegen', 'Vitesse Arnhem', 'Ajax Amsterdam',\n",
    "#        'De Graafschap Doetinchem', 'SBV Excelsior Rotterdam',\n",
    "#        'AZ Alkmaar', 'ADO Den Haag', 'Heracles Almelo', 'VVV-Venlo',\n",
    "#        'Queens Park Rangers', 'Norwich City', 'Swansea City',\n",
    "#        'Atalanta BC', 'AC Siena', 'Novara Calcio ', 'AC Ajaccio',\n",
    "#        'FCO Dijon', 'Évian Thonon Gaillard', 'Gil Vicente', 'CD Feirense',\n",
    "#        'Augsburg', 'Hertha BSC', 'Real Betis Balompié', 'Rayo Vallecano',\n",
    "#        'Granada', 'RKC Waalwijk', 'Southampton', 'Reading',\n",
    "#        'Delfino Pescara ', 'Torino', 'SC Bastia', 'ES Troyes AC',\n",
    "#        'Stade Reims', 'GD Estoril', 'Moreirense', 'SpVgg Greuther Fürth',\n",
    "#        'Fortuna Düsseldorf', 'Real Valladolid', 'Celta de Vigo',\n",
    "#        'PEC Zwolle', 'Cardiff City', 'Hull City', 'Crystal Palace',\n",
    "#        'Hellas Verona', 'AS Livorno', 'US Sassuolo', 'EA Guingamp',\n",
    "#        'Nantes', 'Belenenses SAD', 'Arouca', 'Eintracht Braunschweig',\n",
    "#        'Elche', 'SC Cambuur-Leeuwarden', 'Go Ahead Eagles Deventer',\n",
    "#        'Burnley', 'Leicester City', 'Empoli', 'Inter Milan', 'Metz',\n",
    "#        'Penafiel', 'Boavista Porto', 'SC Paderborn ', 'SD Eibar',\n",
    "#        'Córdoba', 'Dordrecht', 'ABournemouth', 'Watford', 'Carpi ',\n",
    "#        'Frosinone Calcio', 'SCO Angers', 'GAjaccio', 'CD Tondela',\n",
    "#        'União Madeira', 'Ingolstadt ', 'SV Darmstadt ', 'UD Las Palmas',\n",
    "#        'Middlesbrough', 'Crotone', 'GD Chaves', 'RB Leipzig',\n",
    "#        'Deportivo Alavés', 'CD Leganés', 'Sparta Rotterdam',\n",
    "#        'Brighton & Hove Albion', 'Huddersfield Town', 'Benevento Calcio',\n",
    "#        'SPAL ', 'SC Amiens', 'RC Strasbourg Alsace', 'Desportivo Aves',\n",
    "#        'Girona', 'Parma Calcio ', 'SPAL', 'Nîmes Olympique',\n",
    "#        'CD Santa Clara', 'SD Huesca', 'Emmen', 'Fortuna Sittard',\n",
    "#        'Sheffield United', 'Famalicão', '.Union Berlin']\n",
    "\n",
    "#len(list(transfer_span_reduced['club_name'].unique()))=224\n",
    "#len(set(network_club_name))=224 , thus no duplicate"
   ]
  },
  {
   "cell_type": "code",
   "execution_count": 254,
   "metadata": {
    "ExecuteTime": {
     "end_time": "2020-01-10T12:51:19.995824Z",
     "start_time": "2020-01-10T12:51:19.987896Z"
    }
   },
   "outputs": [],
   "source": [
    "missing_club=[club for club in network_club_name if not(club in  FIFA_club_name)]"
   ]
  },
  {
   "cell_type": "code",
   "execution_count": 255,
   "metadata": {
    "ExecuteTime": {
     "end_time": "2020-01-10T12:51:20.123548Z",
     "start_time": "2020-01-10T12:51:20.119855Z"
    }
   },
   "outputs": [
    {
     "data": {
      "text/plain": [
       "(129, 224)"
      ]
     },
     "execution_count": 255,
     "metadata": {},
     "output_type": "execute_result"
    }
   ],
   "source": [
    "len(missing_club),len(network_club_name)  # "
   ]
  },
  {
   "cell_type": "code",
   "execution_count": 256,
   "metadata": {
    "ExecuteTime": {
     "end_time": "2020-01-10T12:51:20.260902Z",
     "start_time": "2020-01-10T12:51:20.256524Z"
    }
   },
   "outputs": [
    {
     "data": {
      "text/plain": [
       "['Sunderland AFC',\n",
       " 'AC Milan',\n",
       " 'AS Roma',\n",
       " 'Brescia Calcio',\n",
       " 'Internazionale',\n",
       " 'GenoaC',\n",
       " 'AS Bari',\n",
       " 'SS Lazio',\n",
       " 'Udinese Calcio',\n",
       " 'AFiorentina',\n",
       " 'US Palermo',\n",
       " 'US Lecce',\n",
       " 'Bologna ',\n",
       " 'UC Sampdoria',\n",
       " 'Cagliari Calcio',\n",
       " 'AC Cesena',\n",
       " 'Calcio Catania',\n",
       " 'SSC Napoli',\n",
       " 'Girondins Bordeaux',\n",
       " 'Olympique Marseille',\n",
       " 'Stade Rennais',\n",
       " 'Toulouse',\n",
       " 'Sochaux-Montbéliard',\n",
       " 'RC Lens',\n",
       " 'HSC Montpellier',\n",
       " 'Olympique Lyon',\n",
       " 'Lorient',\n",
       " 'AS Nancy-Lorraine',\n",
       " 'SM Caen',\n",
       " 'Valenciennes',\n",
       " 'Stade Brest ',\n",
       " 'Athlétic Club Arlésien',\n",
       " 'Porto',\n",
       " 'CD Nacional',\n",
       " 'Vitória Setúbal',\n",
       " 'CS Marítimo',\n",
       " 'SC Beira-Mar',\n",
       " 'Vitória Guimarães SC',\n",
       " 'Rio Ave',\n",
       " 'União de Leiria',\n",
       " 'Académica Coimbra',\n",
       " 'Paços de Ferreira',\n",
       " 'SC Olhanense',\n",
       " 'Naval º de Maio',\n",
       " 'Bayern Munich',\n",
       " 'Schalke ',\n",
       " 'Bayer  Leverkusen',\n",
       " 'Hannover ',\n",
       " '.Nuremberg',\n",
       " 'TSG  Hoffenheim',\n",
       " '.FSV Mainz ',\n",
       " '. Köln',\n",
       " '.Kaiserslautern',\n",
       " 'St. Pauli',\n",
       " 'Barcelona',\n",
       " 'Sevilla',\n",
       " 'RCD Espanyol Barcelona',\n",
       " 'Valencia',\n",
       " 'Villarreal',\n",
       " 'Málaga',\n",
       " 'Sporting Gijón',\n",
       " 'Getafe',\n",
       " 'Hércules',\n",
       " 'Athletic Bilbao',\n",
       " 'NAC Breda',\n",
       " 'Roda JC Kerkrade',\n",
       " 'Utrecht',\n",
       " 'Groningen',\n",
       " 'Feyenoord Rotterdam',\n",
       " 'Twente Enschede',\n",
       " 'PSV Eindhoven',\n",
       " 'Willem II Tilburg',\n",
       " 'NEC Nijmegen',\n",
       " 'Vitesse Arnhem',\n",
       " 'Ajax Amsterdam',\n",
       " 'De Graafschap Doetinchem',\n",
       " 'SBV Excelsior Rotterdam',\n",
       " 'Atalanta BC',\n",
       " 'AC Siena',\n",
       " 'Novara Calcio ',\n",
       " 'FCO Dijon',\n",
       " 'Évian Thonon Gaillard',\n",
       " 'Gil Vicente',\n",
       " 'CD Feirense',\n",
       " 'Augsburg',\n",
       " 'Real Betis Balompié',\n",
       " 'Granada',\n",
       " 'Delfino Pescara ',\n",
       " 'SC Bastia',\n",
       " 'ES Troyes AC',\n",
       " 'Stade Reims',\n",
       " 'GD Estoril',\n",
       " 'Moreirense',\n",
       " 'Real Valladolid',\n",
       " 'Celta de Vigo',\n",
       " 'AS Livorno',\n",
       " 'US Sassuolo',\n",
       " 'EA Guingamp',\n",
       " 'Nantes',\n",
       " 'Belenenses SAD',\n",
       " 'Arouca',\n",
       " 'Elche',\n",
       " 'SC Cambuur-Leeuwarden',\n",
       " 'Go Ahead Eagles Deventer',\n",
       " 'Inter Milan',\n",
       " 'Metz',\n",
       " 'Penafiel',\n",
       " 'Boavista Porto',\n",
       " 'SC Paderborn ',\n",
       " 'Córdoba',\n",
       " 'Dordrecht',\n",
       " 'ABournemouth',\n",
       " 'Carpi ',\n",
       " 'Frosinone Calcio',\n",
       " 'SCO Angers',\n",
       " 'GAjaccio',\n",
       " 'União Madeira',\n",
       " 'Ingolstadt ',\n",
       " 'SV Darmstadt ',\n",
       " 'GD Chaves',\n",
       " 'Benevento Calcio',\n",
       " 'SPAL ',\n",
       " 'SC Amiens',\n",
       " 'Desportivo Aves',\n",
       " 'Girona',\n",
       " 'Parma Calcio ',\n",
       " 'CD Santa Clara',\n",
       " 'Emmen',\n",
       " '.Union Berlin']"
      ]
     },
     "execution_count": 256,
     "metadata": {},
     "output_type": "execute_result"
    }
   ],
   "source": [
    "# the following clubs don't have the same name as appears in FIFA data, thus they will be missing while merging\n",
    "# two datasets\n",
    "missing_club"
   ]
  },
  {
   "cell_type": "code",
   "execution_count": 257,
   "metadata": {
    "ExecuteTime": {
     "end_time": "2020-01-10T12:51:20.898619Z",
     "start_time": "2020-01-10T12:51:20.719563Z"
    }
   },
   "outputs": [
    {
     "data": {
      "text/plain": [
       "('Bayer 04 Leverkusen', 95)"
      ]
     },
     "execution_count": 257,
     "metadata": {},
     "output_type": "execute_result"
    }
   ],
   "source": [
    "#fuzzywuzzy is a package which allows to do fuzzy match . It is useful to match club names in different schema\n",
    "from fuzzywuzzy import process\n",
    "choices=FIFA_club_name\n",
    "process.extractOne('Bayer  Leverkusen', choices)"
   ]
  },
  {
   "cell_type": "code",
   "execution_count": 258,
   "metadata": {
    "ExecuteTime": {
     "end_time": "2020-01-10T12:51:21.172072Z",
     "start_time": "2020-01-10T12:51:21.168875Z"
    }
   },
   "outputs": [],
   "source": [
    "def rename(club,choices):\n",
    "    if club in choices:\n",
    "        return club \n",
    "    else:\n",
    "        return process.extractOne(club, choices)[0]"
   ]
  },
  {
   "cell_type": "code",
   "execution_count": 259,
   "metadata": {
    "ExecuteTime": {
     "end_time": "2020-01-10T12:51:41.584867Z",
     "start_time": "2020-01-10T12:51:21.566478Z"
    }
   },
   "outputs": [],
   "source": [
    "#len(new_name)=282  ,  29.5 seconds\n",
    "new_name=[rename(club,choices) if not (club in FIFA_club_name) else club for club in list(transfer_span_reduced['club_name'].unique())  ]"
   ]
  },
  {
   "cell_type": "code",
   "execution_count": 260,
   "metadata": {
    "ExecuteTime": {
     "end_time": "2020-01-10T12:51:42.859459Z",
     "start_time": "2020-01-10T12:51:42.855589Z"
    }
   },
   "outputs": [
    {
     "data": {
      "text/plain": [
       "(197, 224)"
      ]
     },
     "execution_count": 260,
     "metadata": {},
     "output_type": "execute_result"
    }
   ],
   "source": [
    "len(set(new_name)),len(new_name)  #there is duplicates in new_name"
   ]
  },
  {
   "cell_type": "code",
   "execution_count": 261,
   "metadata": {
    "ExecuteTime": {
     "end_time": "2020-01-10T12:51:43.238634Z",
     "start_time": "2020-01-10T12:51:43.228528Z"
    }
   },
   "outputs": [],
   "source": [
    "# for fifa data, we only select clubs appeared in the network of 7 major clubs , we get 197 of them \n",
    "fifa_df_reduced=fifa_df[fifa_df['club'].isin(new_name)]"
   ]
  },
  {
   "cell_type": "code",
   "execution_count": 262,
   "metadata": {
    "ExecuteTime": {
     "end_time": "2020-01-10T12:51:43.595834Z",
     "start_time": "2020-01-10T12:51:43.559707Z"
    }
   },
   "outputs": [
    {
     "data": {
      "text/html": [
       "<div>\n",
       "<style scoped>\n",
       "    .dataframe tbody tr th:only-of-type {\n",
       "        vertical-align: middle;\n",
       "    }\n",
       "\n",
       "    .dataframe tbody tr th {\n",
       "        vertical-align: top;\n",
       "    }\n",
       "\n",
       "    .dataframe thead th {\n",
       "        text-align: right;\n",
       "    }\n",
       "</style>\n",
       "<table border=\"1\" class=\"dataframe\">\n",
       "  <thead>\n",
       "    <tr style=\"text-align: right;\">\n",
       "      <th></th>\n",
       "      <th>club</th>\n",
       "      <th>score_list</th>\n",
       "      <th>overall</th>\n",
       "      <th>value_eur</th>\n",
       "    </tr>\n",
       "  </thead>\n",
       "  <tbody>\n",
       "    <tr>\n",
       "      <td>0</td>\n",
       "      <td>1. FC Kaiserslautern</td>\n",
       "      <td>[69, 68, 68, 67, 67, 66, 66, 66, 66, 65, 65, 6...</td>\n",
       "      <td>63.750000</td>\n",
       "      <td>6.039286e+05</td>\n",
       "    </tr>\n",
       "    <tr>\n",
       "      <td>1</td>\n",
       "      <td>1. FC Köln</td>\n",
       "      <td>[81, 79, 79, 78, 77, 76, 76, 76, 75, 75, 75, 7...</td>\n",
       "      <td>71.612903</td>\n",
       "      <td>5.360000e+06</td>\n",
       "    </tr>\n",
       "    <tr>\n",
       "      <td>2</td>\n",
       "      <td>1. FC Union Berlin</td>\n",
       "      <td>[77, 75, 74, 73, 73, 73, 73, 73, 72, 72, 72, 7...</td>\n",
       "      <td>68.787879</td>\n",
       "      <td>2.206970e+06</td>\n",
       "    </tr>\n",
       "    <tr>\n",
       "      <td>3</td>\n",
       "      <td>1. FSV Mainz 05</td>\n",
       "      <td>[78, 78, 78, 77, 75, 75, 75, 75, 75, 75, 74, 7...</td>\n",
       "      <td>69.969697</td>\n",
       "      <td>4.636364e+06</td>\n",
       "    </tr>\n",
       "    <tr>\n",
       "      <td>4</td>\n",
       "      <td>AC Ajaccio</td>\n",
       "      <td>[70, 69, 68, 68, 68, 68, 66, 66, 65, 64, 63, 6...</td>\n",
       "      <td>62.458333</td>\n",
       "      <td>4.556250e+05</td>\n",
       "    </tr>\n",
       "    <tr>\n",
       "      <td>...</td>\n",
       "      <td>...</td>\n",
       "      <td>...</td>\n",
       "      <td>...</td>\n",
       "      <td>...</td>\n",
       "    </tr>\n",
       "    <tr>\n",
       "      <td>192</td>\n",
       "      <td>West Ham United</td>\n",
       "      <td>[84, 83, 82, 81, 80, 79, 79, 79, 78, 78, 78, 7...</td>\n",
       "      <td>72.575758</td>\n",
       "      <td>8.412576e+06</td>\n",
       "    </tr>\n",
       "    <tr>\n",
       "      <td>193</td>\n",
       "      <td>Wigan Athletic</td>\n",
       "      <td>[71, 71, 70, 70, 70, 70, 70, 69, 69, 69, 69, 6...</td>\n",
       "      <td>66.166667</td>\n",
       "      <td>9.980000e+05</td>\n",
       "    </tr>\n",
       "    <tr>\n",
       "      <td>194</td>\n",
       "      <td>Willem II</td>\n",
       "      <td>[71, 71, 70, 69, 69, 68, 68, 67, 67, 66, 66, 6...</td>\n",
       "      <td>64.681818</td>\n",
       "      <td>9.177273e+05</td>\n",
       "    </tr>\n",
       "    <tr>\n",
       "      <td>195</td>\n",
       "      <td>Wolfsberger AC</td>\n",
       "      <td>[71, 69, 69, 68, 66, 66, 66, 66, 66, 65, 65, 6...</td>\n",
       "      <td>62.961538</td>\n",
       "      <td>5.176923e+05</td>\n",
       "    </tr>\n",
       "    <tr>\n",
       "      <td>196</td>\n",
       "      <td>Wolverhampton Wanderers</td>\n",
       "      <td>[84, 83, 82, 80, 80, 79, 79, 78, 78, 77, 77, 7...</td>\n",
       "      <td>70.454545</td>\n",
       "      <td>7.016667e+06</td>\n",
       "    </tr>\n",
       "  </tbody>\n",
       "</table>\n",
       "<p>197 rows × 4 columns</p>\n",
       "</div>"
      ],
      "text/plain": [
       "                        club  \\\n",
       "0       1. FC Kaiserslautern   \n",
       "1                 1. FC Köln   \n",
       "2         1. FC Union Berlin   \n",
       "3            1. FSV Mainz 05   \n",
       "4                 AC Ajaccio   \n",
       "..                       ...   \n",
       "192          West Ham United   \n",
       "193           Wigan Athletic   \n",
       "194                Willem II   \n",
       "195           Wolfsberger AC   \n",
       "196  Wolverhampton Wanderers   \n",
       "\n",
       "                                            score_list    overall  \\\n",
       "0    [69, 68, 68, 67, 67, 66, 66, 66, 66, 65, 65, 6...  63.750000   \n",
       "1    [81, 79, 79, 78, 77, 76, 76, 76, 75, 75, 75, 7...  71.612903   \n",
       "2    [77, 75, 74, 73, 73, 73, 73, 73, 72, 72, 72, 7...  68.787879   \n",
       "3    [78, 78, 78, 77, 75, 75, 75, 75, 75, 75, 74, 7...  69.969697   \n",
       "4    [70, 69, 68, 68, 68, 68, 66, 66, 65, 64, 63, 6...  62.458333   \n",
       "..                                                 ...        ...   \n",
       "192  [84, 83, 82, 81, 80, 79, 79, 79, 78, 78, 78, 7...  72.575758   \n",
       "193  [71, 71, 70, 70, 70, 70, 70, 69, 69, 69, 69, 6...  66.166667   \n",
       "194  [71, 71, 70, 69, 69, 68, 68, 67, 67, 66, 66, 6...  64.681818   \n",
       "195  [71, 69, 69, 68, 66, 66, 66, 66, 66, 65, 65, 6...  62.961538   \n",
       "196  [84, 83, 82, 80, 80, 79, 79, 78, 78, 77, 77, 7...  70.454545   \n",
       "\n",
       "        value_eur  \n",
       "0    6.039286e+05  \n",
       "1    5.360000e+06  \n",
       "2    2.206970e+06  \n",
       "3    4.636364e+06  \n",
       "4    4.556250e+05  \n",
       "..            ...  \n",
       "192  8.412576e+06  \n",
       "193  9.980000e+05  \n",
       "194  9.177273e+05  \n",
       "195  5.176923e+05  \n",
       "196  7.016667e+06  \n",
       "\n",
       "[197 rows x 4 columns]"
      ]
     },
     "execution_count": 262,
     "metadata": {},
     "output_type": "execute_result"
    }
   ],
   "source": [
    "# attributes_df will be used for machine learning, each row is composed of \n",
    "#|score_list  of player score| overall|value_eur|538 score\n",
    "score_list_df=fifa_df_reduced.groupby('club')['overall'].apply(list).reset_index(name='score_list')\n",
    "attributes_df=pd.merge(score_list_df,team_attributes_df[['overall','value_eur','club']],how='left',left_on='club',right_on='club')\n",
    "attributes_df"
   ]
  },
  {
   "cell_type": "code",
   "execution_count": 263,
   "metadata": {
    "ExecuteTime": {
     "end_time": "2020-01-10T12:51:44.173654Z",
     "start_time": "2020-01-10T12:51:44.164421Z"
    }
   },
   "outputs": [],
   "source": [
    "#introduce club score data scraped from https://projects.fivethirtyeight.com/global-club-soccer-rankings/\n",
    "pkl_file = open('./temporary_pkl/club_score_df.pkl','rb')\n",
    "club_score_df = pickle.load(pkl_file)\n",
    "pkl_file.close()"
   ]
  },
  {
   "cell_type": "markdown",
   "metadata": {},
   "source": [
    "### Step: Merge club_score_df and attributes_df(FIFA)"
   ]
  },
  {
   "cell_type": "code",
   "execution_count": 264,
   "metadata": {
    "ExecuteTime": {
     "end_time": "2020-01-10T12:51:44.931857Z",
     "start_time": "2020-01-10T12:51:44.928588Z"
    }
   },
   "outputs": [],
   "source": [
    "# we can not direct merge the two DataFrame based on club name, because they dont have the same name schema\n",
    "# We need to first standardize the club name of club_score_df\n",
    "\n"
   ]
  },
  {
   "cell_type": "code",
   "execution_count": 265,
   "metadata": {
    "ExecuteTime": {
     "end_time": "2020-01-10T12:52:00.724586Z",
     "start_time": "2020-01-10T12:51:45.256099Z"
    }
   },
   "outputs": [],
   "source": [
    "# It takes 59.3s to run this line of code. Rename the club name of score DataFrame. PSG is speical beacuse it's\n",
    "# abbreviation, thus fuzzywuzzy can not deal with it. But the rest is fine\n",
    "club_score_df['club']=club_score_df['club'].apply(lambda x:'Paris Saint-Germain' if x=='PSG' else rename(x,choices))"
   ]
  },
  {
   "cell_type": "code",
   "execution_count": 266,
   "metadata": {
    "ExecuteTime": {
     "end_time": "2020-01-10T12:52:00.734325Z",
     "start_time": "2020-01-10T12:52:00.726204Z"
    }
   },
   "outputs": [
    {
     "data": {
      "text/html": [
       "<div>\n",
       "<style scoped>\n",
       "    .dataframe tbody tr th:only-of-type {\n",
       "        vertical-align: middle;\n",
       "    }\n",
       "\n",
       "    .dataframe tbody tr th {\n",
       "        vertical-align: top;\n",
       "    }\n",
       "\n",
       "    .dataframe thead th {\n",
       "        text-align: right;\n",
       "    }\n",
       "</style>\n",
       "<table border=\"1\" class=\"dataframe\">\n",
       "  <thead>\n",
       "    <tr style=\"text-align: right;\">\n",
       "      <th></th>\n",
       "      <th>club</th>\n",
       "      <th>score</th>\n",
       "    </tr>\n",
       "  </thead>\n",
       "  <tbody>\n",
       "    <tr>\n",
       "      <td>92</td>\n",
       "      <td>PSV</td>\n",
       "      <td>63.5</td>\n",
       "    </tr>\n",
       "  </tbody>\n",
       "</table>\n",
       "</div>"
      ],
      "text/plain": [
       "   club  score\n",
       "92  PSV   63.5"
      ]
     },
     "execution_count": 266,
     "metadata": {},
     "output_type": "execute_result"
    }
   ],
   "source": [
    "# A default of using Fuzzywuzzy it's it may attribute one club name to several club names that appears similar\n",
    "# In this case, a simple but aggressive solution is to drop all duplicates row and only keep the first . This is not that bad because:\n",
    "# 1.The chance to have duplicates is low 2.  Duplicates only appears for the clubs in very low ranking(out of 120)\n",
    "# This solution will let us lose around 15 small clubs\n",
    "club_score_df[club_score_df['club']=='PSV']"
   ]
  },
  {
   "cell_type": "code",
   "execution_count": 267,
   "metadata": {
    "ExecuteTime": {
     "end_time": "2020-01-10T12:52:00.746531Z",
     "start_time": "2020-01-10T12:52:00.736286Z"
    }
   },
   "outputs": [
    {
     "data": {
      "text/html": [
       "<div>\n",
       "<style scoped>\n",
       "    .dataframe tbody tr th:only-of-type {\n",
       "        vertical-align: middle;\n",
       "    }\n",
       "\n",
       "    .dataframe tbody tr th {\n",
       "        vertical-align: top;\n",
       "    }\n",
       "\n",
       "    .dataframe thead th {\n",
       "        text-align: right;\n",
       "    }\n",
       "</style>\n",
       "<table border=\"1\" class=\"dataframe\">\n",
       "  <thead>\n",
       "    <tr style=\"text-align: right;\">\n",
       "      <th></th>\n",
       "      <th>club</th>\n",
       "      <th>score</th>\n",
       "    </tr>\n",
       "  </thead>\n",
       "  <tbody>\n",
       "    <tr>\n",
       "      <td>0</td>\n",
       "      <td>Liverpool</td>\n",
       "      <td>94.1</td>\n",
       "    </tr>\n",
       "    <tr>\n",
       "      <td>1</td>\n",
       "      <td>Manchester City</td>\n",
       "      <td>93.9</td>\n",
       "    </tr>\n",
       "    <tr>\n",
       "      <td>2</td>\n",
       "      <td>FC Bayern München</td>\n",
       "      <td>93.4</td>\n",
       "    </tr>\n",
       "    <tr>\n",
       "      <td>3</td>\n",
       "      <td>Paris Saint-Germain</td>\n",
       "      <td>90.5</td>\n",
       "    </tr>\n",
       "    <tr>\n",
       "      <td>4</td>\n",
       "      <td>Real Madrid</td>\n",
       "      <td>90.1</td>\n",
       "    </tr>\n",
       "    <tr>\n",
       "      <td>...</td>\n",
       "      <td>...</td>\n",
       "      <td>...</td>\n",
       "    </tr>\n",
       "    <tr>\n",
       "      <td>523</td>\n",
       "      <td>Pachuca</td>\n",
       "      <td>22.9</td>\n",
       "    </tr>\n",
       "    <tr>\n",
       "      <td>528</td>\n",
       "      <td>Blackpool</td>\n",
       "      <td>22.3</td>\n",
       "    </tr>\n",
       "    <tr>\n",
       "      <td>541</td>\n",
       "      <td>Academica Clinceni</td>\n",
       "      <td>21.0</td>\n",
       "    </tr>\n",
       "    <tr>\n",
       "      <td>544</td>\n",
       "      <td>Stade Rennais FC</td>\n",
       "      <td>20.7</td>\n",
       "    </tr>\n",
       "    <tr>\n",
       "      <td>560</td>\n",
       "      <td>Livorno</td>\n",
       "      <td>19.5</td>\n",
       "    </tr>\n",
       "  </tbody>\n",
       "</table>\n",
       "<p>192 rows × 2 columns</p>\n",
       "</div>"
      ],
      "text/plain": [
       "                    club  score\n",
       "0              Liverpool   94.1\n",
       "1        Manchester City   93.9\n",
       "2      FC Bayern München   93.4\n",
       "3    Paris Saint-Germain   90.5\n",
       "4            Real Madrid   90.1\n",
       "..                   ...    ...\n",
       "523              Pachuca   22.9\n",
       "528            Blackpool   22.3\n",
       "541   Academica Clinceni   21.0\n",
       "544     Stade Rennais FC   20.7\n",
       "560              Livorno   19.5\n",
       "\n",
       "[192 rows x 2 columns]"
      ]
     },
     "execution_count": 267,
     "metadata": {},
     "output_type": "execute_result"
    }
   ],
   "source": [
    "club_score_df"
   ]
  },
  {
   "cell_type": "code",
   "execution_count": 268,
   "metadata": {
    "ExecuteTime": {
     "end_time": "2020-01-10T12:52:00.756543Z",
     "start_time": "2020-01-10T12:52:00.747938Z"
    }
   },
   "outputs": [
    {
     "data": {
      "text/html": [
       "<div>\n",
       "<style scoped>\n",
       "    .dataframe tbody tr th:only-of-type {\n",
       "        vertical-align: middle;\n",
       "    }\n",
       "\n",
       "    .dataframe tbody tr th {\n",
       "        vertical-align: top;\n",
       "    }\n",
       "\n",
       "    .dataframe thead th {\n",
       "        text-align: right;\n",
       "    }\n",
       "</style>\n",
       "<table border=\"1\" class=\"dataframe\">\n",
       "  <thead>\n",
       "    <tr style=\"text-align: right;\">\n",
       "      <th></th>\n",
       "      <th>club</th>\n",
       "      <th>score</th>\n",
       "    </tr>\n",
       "  </thead>\n",
       "  <tbody>\n",
       "    <tr>\n",
       "      <td>60</td>\n",
       "      <td>Athletic Club de Bilbao</td>\n",
       "      <td>67.5</td>\n",
       "    </tr>\n",
       "    <tr>\n",
       "      <td>247</td>\n",
       "      <td>FC Porto</td>\n",
       "      <td>45.1</td>\n",
       "    </tr>\n",
       "    <tr>\n",
       "      <td>252</td>\n",
       "      <td>RC Strasbourg Alsace</td>\n",
       "      <td>44.7</td>\n",
       "    </tr>\n",
       "    <tr>\n",
       "      <td>342</td>\n",
       "      <td>Deportivo Alavés</td>\n",
       "      <td>37.8</td>\n",
       "    </tr>\n",
       "    <tr>\n",
       "      <td>498</td>\n",
       "      <td>Roma</td>\n",
       "      <td>24.9</td>\n",
       "    </tr>\n",
       "    <tr>\n",
       "      <td>502</td>\n",
       "      <td>Athletic Club de Bilbao</td>\n",
       "      <td>24.5</td>\n",
       "    </tr>\n",
       "    <tr>\n",
       "      <td>511</td>\n",
       "      <td>SPAL</td>\n",
       "      <td>23.8</td>\n",
       "    </tr>\n",
       "  </tbody>\n",
       "</table>\n",
       "</div>"
      ],
      "text/plain": [
       "                        club  score\n",
       "60   Athletic Club de Bilbao   67.5\n",
       "247                 FC Porto   45.1\n",
       "252     RC Strasbourg Alsace   44.7\n",
       "342         Deportivo Alavés   37.8\n",
       "498                     Roma   24.9\n",
       "502  Athletic Club de Bilbao   24.5\n",
       "511                     SPAL   23.8"
      ]
     },
     "execution_count": 268,
     "metadata": {},
     "output_type": "execute_result"
    }
   ],
   "source": [
    "# dupllicated club name appears\n",
    "club_score_df[club_score_df.duplicated('club')].head(15)"
   ]
  },
  {
   "cell_type": "code",
   "execution_count": 269,
   "metadata": {
    "ExecuteTime": {
     "end_time": "2020-01-10T12:54:22.212381Z",
     "start_time": "2020-01-10T12:54:22.207063Z"
    }
   },
   "outputs": [
    {
     "name": "stderr",
     "output_type": "stream",
     "text": [
      "/Users/Saibo/anaconda3/lib/python3.7/site-packages/pandas/core/frame.py:4223: SettingWithCopyWarning: \n",
      "A value is trying to be set on a copy of a slice from a DataFrame\n",
      "\n",
      "See the caveats in the documentation: http://pandas.pydata.org/pandas-docs/stable/user_guide/indexing.html#returning-a-view-versus-a-copy\n",
      "  return super().rename(**kwargs)\n"
     ]
    }
   ],
   "source": [
    "# drop duplciate rows and only keep the first occurence\n",
    "club_score_df=club_score_df.drop_duplicates('club',keep='first')\n",
    "club_score_df.rename(columns={'score':'538_score'},inplace=True)"
   ]
  },
  {
   "cell_type": "code",
   "execution_count": 270,
   "metadata": {
    "ExecuteTime": {
     "end_time": "2020-01-10T12:54:23.060562Z",
     "start_time": "2020-01-10T12:54:23.045212Z"
    }
   },
   "outputs": [
    {
     "data": {
      "text/html": [
       "<div>\n",
       "<style scoped>\n",
       "    .dataframe tbody tr th:only-of-type {\n",
       "        vertical-align: middle;\n",
       "    }\n",
       "\n",
       "    .dataframe tbody tr th {\n",
       "        vertical-align: top;\n",
       "    }\n",
       "\n",
       "    .dataframe thead th {\n",
       "        text-align: right;\n",
       "    }\n",
       "</style>\n",
       "<table border=\"1\" class=\"dataframe\">\n",
       "  <thead>\n",
       "    <tr style=\"text-align: right;\">\n",
       "      <th></th>\n",
       "      <th>club</th>\n",
       "      <th>score_list</th>\n",
       "      <th>overall</th>\n",
       "      <th>value_eur</th>\n",
       "    </tr>\n",
       "  </thead>\n",
       "  <tbody>\n",
       "    <tr>\n",
       "      <td>0</td>\n",
       "      <td>1. FC Kaiserslautern</td>\n",
       "      <td>[69, 68, 68, 67, 67, 66, 66, 66, 66, 65, 65, 6...</td>\n",
       "      <td>63.750000</td>\n",
       "      <td>6.039286e+05</td>\n",
       "    </tr>\n",
       "    <tr>\n",
       "      <td>1</td>\n",
       "      <td>1. FC Köln</td>\n",
       "      <td>[81, 79, 79, 78, 77, 76, 76, 76, 75, 75, 75, 7...</td>\n",
       "      <td>71.612903</td>\n",
       "      <td>5.360000e+06</td>\n",
       "    </tr>\n",
       "    <tr>\n",
       "      <td>2</td>\n",
       "      <td>1. FC Union Berlin</td>\n",
       "      <td>[77, 75, 74, 73, 73, 73, 73, 73, 72, 72, 72, 7...</td>\n",
       "      <td>68.787879</td>\n",
       "      <td>2.206970e+06</td>\n",
       "    </tr>\n",
       "    <tr>\n",
       "      <td>3</td>\n",
       "      <td>1. FSV Mainz 05</td>\n",
       "      <td>[78, 78, 78, 77, 75, 75, 75, 75, 75, 75, 74, 7...</td>\n",
       "      <td>69.969697</td>\n",
       "      <td>4.636364e+06</td>\n",
       "    </tr>\n",
       "    <tr>\n",
       "      <td>4</td>\n",
       "      <td>AC Ajaccio</td>\n",
       "      <td>[70, 69, 68, 68, 68, 68, 66, 66, 65, 64, 63, 6...</td>\n",
       "      <td>62.458333</td>\n",
       "      <td>4.556250e+05</td>\n",
       "    </tr>\n",
       "    <tr>\n",
       "      <td>...</td>\n",
       "      <td>...</td>\n",
       "      <td>...</td>\n",
       "      <td>...</td>\n",
       "      <td>...</td>\n",
       "    </tr>\n",
       "    <tr>\n",
       "      <td>192</td>\n",
       "      <td>West Ham United</td>\n",
       "      <td>[84, 83, 82, 81, 80, 79, 79, 79, 78, 78, 78, 7...</td>\n",
       "      <td>72.575758</td>\n",
       "      <td>8.412576e+06</td>\n",
       "    </tr>\n",
       "    <tr>\n",
       "      <td>193</td>\n",
       "      <td>Wigan Athletic</td>\n",
       "      <td>[71, 71, 70, 70, 70, 70, 70, 69, 69, 69, 69, 6...</td>\n",
       "      <td>66.166667</td>\n",
       "      <td>9.980000e+05</td>\n",
       "    </tr>\n",
       "    <tr>\n",
       "      <td>194</td>\n",
       "      <td>Willem II</td>\n",
       "      <td>[71, 71, 70, 69, 69, 68, 68, 67, 67, 66, 66, 6...</td>\n",
       "      <td>64.681818</td>\n",
       "      <td>9.177273e+05</td>\n",
       "    </tr>\n",
       "    <tr>\n",
       "      <td>195</td>\n",
       "      <td>Wolfsberger AC</td>\n",
       "      <td>[71, 69, 69, 68, 66, 66, 66, 66, 66, 65, 65, 6...</td>\n",
       "      <td>62.961538</td>\n",
       "      <td>5.176923e+05</td>\n",
       "    </tr>\n",
       "    <tr>\n",
       "      <td>196</td>\n",
       "      <td>Wolverhampton Wanderers</td>\n",
       "      <td>[84, 83, 82, 80, 80, 79, 79, 78, 78, 77, 77, 7...</td>\n",
       "      <td>70.454545</td>\n",
       "      <td>7.016667e+06</td>\n",
       "    </tr>\n",
       "  </tbody>\n",
       "</table>\n",
       "<p>197 rows × 4 columns</p>\n",
       "</div>"
      ],
      "text/plain": [
       "                        club  \\\n",
       "0       1. FC Kaiserslautern   \n",
       "1                 1. FC Köln   \n",
       "2         1. FC Union Berlin   \n",
       "3            1. FSV Mainz 05   \n",
       "4                 AC Ajaccio   \n",
       "..                       ...   \n",
       "192          West Ham United   \n",
       "193           Wigan Athletic   \n",
       "194                Willem II   \n",
       "195           Wolfsberger AC   \n",
       "196  Wolverhampton Wanderers   \n",
       "\n",
       "                                            score_list    overall  \\\n",
       "0    [69, 68, 68, 67, 67, 66, 66, 66, 66, 65, 65, 6...  63.750000   \n",
       "1    [81, 79, 79, 78, 77, 76, 76, 76, 75, 75, 75, 7...  71.612903   \n",
       "2    [77, 75, 74, 73, 73, 73, 73, 73, 72, 72, 72, 7...  68.787879   \n",
       "3    [78, 78, 78, 77, 75, 75, 75, 75, 75, 75, 74, 7...  69.969697   \n",
       "4    [70, 69, 68, 68, 68, 68, 66, 66, 65, 64, 63, 6...  62.458333   \n",
       "..                                                 ...        ...   \n",
       "192  [84, 83, 82, 81, 80, 79, 79, 79, 78, 78, 78, 7...  72.575758   \n",
       "193  [71, 71, 70, 70, 70, 70, 70, 69, 69, 69, 69, 6...  66.166667   \n",
       "194  [71, 71, 70, 69, 69, 68, 68, 67, 67, 66, 66, 6...  64.681818   \n",
       "195  [71, 69, 69, 68, 66, 66, 66, 66, 66, 65, 65, 6...  62.961538   \n",
       "196  [84, 83, 82, 80, 80, 79, 79, 78, 78, 77, 77, 7...  70.454545   \n",
       "\n",
       "        value_eur  \n",
       "0    6.039286e+05  \n",
       "1    5.360000e+06  \n",
       "2    2.206970e+06  \n",
       "3    4.636364e+06  \n",
       "4    4.556250e+05  \n",
       "..            ...  \n",
       "192  8.412576e+06  \n",
       "193  9.980000e+05  \n",
       "194  9.177273e+05  \n",
       "195  5.176923e+05  \n",
       "196  7.016667e+06  \n",
       "\n",
       "[197 rows x 4 columns]"
      ]
     },
     "execution_count": 270,
     "metadata": {},
     "output_type": "execute_result"
    }
   ],
   "source": [
    "attributes_df"
   ]
  },
  {
   "cell_type": "code",
   "execution_count": 271,
   "metadata": {
    "ExecuteTime": {
     "end_time": "2020-01-10T12:54:23.862248Z",
     "start_time": "2020-01-10T12:54:23.854036Z"
    }
   },
   "outputs": [],
   "source": [
    "# update attribute_df(add 538score)\n",
    "attributes_df=pd.merge(club_score_df,attributes_df,left_on='club',right_on='club',how='right')"
   ]
  },
  {
   "cell_type": "code",
   "execution_count": 272,
   "metadata": {
    "ExecuteTime": {
     "end_time": "2020-01-10T12:54:24.557321Z",
     "start_time": "2020-01-10T12:54:24.540127Z"
    }
   },
   "outputs": [
    {
     "data": {
      "text/html": [
       "<div>\n",
       "<style scoped>\n",
       "    .dataframe tbody tr th:only-of-type {\n",
       "        vertical-align: middle;\n",
       "    }\n",
       "\n",
       "    .dataframe tbody tr th {\n",
       "        vertical-align: top;\n",
       "    }\n",
       "\n",
       "    .dataframe thead th {\n",
       "        text-align: right;\n",
       "    }\n",
       "</style>\n",
       "<table border=\"1\" class=\"dataframe\">\n",
       "  <thead>\n",
       "    <tr style=\"text-align: right;\">\n",
       "      <th></th>\n",
       "      <th>club</th>\n",
       "      <th>538_score</th>\n",
       "      <th>score_list</th>\n",
       "      <th>overall</th>\n",
       "      <th>value_eur</th>\n",
       "    </tr>\n",
       "  </thead>\n",
       "  <tbody>\n",
       "    <tr>\n",
       "      <td>0</td>\n",
       "      <td>Liverpool</td>\n",
       "      <td>94.1</td>\n",
       "      <td>[90, 90, 89, 88, 86, 85, 85, 84, 83, 83, 82, 8...</td>\n",
       "      <td>75.848485</td>\n",
       "      <td>2.100803e+07</td>\n",
       "    </tr>\n",
       "    <tr>\n",
       "      <td>1</td>\n",
       "      <td>Manchester City</td>\n",
       "      <td>93.9</td>\n",
       "      <td>[91, 89, 88, 88, 88, 87, 87, 87, 86, 85, 84, 8...</td>\n",
       "      <td>77.000000</td>\n",
       "      <td>2.562864e+07</td>\n",
       "    </tr>\n",
       "    <tr>\n",
       "      <td>2</td>\n",
       "      <td>FC Bayern München</td>\n",
       "      <td>93.4</td>\n",
       "      <td>[89, 88, 87, 86, 86, 86, 85, 85, 84, 84, 84, 8...</td>\n",
       "      <td>81.304348</td>\n",
       "      <td>2.994674e+07</td>\n",
       "    </tr>\n",
       "    <tr>\n",
       "      <td>3</td>\n",
       "      <td>Paris Saint-Germain</td>\n",
       "      <td>90.5</td>\n",
       "      <td>[92, 89, 88, 87, 86, 86, 86, 83, 83, 83, 82, 8...</td>\n",
       "      <td>75.909091</td>\n",
       "      <td>2.083485e+07</td>\n",
       "    </tr>\n",
       "    <tr>\n",
       "      <td>4</td>\n",
       "      <td>Real Madrid</td>\n",
       "      <td>90.1</td>\n",
       "      <td>[91, 90, 89, 88, 88, 87, 87, 87, 86, 85, 85, 8...</td>\n",
       "      <td>80.121212</td>\n",
       "      <td>2.720758e+07</td>\n",
       "    </tr>\n",
       "    <tr>\n",
       "      <td>...</td>\n",
       "      <td>...</td>\n",
       "      <td>...</td>\n",
       "      <td>...</td>\n",
       "      <td>...</td>\n",
       "      <td>...</td>\n",
       "    </tr>\n",
       "    <tr>\n",
       "      <td>192</td>\n",
       "      <td>Hellas Verona</td>\n",
       "      <td>NaN</td>\n",
       "      <td>[77, 76, 75, 75, 75, 74, 74, 74, 73, 73, 72, 7...</td>\n",
       "      <td>69.787879</td>\n",
       "      <td>2.782424e+06</td>\n",
       "    </tr>\n",
       "    <tr>\n",
       "      <td>193</td>\n",
       "      <td>RSC Anderlecht</td>\n",
       "      <td>NaN</td>\n",
       "      <td>[83, 78, 77, 76, 75, 75, 75, 75, 74, 73, 73, 7...</td>\n",
       "      <td>71.642857</td>\n",
       "      <td>4.516071e+06</td>\n",
       "    </tr>\n",
       "    <tr>\n",
       "      <td>194</td>\n",
       "      <td>Racing Club</td>\n",
       "      <td>NaN</td>\n",
       "      <td>[81, 80, 79, 78, 78, 78, 78, 77, 77, 76, 75, 7...</td>\n",
       "      <td>72.107143</td>\n",
       "      <td>4.733036e+06</td>\n",
       "    </tr>\n",
       "    <tr>\n",
       "      <td>195</td>\n",
       "      <td>Standard de Liège</td>\n",
       "      <td>NaN</td>\n",
       "      <td>[77, 75, 74, 74, 73, 73, 73, 73, 73, 72, 72, 7...</td>\n",
       "      <td>71.250000</td>\n",
       "      <td>3.408393e+06</td>\n",
       "    </tr>\n",
       "    <tr>\n",
       "      <td>196</td>\n",
       "      <td>Unión Magdalena</td>\n",
       "      <td>NaN</td>\n",
       "      <td>[74, 70, 69, 69, 68, 67, 67, 67, 66, 65, 65, 6...</td>\n",
       "      <td>61.392857</td>\n",
       "      <td>5.194643e+05</td>\n",
       "    </tr>\n",
       "  </tbody>\n",
       "</table>\n",
       "<p>197 rows × 5 columns</p>\n",
       "</div>"
      ],
      "text/plain": [
       "                    club  538_score  \\\n",
       "0              Liverpool       94.1   \n",
       "1        Manchester City       93.9   \n",
       "2      FC Bayern München       93.4   \n",
       "3    Paris Saint-Germain       90.5   \n",
       "4            Real Madrid       90.1   \n",
       "..                   ...        ...   \n",
       "192        Hellas Verona        NaN   \n",
       "193       RSC Anderlecht        NaN   \n",
       "194          Racing Club        NaN   \n",
       "195    Standard de Liège        NaN   \n",
       "196      Unión Magdalena        NaN   \n",
       "\n",
       "                                            score_list    overall  \\\n",
       "0    [90, 90, 89, 88, 86, 85, 85, 84, 83, 83, 82, 8...  75.848485   \n",
       "1    [91, 89, 88, 88, 88, 87, 87, 87, 86, 85, 84, 8...  77.000000   \n",
       "2    [89, 88, 87, 86, 86, 86, 85, 85, 84, 84, 84, 8...  81.304348   \n",
       "3    [92, 89, 88, 87, 86, 86, 86, 83, 83, 83, 82, 8...  75.909091   \n",
       "4    [91, 90, 89, 88, 88, 87, 87, 87, 86, 85, 85, 8...  80.121212   \n",
       "..                                                 ...        ...   \n",
       "192  [77, 76, 75, 75, 75, 74, 74, 74, 73, 73, 72, 7...  69.787879   \n",
       "193  [83, 78, 77, 76, 75, 75, 75, 75, 74, 73, 73, 7...  71.642857   \n",
       "194  [81, 80, 79, 78, 78, 78, 78, 77, 77, 76, 75, 7...  72.107143   \n",
       "195  [77, 75, 74, 74, 73, 73, 73, 73, 73, 72, 72, 7...  71.250000   \n",
       "196  [74, 70, 69, 69, 68, 67, 67, 67, 66, 65, 65, 6...  61.392857   \n",
       "\n",
       "        value_eur  \n",
       "0    2.100803e+07  \n",
       "1    2.562864e+07  \n",
       "2    2.994674e+07  \n",
       "3    2.083485e+07  \n",
       "4    2.720758e+07  \n",
       "..            ...  \n",
       "192  2.782424e+06  \n",
       "193  4.516071e+06  \n",
       "194  4.733036e+06  \n",
       "195  3.408393e+06  \n",
       "196  5.194643e+05  \n",
       "\n",
       "[197 rows x 5 columns]"
      ]
     },
     "execution_count": 272,
     "metadata": {},
     "output_type": "execute_result"
    }
   ],
   "source": [
    "attributes_df"
   ]
  },
  {
   "cell_type": "code",
   "execution_count": 273,
   "metadata": {
    "ExecuteTime": {
     "end_time": "2020-01-10T12:54:25.663881Z",
     "start_time": "2020-01-10T12:54:25.652069Z"
    }
   },
   "outputs": [
    {
     "data": {
      "text/html": [
       "<div>\n",
       "<style scoped>\n",
       "    .dataframe tbody tr th:only-of-type {\n",
       "        vertical-align: middle;\n",
       "    }\n",
       "\n",
       "    .dataframe tbody tr th {\n",
       "        vertical-align: top;\n",
       "    }\n",
       "\n",
       "    .dataframe thead th {\n",
       "        text-align: right;\n",
       "    }\n",
       "</style>\n",
       "<table border=\"1\" class=\"dataframe\">\n",
       "  <thead>\n",
       "    <tr style=\"text-align: right;\">\n",
       "      <th></th>\n",
       "      <th>club</th>\n",
       "      <th>538_score</th>\n",
       "      <th>score_list</th>\n",
       "      <th>overall</th>\n",
       "      <th>value_eur</th>\n",
       "    </tr>\n",
       "  </thead>\n",
       "  <tbody>\n",
       "    <tr>\n",
       "      <td>185</td>\n",
       "      <td>1. FC Kaiserslautern</td>\n",
       "      <td>NaN</td>\n",
       "      <td>[69, 68, 68, 67, 67, 66, 66, 66, 66, 65, 65, 6...</td>\n",
       "      <td>63.750000</td>\n",
       "      <td>6.039286e+05</td>\n",
       "    </tr>\n",
       "    <tr>\n",
       "      <td>186</td>\n",
       "      <td>Angers SCO</td>\n",
       "      <td>NaN</td>\n",
       "      <td>[78, 76, 75, 75, 75, 75, 74, 74, 74, 74, 73, 7...</td>\n",
       "      <td>69.258065</td>\n",
       "      <td>3.225000e+06</td>\n",
       "    </tr>\n",
       "    <tr>\n",
       "      <td>187</td>\n",
       "      <td>Bolton Wanderers</td>\n",
       "      <td>NaN</td>\n",
       "      <td>[68, 68, 67, 66, 66, 62, 59, 59, 57, 56, 55, 5...</td>\n",
       "      <td>56.086957</td>\n",
       "      <td>2.756522e+05</td>\n",
       "    </tr>\n",
       "    <tr>\n",
       "      <td>188</td>\n",
       "      <td>CF Fuenlabrada</td>\n",
       "      <td>NaN</td>\n",
       "      <td>[70, 68, 68, 67, 67, 67, 66, 66, 65, 65, 65, 6...</td>\n",
       "      <td>64.413793</td>\n",
       "      <td>5.451724e+05</td>\n",
       "    </tr>\n",
       "    <tr>\n",
       "      <td>189</td>\n",
       "      <td>Central Córdoba</td>\n",
       "      <td>NaN</td>\n",
       "      <td>[72, 71, 70, 67, 67, 66, 66, 65, 65, 64, 63, 6...</td>\n",
       "      <td>63.428571</td>\n",
       "      <td>5.983929e+05</td>\n",
       "    </tr>\n",
       "  </tbody>\n",
       "</table>\n",
       "</div>"
      ],
      "text/plain": [
       "                     club  538_score  \\\n",
       "185  1. FC Kaiserslautern        NaN   \n",
       "186            Angers SCO        NaN   \n",
       "187      Bolton Wanderers        NaN   \n",
       "188        CF Fuenlabrada        NaN   \n",
       "189       Central Córdoba        NaN   \n",
       "\n",
       "                                            score_list    overall  \\\n",
       "185  [69, 68, 68, 67, 67, 66, 66, 66, 66, 65, 65, 6...  63.750000   \n",
       "186  [78, 76, 75, 75, 75, 75, 74, 74, 74, 74, 73, 7...  69.258065   \n",
       "187  [68, 68, 67, 66, 66, 62, 59, 59, 57, 56, 55, 5...  56.086957   \n",
       "188  [70, 68, 68, 67, 67, 67, 66, 66, 65, 65, 65, 6...  64.413793   \n",
       "189  [72, 71, 70, 67, 67, 66, 66, 65, 65, 64, 63, 6...  63.428571   \n",
       "\n",
       "        value_eur  \n",
       "185  6.039286e+05  \n",
       "186  3.225000e+06  \n",
       "187  2.756522e+05  \n",
       "188  5.451724e+05  \n",
       "189  5.983929e+05  "
      ]
     },
     "execution_count": 273,
     "metadata": {},
     "output_type": "execute_result"
    }
   ],
   "source": [
    "# There is 13 rows with NaN\n",
    "attributes_df[attributes_df['538_score'].isna()].head()"
   ]
  },
  {
   "cell_type": "code",
   "execution_count": 281,
   "metadata": {
    "ExecuteTime": {
     "end_time": "2020-01-10T12:55:30.614374Z",
     "start_time": "2020-01-10T12:55:30.609521Z"
    }
   },
   "outputs": [],
   "source": [
    "# Fill Nan by the min value of 538 score in the dataframe, because these club are ranked at very end.\n",
    "attributes_df['538_score']=attributes_df['538_score'].astype('float')\n",
    "min_sc=attributes_df['538_score'].min()\n",
    "fill_values=np.linspace(min_sc,min_sc-5,13)\n",
    "attributes_df['538_score'].fillna(value=min_sc,inplace=True)"
   ]
  },
  {
   "cell_type": "code",
   "execution_count": 283,
   "metadata": {
    "ExecuteTime": {
     "end_time": "2020-01-10T12:55:31.567190Z",
     "start_time": "2020-01-10T12:55:31.553106Z"
    }
   },
   "outputs": [
    {
     "data": {
      "text/html": [
       "<div>\n",
       "<style scoped>\n",
       "    .dataframe tbody tr th:only-of-type {\n",
       "        vertical-align: middle;\n",
       "    }\n",
       "\n",
       "    .dataframe tbody tr th {\n",
       "        vertical-align: top;\n",
       "    }\n",
       "\n",
       "    .dataframe thead th {\n",
       "        text-align: right;\n",
       "    }\n",
       "</style>\n",
       "<table border=\"1\" class=\"dataframe\">\n",
       "  <thead>\n",
       "    <tr style=\"text-align: right;\">\n",
       "      <th></th>\n",
       "      <th>club</th>\n",
       "      <th>538_score</th>\n",
       "      <th>score_list</th>\n",
       "      <th>overall</th>\n",
       "      <th>value_eur</th>\n",
       "    </tr>\n",
       "  </thead>\n",
       "  <tbody>\n",
       "    <tr>\n",
       "      <td>187</td>\n",
       "      <td>Bolton Wanderers</td>\n",
       "      <td>19.5</td>\n",
       "      <td>[68, 68, 67, 66, 66, 62, 59, 59, 57, 56, 55, 5...</td>\n",
       "      <td>56.086957</td>\n",
       "      <td>2.756522e+05</td>\n",
       "    </tr>\n",
       "    <tr>\n",
       "      <td>188</td>\n",
       "      <td>CF Fuenlabrada</td>\n",
       "      <td>19.5</td>\n",
       "      <td>[70, 68, 68, 67, 67, 67, 66, 66, 65, 65, 65, 6...</td>\n",
       "      <td>64.413793</td>\n",
       "      <td>5.451724e+05</td>\n",
       "    </tr>\n",
       "    <tr>\n",
       "      <td>189</td>\n",
       "      <td>Central Córdoba</td>\n",
       "      <td>19.5</td>\n",
       "      <td>[72, 71, 70, 67, 67, 66, 66, 65, 65, 64, 63, 6...</td>\n",
       "      <td>63.428571</td>\n",
       "      <td>5.983929e+05</td>\n",
       "    </tr>\n",
       "    <tr>\n",
       "      <td>190</td>\n",
       "      <td>Eintracht Braunschweig</td>\n",
       "      <td>19.5</td>\n",
       "      <td>[69, 68, 68, 68, 67, 66, 66, 66, 66, 65, 65, 6...</td>\n",
       "      <td>63.307692</td>\n",
       "      <td>4.953846e+05</td>\n",
       "    </tr>\n",
       "    <tr>\n",
       "      <td>191</td>\n",
       "      <td>FC Ingolstadt 04</td>\n",
       "      <td>19.5</td>\n",
       "      <td>[71, 70, 69, 69, 68, 68, 68, 68, 68, 66, 66, 6...</td>\n",
       "      <td>63.538462</td>\n",
       "      <td>7.638462e+05</td>\n",
       "    </tr>\n",
       "    <tr>\n",
       "      <td>192</td>\n",
       "      <td>Hellas Verona</td>\n",
       "      <td>19.5</td>\n",
       "      <td>[77, 76, 75, 75, 75, 74, 74, 74, 73, 73, 72, 7...</td>\n",
       "      <td>69.787879</td>\n",
       "      <td>2.782424e+06</td>\n",
       "    </tr>\n",
       "    <tr>\n",
       "      <td>193</td>\n",
       "      <td>RSC Anderlecht</td>\n",
       "      <td>19.5</td>\n",
       "      <td>[83, 78, 77, 76, 75, 75, 75, 75, 74, 73, 73, 7...</td>\n",
       "      <td>71.642857</td>\n",
       "      <td>4.516071e+06</td>\n",
       "    </tr>\n",
       "    <tr>\n",
       "      <td>194</td>\n",
       "      <td>Racing Club</td>\n",
       "      <td>19.5</td>\n",
       "      <td>[81, 80, 79, 78, 78, 78, 78, 77, 77, 76, 75, 7...</td>\n",
       "      <td>72.107143</td>\n",
       "      <td>4.733036e+06</td>\n",
       "    </tr>\n",
       "    <tr>\n",
       "      <td>195</td>\n",
       "      <td>Standard de Liège</td>\n",
       "      <td>19.5</td>\n",
       "      <td>[77, 75, 74, 74, 73, 73, 73, 73, 73, 72, 72, 7...</td>\n",
       "      <td>71.250000</td>\n",
       "      <td>3.408393e+06</td>\n",
       "    </tr>\n",
       "    <tr>\n",
       "      <td>196</td>\n",
       "      <td>Unión Magdalena</td>\n",
       "      <td>19.5</td>\n",
       "      <td>[74, 70, 69, 69, 68, 67, 67, 67, 66, 65, 65, 6...</td>\n",
       "      <td>61.392857</td>\n",
       "      <td>5.194643e+05</td>\n",
       "    </tr>\n",
       "  </tbody>\n",
       "</table>\n",
       "</div>"
      ],
      "text/plain": [
       "                       club  538_score  \\\n",
       "187        Bolton Wanderers       19.5   \n",
       "188          CF Fuenlabrada       19.5   \n",
       "189         Central Córdoba       19.5   \n",
       "190  Eintracht Braunschweig       19.5   \n",
       "191        FC Ingolstadt 04       19.5   \n",
       "192           Hellas Verona       19.5   \n",
       "193          RSC Anderlecht       19.5   \n",
       "194             Racing Club       19.5   \n",
       "195       Standard de Liège       19.5   \n",
       "196         Unión Magdalena       19.5   \n",
       "\n",
       "                                            score_list    overall  \\\n",
       "187  [68, 68, 67, 66, 66, 62, 59, 59, 57, 56, 55, 5...  56.086957   \n",
       "188  [70, 68, 68, 67, 67, 67, 66, 66, 65, 65, 65, 6...  64.413793   \n",
       "189  [72, 71, 70, 67, 67, 66, 66, 65, 65, 64, 63, 6...  63.428571   \n",
       "190  [69, 68, 68, 68, 67, 66, 66, 66, 66, 65, 65, 6...  63.307692   \n",
       "191  [71, 70, 69, 69, 68, 68, 68, 68, 68, 66, 66, 6...  63.538462   \n",
       "192  [77, 76, 75, 75, 75, 74, 74, 74, 73, 73, 72, 7...  69.787879   \n",
       "193  [83, 78, 77, 76, 75, 75, 75, 75, 74, 73, 73, 7...  71.642857   \n",
       "194  [81, 80, 79, 78, 78, 78, 78, 77, 77, 76, 75, 7...  72.107143   \n",
       "195  [77, 75, 74, 74, 73, 73, 73, 73, 73, 72, 72, 7...  71.250000   \n",
       "196  [74, 70, 69, 69, 68, 67, 67, 67, 66, 65, 65, 6...  61.392857   \n",
       "\n",
       "        value_eur  \n",
       "187  2.756522e+05  \n",
       "188  5.451724e+05  \n",
       "189  5.983929e+05  \n",
       "190  4.953846e+05  \n",
       "191  7.638462e+05  \n",
       "192  2.782424e+06  \n",
       "193  4.516071e+06  \n",
       "194  4.733036e+06  \n",
       "195  3.408393e+06  \n",
       "196  5.194643e+05  "
      ]
     },
     "execution_count": 283,
     "metadata": {},
     "output_type": "execute_result"
    }
   ],
   "source": [
    "# Now the dataframe is ready for doing machine learning to predict the 538_score\n",
    "attributes_df.tail(10)"
   ]
  }
 ],
 "metadata": {
  "kernelspec": {
   "display_name": "Python 3",
   "language": "python",
   "name": "python3"
  },
  "language_info": {
   "codemirror_mode": {
    "name": "ipython",
    "version": 3
   },
   "file_extension": ".py",
   "mimetype": "text/x-python",
   "name": "python",
   "nbconvert_exporter": "python",
   "pygments_lexer": "ipython3",
   "version": "3.7.3"
  }
 },
 "nbformat": 4,
 "nbformat_minor": 2
}
