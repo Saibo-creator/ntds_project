{
 "cells": [
  {
   "cell_type": "code",
   "execution_count": 1,
   "metadata": {
    "ExecuteTime": {
     "end_time": "2020-01-10T14:11:15.198406Z",
     "start_time": "2020-01-10T14:11:13.746243Z"
    }
   },
   "outputs": [],
   "source": [
    "import pickle\n",
    "import re\n",
    "import pandas as pd\n",
    "import numpy as np\n",
    "import networkx as nx\n",
    "from matplotlib import pyplot as plt\n",
    "from pygsp import graphs\n",
    "%matplotlib inline"
   ]
  },
  {
   "cell_type": "code",
   "execution_count": 2,
   "metadata": {
    "ExecuteTime": {
     "end_time": "2020-01-10T14:11:15.440985Z",
     "start_time": "2020-01-10T14:11:15.200056Z"
    }
   },
   "outputs": [],
   "source": [
    "filename=\"./fifa data/fifa2020data.csv\"\n",
    "fifa_df=pd.read_csv(filename)"
   ]
  },
  {
   "cell_type": "code",
   "execution_count": 3,
   "metadata": {
    "ExecuteTime": {
     "end_time": "2020-01-10T14:11:15.447494Z",
     "start_time": "2020-01-10T14:11:15.442955Z"
    }
   },
   "outputs": [
    {
     "data": {
      "text/plain": [
       "Index(['sofifa_id', 'player_url', 'short_name', 'long_name', 'age', 'dob',\n",
       "       'height_cm', 'weight_kg', 'nationality', 'club', 'overall', 'potential',\n",
       "       'value_eur', 'wage_eur', 'player_positions', 'preferred_foot',\n",
       "       'international_reputation', 'weak_foot', 'skill_moves', 'work_rate'],\n",
       "      dtype='object')"
      ]
     },
     "execution_count": 3,
     "metadata": {},
     "output_type": "execute_result"
    }
   ],
   "source": [
    "#check data schema\n",
    "fifa_df.columns[:20]"
   ]
  },
  {
   "cell_type": "code",
   "execution_count": 4,
   "metadata": {
    "ExecuteTime": {
     "end_time": "2020-01-10T14:11:15.479946Z",
     "start_time": "2020-01-10T14:11:15.449180Z"
    }
   },
   "outputs": [],
   "source": [
    "team_attributes_df=fifa_df.groupby('club').mean()[['overall','value_eur','wage_eur','age','potential','international_reputation']].sort_values(by='value_eur',ascending=False)\n",
    "\n",
    "team_attributes_df=team_attributes_df.reset_index()\n",
    "\n",
    "team_attributes_df\n",
    "\n",
    "FIFA_club_name=team_attributes_df['club'].unique()"
   ]
  },
  {
   "cell_type": "code",
   "execution_count": 5,
   "metadata": {
    "ExecuteTime": {
     "end_time": "2020-01-10T14:11:15.492076Z",
     "start_time": "2020-01-10T14:11:15.481120Z"
    }
   },
   "outputs": [],
   "source": [
    "network_club_name=['RB Leipzig', 'Borussia Dortmund', 'Schalke ', 'Augsburg',\n",
    "       'Bayer  Leverkusen', 'TSG  Hoffenheim', 'Werder Bremen',\n",
    "       'Hertha B', 'Borussia Mönchengladbach', 'Eintracht Frankfurt',\n",
    "       'Wolfsburg', 'VfB Stuttgart', 'Hannover ', 'Darmstadt ',\n",
    "       'Ingolstadt ', 'Hamburger', '.F Mainz ', '.  Köln',\n",
    "       'Arminia Bielefeld', 'Alemannia Aachen', 'Bochum', '. Nuremberg',\n",
    "       'Energie Cottbus', 'Bayern Munich', 'Fortuna Düsseldorf',\n",
    "       'Freiburg', 'M Duisburg', 'St. Pauli', 'SpVgg Greuther Fürth',\n",
    "       'T  Munich', 'Hansa Rostock', '. Kaiserslautern',\n",
    "       'Eintracht Braunschweig', 'Paderborn ', 'Karlsruher',\n",
    "       '. Union Berlin', 'SpVgg Unterhaching', 'SBV Excelsior Rotterdam',\n",
    "       'NEC Nijmegen', 'Heracles Almelo', 'Willem II Tilburg', 'Utrecht',\n",
    "       'Cambuur-Leeuwarden', 'ADO Den Haag', 'De Graafschap Doetinchem',\n",
    "       'Roda JC Kerkrade', 'Twente Enschede', 'AZ Alkmaar',\n",
    "       'Ajax Amsterdam', 'Groningen', 'Vitesse Arnhem', 'R Roosendaal',\n",
    "       'RKC Waalwijk', 'NAC Breda', 'Feyenoord Rotterdam', 'Den Bosch',\n",
    "       'P Eindhoven', 'Heerenveen', 'PEC Zwolle', 'Dordrecht',\n",
    "       'Go Ahead Eagles Deventer', 'Sparta Rotterdam', 'VVV-Venlo',\n",
    "       'Volendam', 'Fortuna Sittard', 'Zwolle', 'Emmen',\n",
    "       'Atlético Madrid', 'Granada', 'Celta de Vigo', 'Levante',\n",
    "       'Espanyol Barcelona', 'Girona', 'Getafe', 'Athletic Bilbao',\n",
    "       'Real Sociedad', 'Real Madrid', 'Real Betis', 'Real Valladolid',\n",
    "       'Sevilla', 'Mallorca', 'CA Osasuna', 'Rayo Vallecano', 'Barcelona',\n",
    "       'Real Zaragoza', 'Real Murcia', 'Eibar', 'Málaga',\n",
    "       'Sporting Gijón', 'Huesca', 'Villarreal', 'Valencia',\n",
    "       'Deportivo Alavés', 'Gimnàstic de Tarragona', 'Recreativo Huelva',\n",
    "       'Las Palmas', 'Deportivo de La Coruña', 'Tenerife',\n",
    "       'Racing Santander', 'Leganés', 'Numancia', 'Almería', 'Xerez',\n",
    "       'Real Oviedo', 'Hércules', 'Córdoba', 'Elche', 'Cádiz', 'Albacete',\n",
    "       'Le Mans Union Club ', 'Valenciennes', 'RC Lens', 'Montpellier',\n",
    "       'Lyon', 'Lille', 'Paris Saint-Germain', 'Saint-Étienne',\n",
    "       'Sochaux-Montbéliard', 'Lorient', 'Stade Brest ',\n",
    "       'Athlétic Club Arlésien', 'Nancy-Lorraine', 'Boulogne', 'SM Caen',\n",
    "       'Nice', 'Girondins Bordeaux', 'Monaco', 'Grenoble Foot ',\n",
    "       'Stade Rennais', 'AJ Auxerre', 'Toulouse', 'Marseille',\n",
    "       'Stade Reims', 'O Angers', 'Bastia', 'Metz',\n",
    "       'RC Strasbourg Alsace', 'O Dijon', 'Nantes', 'EA Guingamp',\n",
    "       'Amiens', 'G Ajaccio', 'Évian Thonon Gaillard', 'ES Troyes AC',\n",
    "       'AC Ajaccio', 'Nîmes', 'Sedan-Ardennes', 'AC Le Havre',\n",
    "       'Istres Ouest Provence', 'Manchester United', 'Manchester City',\n",
    "       'Newcastle United', 'Liverpool', 'Hull City', 'Everton',\n",
    "       'Crystal Palace', 'Leicester City', 'Queens Park Rangers',\n",
    "       'Tottenham Hotspur', 'Swansea City', 'West Ham United',\n",
    "       'West Bromwich Albion', 'Southampton', 'Sunderland A',\n",
    "       'Stoke City', 'Chelsea', 'Fulham', 'Birmingham City',\n",
    "       'Charlton Athletic', 'Leeds United', 'Aston Villa',\n",
    "       'Middlesbrough', 'Blackburn Rovers', 'Ipswich Town', 'Arsenal',\n",
    "       'Bolton Wanderers', 'Burnley', 'Wigan Athletic', 'Derby County',\n",
    "       'Watford', 'A Bournemouth', 'Norwich City', 'Sheffield United',\n",
    "       'Brighton & Hove Albion', 'Portsmouth', 'Reading', 'Coventry City',\n",
    "       'Bradford City', 'Cardiff City', 'Wolverhampton Wanderers',\n",
    "       'Huddersfield Town', 'Blackpool', 'Sporting CP', 'Braga',\n",
    "       'Vitória Setúbal', 'Porto', 'Feirense', 'Tondela', 'Moreirense',\n",
    "       'Boavista Porto', 'Benfica', 'Nacional', 'Gil Vicente',\n",
    "       'Santa Clara', 'Belenenses SAD', 'Rio Ave', 'Vitória Guimarães',\n",
    "       'Marítimo', 'União de Leiria', 'Paços de Ferreira',\n",
    "       'Varzim Sport Club', 'Académica Coimbra', 'Beira-Mar',\n",
    "       'Portimonense', 'Penafiel', 'Arouca', 'Estrela Amadora',\n",
    "       'Naval º de Maio', 'Desportivo Aves', 'GD Chaves', 'GD Estoril',\n",
    "       'Olhanense', 'Leixões', 'Trofense', 'Alverca', 'União Madeira',\n",
    "       'Famalicão', 'Salgueiros', 'Farense', 'Campomaiorense', 'Juventus',\n",
    "       'Torino', 'Livorno', 'Florentia Viola', 'Empoli', 'Lecce',\n",
    "       'Bologna', 'Sampdoria', 'Udinese', 'Milan AC', 'Internazionale',\n",
    "       'Cagliari', 'AC Perugia', 'Brescia', 'SPAL', 'Hellas Verona',\n",
    "       'Chievo Verona', 'Roma', 'Lazio', 'AC Venezia ', 'Atalanta',\n",
    "       'AC Siena', 'Bari', 'Napoli', 'Benevento', 'Vicenza', 'Reggina',\n",
    "       'Crotone', 'A Fiorentina', 'AC Parma', 'AC Fiorentina', 'Sassuolo',\n",
    "       'Modena  ', 'SPAL ', 'Inter Milan', 'Genoa C', 'AC Milan',\n",
    "       'Catania', 'Parma  ', 'Piacenza', 'Frosinone', 'Como', 'Palermo',\n",
    "       'Parma', 'AC Cesena', 'Ascoli  ', 'Messina Peloro',\n",
    "       'Delfino Pescara ', 'Ancona', 'Novara  ', 'A Treviso', 'Carpi']"
   ]
  },
  {
   "cell_type": "code",
   "execution_count": 6,
   "metadata": {
    "ExecuteTime": {
     "end_time": "2020-01-10T14:11:15.502676Z",
     "start_time": "2020-01-10T14:11:15.493310Z"
    }
   },
   "outputs": [],
   "source": [
    "missing_club=[club for club in network_club_name if not(club in  FIFA_club_name)]"
   ]
  },
  {
   "cell_type": "code",
   "execution_count": 7,
   "metadata": {
    "ExecuteTime": {
     "end_time": "2020-01-10T14:11:15.506826Z",
     "start_time": "2020-01-10T14:11:15.503894Z"
    }
   },
   "outputs": [
    {
     "data": {
      "text/plain": [
       "183"
      ]
     },
     "execution_count": 7,
     "metadata": {},
     "output_type": "execute_result"
    }
   ],
   "source": [
    "len(missing_club)"
   ]
  },
  {
   "cell_type": "code",
   "execution_count": 8,
   "metadata": {
    "ExecuteTime": {
     "end_time": "2020-01-10T14:11:15.512560Z",
     "start_time": "2020-01-10T14:11:15.508474Z"
    }
   },
   "outputs": [
    {
     "data": {
      "text/plain": [
       "['Schalke ',\n",
       " 'Augsburg',\n",
       " 'Bayer  Leverkusen',\n",
       " 'TSG  Hoffenheim',\n",
       " 'Werder Bremen',\n",
       " 'Hertha B',\n",
       " 'Wolfsburg',\n",
       " 'Hannover ',\n",
       " 'Darmstadt ',\n",
       " 'Ingolstadt ',\n",
       " 'Hamburger',\n",
       " '.F Mainz ',\n",
       " '.  Köln',\n",
       " 'Arminia Bielefeld',\n",
       " 'Alemannia Aachen',\n",
       " 'Bochum',\n",
       " '. Nuremberg',\n",
       " 'Energie Cottbus',\n",
       " 'Bayern Munich',\n",
       " 'Freiburg',\n",
       " 'M Duisburg',\n",
       " 'St. Pauli',\n",
       " 'T  Munich',\n",
       " 'Hansa Rostock',\n",
       " '. Kaiserslautern',\n",
       " 'Paderborn ',\n",
       " 'Karlsruher',\n",
       " '. Union Berlin',\n",
       " 'SBV Excelsior Rotterdam',\n",
       " 'NEC Nijmegen',\n",
       " 'Willem II Tilburg',\n",
       " 'Utrecht',\n",
       " 'Cambuur-Leeuwarden',\n",
       " 'De Graafschap Doetinchem',\n",
       " 'Roda JC Kerkrade',\n",
       " 'Twente Enschede',\n",
       " 'Ajax Amsterdam',\n",
       " 'Groningen',\n",
       " 'Vitesse Arnhem',\n",
       " 'R Roosendaal',\n",
       " 'NAC Breda',\n",
       " 'Feyenoord Rotterdam',\n",
       " 'Den Bosch',\n",
       " 'P Eindhoven',\n",
       " 'Heerenveen',\n",
       " 'Dordrecht',\n",
       " 'Go Ahead Eagles Deventer',\n",
       " 'Volendam',\n",
       " 'Zwolle',\n",
       " 'Emmen',\n",
       " 'Granada',\n",
       " 'Celta de Vigo',\n",
       " 'Levante',\n",
       " 'Espanyol Barcelona',\n",
       " 'Girona',\n",
       " 'Getafe',\n",
       " 'Athletic Bilbao',\n",
       " 'Real Valladolid',\n",
       " 'Sevilla',\n",
       " 'Mallorca',\n",
       " 'Barcelona',\n",
       " 'Real Murcia',\n",
       " 'Eibar',\n",
       " 'Málaga',\n",
       " 'Sporting Gijón',\n",
       " 'Huesca',\n",
       " 'Villarreal',\n",
       " 'Valencia',\n",
       " 'Gimnàstic de Tarragona',\n",
       " 'Recreativo Huelva',\n",
       " 'Las Palmas',\n",
       " 'Tenerife',\n",
       " 'Leganés',\n",
       " 'Numancia',\n",
       " 'Almería',\n",
       " 'Xerez',\n",
       " 'Hércules',\n",
       " 'Córdoba',\n",
       " 'Elche',\n",
       " 'Cádiz',\n",
       " 'Albacete',\n",
       " 'Le Mans Union Club ',\n",
       " 'Valenciennes',\n",
       " 'RC Lens',\n",
       " 'Montpellier',\n",
       " 'Lyon',\n",
       " 'Lille',\n",
       " 'Saint-Étienne',\n",
       " 'Sochaux-Montbéliard',\n",
       " 'Lorient',\n",
       " 'Stade Brest ',\n",
       " 'Athlétic Club Arlésien',\n",
       " 'Nancy-Lorraine',\n",
       " 'Boulogne',\n",
       " 'SM Caen',\n",
       " 'Nice',\n",
       " 'Girondins Bordeaux',\n",
       " 'Monaco',\n",
       " 'Grenoble Foot ',\n",
       " 'Stade Rennais',\n",
       " 'Toulouse',\n",
       " 'Marseille',\n",
       " 'Stade Reims',\n",
       " 'O Angers',\n",
       " 'Bastia',\n",
       " 'Metz',\n",
       " 'O Dijon',\n",
       " 'Nantes',\n",
       " 'EA Guingamp',\n",
       " 'Amiens',\n",
       " 'G Ajaccio',\n",
       " 'Évian Thonon Gaillard',\n",
       " 'ES Troyes AC',\n",
       " 'Nîmes',\n",
       " 'Sedan-Ardennes',\n",
       " 'AC Le Havre',\n",
       " 'Istres Ouest Provence',\n",
       " 'Sunderland A',\n",
       " 'A Bournemouth',\n",
       " 'Braga',\n",
       " 'Vitória Setúbal',\n",
       " 'Porto',\n",
       " 'Feirense',\n",
       " 'Tondela',\n",
       " 'Moreirense',\n",
       " 'Boavista Porto',\n",
       " 'Benfica',\n",
       " 'Nacional',\n",
       " 'Gil Vicente',\n",
       " 'Belenenses SAD',\n",
       " 'Rio Ave',\n",
       " 'Marítimo',\n",
       " 'União de Leiria',\n",
       " 'Paços de Ferreira',\n",
       " 'Varzim Sport Club',\n",
       " 'Académica Coimbra',\n",
       " 'Beira-Mar',\n",
       " 'Portimonense',\n",
       " 'Penafiel',\n",
       " 'Arouca',\n",
       " 'Estrela Amadora',\n",
       " 'Naval º de Maio',\n",
       " 'Desportivo Aves',\n",
       " 'GD Chaves',\n",
       " 'GD Estoril',\n",
       " 'Olhanense',\n",
       " 'Leixões',\n",
       " 'Trofense',\n",
       " 'Alverca',\n",
       " 'União Madeira',\n",
       " 'Salgueiros',\n",
       " 'Farense',\n",
       " 'Campomaiorense',\n",
       " 'Florentia Viola',\n",
       " 'Milan AC',\n",
       " 'Internazionale',\n",
       " 'AC Perugia',\n",
       " 'AC Venezia ',\n",
       " 'AC Siena',\n",
       " 'Bari',\n",
       " 'Vicenza',\n",
       " 'Reggina',\n",
       " 'A Fiorentina',\n",
       " 'AC Parma',\n",
       " 'AC Fiorentina',\n",
       " 'Modena  ',\n",
       " 'SPAL ',\n",
       " 'Inter Milan',\n",
       " 'Genoa C',\n",
       " 'AC Milan',\n",
       " 'Catania',\n",
       " 'Parma  ',\n",
       " 'Piacenza',\n",
       " 'Como',\n",
       " 'Palermo',\n",
       " 'AC Cesena',\n",
       " 'Ascoli  ',\n",
       " 'Messina Peloro',\n",
       " 'Delfino Pescara ',\n",
       " 'Ancona',\n",
       " 'Novara  ',\n",
       " 'A Treviso',\n",
       " 'Carpi']"
      ]
     },
     "execution_count": 8,
     "metadata": {},
     "output_type": "execute_result"
    }
   ],
   "source": [
    "missing_club"
   ]
  },
  {
   "cell_type": "code",
   "execution_count": 9,
   "metadata": {
    "ExecuteTime": {
     "end_time": "2020-01-10T14:11:15.707143Z",
     "start_time": "2020-01-10T14:11:15.513815Z"
    }
   },
   "outputs": [
    {
     "name": "stderr",
     "output_type": "stream",
     "text": [
      "/Users/Saibo/anaconda3/lib/python3.7/site-packages/fuzzywuzzy/fuzz.py:11: UserWarning: Using slow pure-python SequenceMatcher. Install python-Levenshtein to remove this warning\n",
      "  warnings.warn('Using slow pure-python SequenceMatcher. Install python-Levenshtein to remove this warning')\n"
     ]
    },
    {
     "data": {
      "text/plain": [
       "('Bayer 04 Leverkusen', 95)"
      ]
     },
     "execution_count": 9,
     "metadata": {},
     "output_type": "execute_result"
    }
   ],
   "source": [
    "from fuzzywuzzy import process\n",
    "choices=FIFA_club_name\n",
    "process.extractOne('Bayer  Leverkusen', choices)"
   ]
  },
  {
   "cell_type": "code",
   "execution_count": 10,
   "metadata": {
    "ExecuteTime": {
     "end_time": "2020-01-10T14:11:15.729505Z",
     "start_time": "2020-01-10T14:11:15.709020Z"
    }
   },
   "outputs": [],
   "source": [
    "pkl_file = open('./temporary_pkl/transfer_span_reduced.pkl','rb')\n",
    "transfer_span_reduced = pickle.load(pkl_file)\n",
    "pkl_file.close()"
   ]
  },
  {
   "cell_type": "code",
   "execution_count": 11,
   "metadata": {
    "ExecuteTime": {
     "end_time": "2020-01-10T14:11:15.733792Z",
     "start_time": "2020-01-10T14:11:15.730866Z"
    }
   },
   "outputs": [],
   "source": [
    "def rename(club,choices):\n",
    "    return process.extractOne(club, choices)[0]"
   ]
  },
  {
   "cell_type": "code",
   "execution_count": 12,
   "metadata": {
    "ExecuteTime": {
     "end_time": "2020-01-10T14:11:36.431771Z",
     "start_time": "2020-01-10T14:11:15.735140Z"
    }
   },
   "outputs": [],
   "source": [
    "#len(new_name)=282  ,  29.5 seconds\n",
    "new_name=[rename(club,choices) if not (club in FIFA_club_name) else club for club in list(transfer_span_reduced['club_name'].unique())  ]"
   ]
  },
  {
   "cell_type": "code",
   "execution_count": 13,
   "metadata": {
    "ExecuteTime": {
     "end_time": "2020-01-10T14:11:36.437809Z",
     "start_time": "2020-01-10T14:11:36.433323Z"
    }
   },
   "outputs": [
    {
     "data": {
      "text/plain": [
       "(197, 224)"
      ]
     },
     "execution_count": 13,
     "metadata": {},
     "output_type": "execute_result"
    }
   ],
   "source": [
    "len(set(new_name)),len(new_name)"
   ]
  },
  {
   "cell_type": "code",
   "execution_count": 14,
   "metadata": {
    "ExecuteTime": {
     "end_time": "2020-01-10T14:11:36.450693Z",
     "start_time": "2020-01-10T14:11:36.439366Z"
    }
   },
   "outputs": [],
   "source": [
    "fifa_df_reduced=fifa_df[fifa_df['club'].isin(new_name)]"
   ]
  },
  {
   "cell_type": "code",
   "execution_count": 16,
   "metadata": {
    "ExecuteTime": {
     "end_time": "2020-01-10T14:12:22.536998Z",
     "start_time": "2020-01-10T14:12:22.505042Z"
    }
   },
   "outputs": [],
   "source": [
    "attributes_df=fifa_df_reduced.groupby('club')['overall'].apply(list).reset_index(name='score_list')\n",
    "\n",
    "attributes_df = attributes_df.merge(team_attributes_df[['overall','value_eur','club']],how='left',left_on='club',right_on='club')\n",
    "\n",
    "#attributes_df.drop([163, 199], inplace=True)\n",
    "\n",
    "# Change to millions of euros\n",
    "attributes_df.value_eur = attributes_df.value_eur.apply(lambda x: x/1000000)\n",
    "attributes_df.columns = ['club', 'scores', 'average_scores', 'value_millions']\n",
    "attributes_df.scores = attributes_df.scores.apply(lambda x: np.array(list(map(float, x))))\n",
    "\n",
    "n_players = min(attributes_df.scores.apply(len))\n",
    "n_clubs = attributes_df.index.size"
   ]
  },
  {
   "cell_type": "code",
   "execution_count": 17,
   "metadata": {
    "ExecuteTime": {
     "end_time": "2020-01-10T14:12:23.122160Z",
     "start_time": "2020-01-10T14:12:23.116538Z"
    }
   },
   "outputs": [],
   "source": [
    "# Choose just the 21 (n_players) best player scores for each team\n",
    "\n",
    "def filter_top(x):\n",
    "    x.sort()\n",
    "    x = x[::-1].copy()\n",
    "    return x[:n_players]\n",
    "\n",
    "attributes_df.scores = attributes_df.scores.apply(filter_top)"
   ]
  },
  {
   "cell_type": "code",
   "execution_count": 18,
   "metadata": {
    "ExecuteTime": {
     "end_time": "2020-01-10T14:12:24.224657Z",
     "start_time": "2020-01-10T14:12:23.457413Z"
    }
   },
   "outputs": [],
   "source": [
    "import torch\n",
    "import torch.nn as nn\n",
    "import torch.nn.functional as F\n",
    "import torch.optim as optim\n",
    "from torch.utils.data import Dataset, DataLoader"
   ]
  },
  {
   "cell_type": "code",
   "execution_count": 19,
   "metadata": {
    "ExecuteTime": {
     "end_time": "2020-01-10T14:12:25.087938Z",
     "start_time": "2020-01-10T14:12:24.225873Z"
    }
   },
   "outputs": [],
   "source": [
    "from sklearn.model_selection import train_test_split\n",
    "X_train, X_test, y_train, y_test = train_test_split(attributes_df.scores.values, attributes_df.value_millions.values, test_size=0.35, random_state=27)\n",
    "X_valid, X_test, y_valid, y_test = train_test_split(X_test, y_test, test_size=0.52, random_state=27)\n",
    "\n",
    "class ClubsDataset(Dataset):\n",
    "    def __init__(self, mode='training', transform=None):\n",
    "        self.data = attributes_df.sample(frac=1).reset_index(drop=True)\n",
    "        if mode == 'training':\n",
    "            self.X = X_train\n",
    "            self.y = y_train\n",
    "        elif mode == 'validation':\n",
    "            self.X = X_valid\n",
    "            self.y = y_valid\n",
    "        elif mode == 'test':\n",
    "            self.X = X_test\n",
    "            self.y = y_test\n",
    "        else:\n",
    "            raise Exception('Invalid mode!')\n",
    "        \n",
    "    def __len__(self):\n",
    "        return len(self.y)\n",
    "    \n",
    "    def __getitem__(self, index):\n",
    "        return torch.tensor(self.X[index]), self.y[index]"
   ]
  },
  {
   "cell_type": "code",
   "execution_count": 20,
   "metadata": {
    "ExecuteTime": {
     "end_time": "2020-01-10T14:12:25.094080Z",
     "start_time": "2020-01-10T14:12:25.089758Z"
    }
   },
   "outputs": [],
   "source": [
    "# Funções auxiliares para lidar com os parametros\n",
    "\n",
    "def get_trainable(model_params):\n",
    "    return (p for p in model_params if p.requires_grad)\n",
    "\n",
    "def get_frozen(model_params):\n",
    "    return (p for p in model_params if not p.requires_grad)\n",
    "\n",
    "def all_trainable(model_params):\n",
    "    return all(p.requires_grad for p in model_params)\n",
    "\n",
    "def all_frozen(model_params):\n",
    "    return all(not p.requires_grad for p in model_params)\n",
    "\n",
    "def freeze_all(model_params):\n",
    "    for param in model_params:\n",
    "        param.requires_grad = False"
   ]
  },
  {
   "cell_type": "code",
   "execution_count": 21,
   "metadata": {
    "ExecuteTime": {
     "end_time": "2020-01-10T14:12:25.104582Z",
     "start_time": "2020-01-10T14:12:25.095882Z"
    }
   },
   "outputs": [],
   "source": [
    "batch_size = n_clubs\n",
    "\n",
    "train_dataset = ClubsDataset(mode='training')\n",
    "valid_dataset = ClubsDataset(mode='validation')\n",
    "test_dataset = ClubsDataset(mode='test')\n",
    "\n",
    "train_dataloader = DataLoader(train_dataset, batch_size, shuffle=True, num_workers=0)\n",
    "valid_dataloader = DataLoader(valid_dataset, batch_size, shuffle=False, num_workers=0)\n",
    "test_dataloader = DataLoader(test_dataset, batch_size=n_clubs, shuffle=False, num_workers=0)"
   ]
  },
  {
   "cell_type": "code",
   "execution_count": 22,
   "metadata": {
    "ExecuteTime": {
     "end_time": "2020-01-10T14:12:25.109946Z",
     "start_time": "2020-01-10T14:12:25.105839Z"
    }
   },
   "outputs": [],
   "source": [
    "n_hidden1 = 10000\n",
    "n_hidden2 = 1000\n",
    "\n",
    "class MLP(nn.Module):\n",
    "    def __init__(self):\n",
    "        super().__init__()\n",
    "        self.layers = nn.Sequential(\n",
    "            nn.Linear(n_players, n_hidden1),\n",
    "            nn.ReLU(),\n",
    "            nn.Dropout(0.2),\n",
    "            nn.Linear(n_hidden1, n_hidden2),\n",
    "            nn.ReLU(),\n",
    "            nn.Dropout(0.5),\n",
    "            nn.Linear(n_hidden2, 1)\n",
    "        )\n",
    "\n",
    "    def forward(self, x):\n",
    "        # x = x.view(x.size(0), -1)\n",
    "        x = self.layers(x)\n",
    "        return x"
   ]
  },
  {
   "cell_type": "code",
   "execution_count": 23,
   "metadata": {
    "ExecuteTime": {
     "end_time": "2020-01-10T14:12:38.817004Z",
     "start_time": "2020-01-10T14:12:25.785991Z"
    }
   },
   "outputs": [
    {
     "name": "stderr",
     "output_type": "stream",
     "text": [
      "/Users/Saibo/anaconda3/lib/python3.7/site-packages/torch/nn/modules/loss.py:431: UserWarning: Using a target size (torch.Size([128])) that is different to the input size (torch.Size([128, 1])). This will likely lead to incorrect results due to broadcasting. Please ensure they have the same size.\n",
      "  return F.mse_loss(input, target, reduction=self.reduction)\n"
     ]
    },
    {
     "name": "stdout",
     "output_type": "stream",
     "text": [
      "--------- Epoch: 0 ---------\n",
      "Train Loss: 151.251\n",
      "Valid Loss: 10153.588\n",
      "--------- Epoch: 1 ---------\n",
      "Train Loss: 15123.906\n",
      "Valid Loss: 5780.983\n"
     ]
    },
    {
     "name": "stderr",
     "output_type": "stream",
     "text": [
      "/Users/Saibo/anaconda3/lib/python3.7/site-packages/torch/nn/modules/loss.py:431: UserWarning: Using a target size (torch.Size([33])) that is different to the input size (torch.Size([33, 1])). This will likely lead to incorrect results due to broadcasting. Please ensure they have the same size.\n",
      "  return F.mse_loss(input, target, reduction=self.reduction)\n"
     ]
    },
    {
     "name": "stdout",
     "output_type": "stream",
     "text": [
      "--------- Epoch: 2 ---------\n",
      "Train Loss: 8890.585\n",
      "Valid Loss: 4093.555\n",
      "--------- Epoch: 3 ---------\n",
      "Train Loss: 6739.424\n",
      "Valid Loss: 631.006\n",
      "--------- Epoch: 4 ---------\n",
      "Train Loss: 1151.319\n",
      "Valid Loss: 325.225\n",
      "--------- Epoch: 5 ---------\n",
      "Train Loss: 653.868\n",
      "Valid Loss: 1346.252\n",
      "--------- Epoch: 6 ---------\n",
      "Train Loss: 2155.397\n",
      "Valid Loss: 1390.463\n",
      "--------- Epoch: 7 ---------\n",
      "Train Loss: 2233.942\n",
      "Valid Loss: 593.113\n",
      "--------- Epoch: 8 ---------\n",
      "Train Loss: 1078.886\n",
      "Valid Loss: 54.735\n",
      "--------- Epoch: 9 ---------\n",
      "Train Loss: 166.007\n",
      "Valid Loss: 210.441\n",
      "--------- Epoch: 10 ---------\n",
      "Train Loss: 409.421\n",
      "Valid Loss: 568.875\n",
      "--------- Epoch: 11 ---------\n",
      "Train Loss: 959.156\n",
      "Valid Loss: 637.343\n",
      "--------- Epoch: 12 ---------\n",
      "Train Loss: 1035.155\n",
      "Valid Loss: 410.195\n",
      "--------- Epoch: 13 ---------\n",
      "Train Loss: 793.052\n",
      "Valid Loss: 126.785\n",
      "--------- Epoch: 14 ---------\n",
      "Train Loss: 290.422\n",
      "Valid Loss: 39.98\n",
      "--------- Epoch: 15 ---------\n",
      "Train Loss: 112.598\n",
      "Valid Loss: 163.368\n",
      "--------- Epoch: 16 ---------\n",
      "Train Loss: 298.098\n",
      "Valid Loss: 300.714\n",
      "--------- Epoch: 17 ---------\n",
      "Train Loss: 484.222\n",
      "Valid Loss: 334.205\n",
      "--------- Epoch: 18 ---------\n",
      "Train Loss: 508.57\n",
      "Valid Loss: 234.941\n",
      "--------- Epoch: 19 ---------\n",
      "Train Loss: 397.349\n",
      "Valid Loss: 88.071\n",
      "--------- Epoch: 20 ---------\n",
      "Train Loss: 193.555\n",
      "Valid Loss: 40.766\n",
      "--------- Epoch: 21 ---------\n",
      "Train Loss: 94.12\n",
      "Valid Loss: 109.643\n",
      "--------- Epoch: 22 ---------\n",
      "Train Loss: 226.189\n",
      "Valid Loss: 151.83\n",
      "--------- Epoch: 23 ---------\n",
      "Train Loss: 285.866\n",
      "Valid Loss: 125.153\n",
      "--------- Epoch: 24 ---------\n",
      "Train Loss: 252.256\n",
      "Valid Loss: 73.126\n",
      "--------- Epoch: 25 ---------\n",
      "Train Loss: 153.393\n",
      "Valid Loss: 42.416\n",
      "--------- Epoch: 26 ---------\n",
      "Train Loss: 97.81\n",
      "Valid Loss: 41.555\n",
      "--------- Epoch: 27 ---------\n",
      "Train Loss: 107.504\n",
      "Valid Loss: 60.997\n",
      "--------- Epoch: 28 ---------\n",
      "Train Loss: 104.989\n",
      "Valid Loss: 80.002\n",
      "--------- Epoch: 29 ---------\n",
      "Train Loss: 131.815\n",
      "Valid Loss: 82.751\n",
      "--------- Epoch: 30 ---------\n",
      "Train Loss: 143.493\n",
      "Valid Loss: 67.088\n",
      "--------- Epoch: 31 ---------\n",
      "Train Loss: 114.348\n",
      "Valid Loss: 47.702\n",
      "--------- Epoch: 32 ---------\n",
      "Train Loss: 87.132\n",
      "Valid Loss: 38.204\n",
      "--------- Epoch: 33 ---------\n",
      "Train Loss: 67.952\n",
      "Valid Loss: 41.176\n",
      "--------- Epoch: 34 ---------\n",
      "Train Loss: 63.322\n",
      "Valid Loss: 49.164\n",
      "--------- Epoch: 35 ---------\n",
      "Train Loss: 87.349\n",
      "Valid Loss: 53.197\n",
      "--------- Epoch: 36 ---------\n",
      "Train Loss: 86.215\n",
      "Valid Loss: 46.894\n",
      "--------- Epoch: 37 ---------\n",
      "Train Loss: 66.965\n",
      "Valid Loss: 39.463\n",
      "--------- Epoch: 38 ---------\n",
      "Train Loss: 61.537\n",
      "Valid Loss: 38.435\n",
      "--------- Epoch: 39 ---------\n",
      "Train Loss: 67.365\n",
      "Valid Loss: 40.362\n",
      "--------- Epoch: 40 ---------\n",
      "Train Loss: 61.012\n",
      "Valid Loss: 40.732\n",
      "--------- Epoch: 41 ---------\n",
      "Train Loss: 54.951\n",
      "Valid Loss: 39.379\n",
      "--------- Epoch: 42 ---------\n",
      "Train Loss: 53.277\n",
      "Valid Loss: 38.097\n",
      "--------- Epoch: 43 ---------\n",
      "Train Loss: 46.358\n",
      "Valid Loss: 38.137\n",
      "--------- Epoch: 44 ---------\n",
      "Train Loss: 45.877\n",
      "Valid Loss: 38.223\n",
      "--------- Epoch: 45 ---------\n",
      "Train Loss: 48.025\n",
      "Valid Loss: 38.288\n",
      "--------- Epoch: 46 ---------\n",
      "Train Loss: 44.848\n",
      "Valid Loss: 38.33\n",
      "--------- Epoch: 47 ---------\n",
      "Train Loss: 46.756\n",
      "Valid Loss: 38.239\n",
      "--------- Epoch: 48 ---------\n",
      "Train Loss: 44.648\n",
      "Valid Loss: 38.269\n",
      "--------- Epoch: 49 ---------\n",
      "Train Loss: 42.648\n",
      "Valid Loss: 38.275\n",
      "--------- Epoch: 50 ---------\n",
      "Train Loss: 41.539\n",
      "Valid Loss: 38.341\n",
      "--------- Epoch: 51 ---------\n",
      "Train Loss: 41.966\n",
      "Valid Loss: 38.312\n",
      "--------- Epoch: 52 ---------\n",
      "Train Loss: 43.872\n",
      "Valid Loss: 38.23\n",
      "--------- Epoch: 53 ---------\n",
      "Train Loss: 41.812\n",
      "Valid Loss: 38.2\n",
      "--------- Epoch: 54 ---------\n",
      "Train Loss: 42.381\n",
      "Valid Loss: 38.14\n",
      "--------- Epoch: 55 ---------\n",
      "Train Loss: 40.346\n",
      "Valid Loss: 38.121\n",
      "--------- Epoch: 56 ---------\n",
      "Train Loss: 40.853\n",
      "Valid Loss: 38.16\n",
      "--------- Epoch: 57 ---------\n",
      "Train Loss: 40.003\n",
      "Valid Loss: 38.194\n",
      "--------- Epoch: 58 ---------\n",
      "Train Loss: 40.182\n",
      "Valid Loss: 37.963\n",
      "--------- Epoch: 59 ---------\n",
      "Train Loss: 41.53\n",
      "Valid Loss: 39.435\n",
      "--------- Epoch: 60 ---------\n",
      "Train Loss: 41.173\n",
      "Valid Loss: 38.481\n",
      "--------- Epoch: 61 ---------\n",
      "Train Loss: 37.989\n",
      "Valid Loss: 38.445\n",
      "--------- Epoch: 62 ---------\n",
      "Train Loss: 37.926\n",
      "Valid Loss: 38.44\n",
      "--------- Epoch: 63 ---------\n",
      "Train Loss: 38.461\n",
      "Valid Loss: 38.464\n",
      "--------- Epoch: 64 ---------\n",
      "Train Loss: 37.907\n",
      "Valid Loss: 38.004\n",
      "--------- Epoch: 65 ---------\n",
      "Train Loss: 38.777\n",
      "Valid Loss: 38.646\n",
      "--------- Epoch: 66 ---------\n",
      "Train Loss: 37.302\n",
      "Valid Loss: 38.807\n",
      "--------- Epoch: 67 ---------\n",
      "Train Loss: 36.876\n",
      "Valid Loss: 38.929\n",
      "--------- Epoch: 68 ---------\n",
      "Train Loss: 37.275\n",
      "Valid Loss: 39.012\n",
      "--------- Epoch: 69 ---------\n",
      "Train Loss: 36.973\n",
      "Valid Loss: 39.014\n",
      "--------- Epoch: 70 ---------\n",
      "Train Loss: 37.603\n",
      "Valid Loss: 38.968\n",
      "--------- Epoch: 71 ---------\n",
      "Train Loss: 37.382\n",
      "Valid Loss: 38.851\n",
      "--------- Epoch: 72 ---------\n",
      "Train Loss: 35.648\n",
      "Valid Loss: 38.697\n",
      "--------- Epoch: 73 ---------\n",
      "Train Loss: 36.301\n",
      "Valid Loss: 38.608\n",
      "--------- Epoch: 74 ---------\n",
      "Train Loss: 36.126\n",
      "Valid Loss: 38.559\n",
      "--------- Epoch: 75 ---------\n",
      "Train Loss: 36.456\n",
      "Valid Loss: 38.599\n",
      "--------- Epoch: 76 ---------\n",
      "Train Loss: 35.399\n",
      "Valid Loss: 38.671\n",
      "--------- Epoch: 77 ---------\n",
      "Train Loss: 36.493\n",
      "Valid Loss: 38.732\n",
      "--------- Epoch: 78 ---------\n",
      "Train Loss: 36.285\n",
      "Valid Loss: 38.806\n",
      "--------- Epoch: 79 ---------\n",
      "Train Loss: 34.366\n",
      "Valid Loss: 38.868\n",
      "--------- Epoch: 80 ---------\n",
      "Train Loss: 36.24\n",
      "Valid Loss: 38.88\n",
      "--------- Epoch: 81 ---------\n",
      "Train Loss: 34.932\n",
      "Valid Loss: 38.878\n",
      "--------- Epoch: 82 ---------\n",
      "Train Loss: 35.85\n",
      "Valid Loss: 38.903\n",
      "--------- Epoch: 83 ---------\n",
      "Train Loss: 36.071\n",
      "Valid Loss: 38.947\n",
      "--------- Epoch: 84 ---------\n",
      "Train Loss: 34.542\n",
      "Valid Loss: 38.956\n",
      "--------- Epoch: 85 ---------\n",
      "Train Loss: 34.539\n",
      "Valid Loss: 38.947\n",
      "--------- Epoch: 86 ---------\n",
      "Train Loss: 35.494\n",
      "Valid Loss: 38.918\n",
      "--------- Epoch: 87 ---------\n",
      "Train Loss: 34.817\n",
      "Valid Loss: 38.86\n",
      "--------- Epoch: 88 ---------\n",
      "Train Loss: 35.89\n",
      "Valid Loss: 38.871\n",
      "--------- Epoch: 89 ---------\n",
      "Train Loss: 34.549\n",
      "Valid Loss: 38.919\n",
      "--------- Epoch: 90 ---------\n",
      "Train Loss: 34.417\n",
      "Valid Loss: 38.954\n",
      "--------- Epoch: 91 ---------\n",
      "Train Loss: 34.841\n",
      "Valid Loss: 39.003\n",
      "--------- Epoch: 92 ---------\n",
      "Train Loss: 34.52\n",
      "Valid Loss: 39.033\n",
      "--------- Epoch: 93 ---------\n",
      "Train Loss: 34.782\n",
      "Valid Loss: 39.062\n",
      "--------- Epoch: 94 ---------\n",
      "Train Loss: 33.915\n",
      "Valid Loss: 39.077\n",
      "--------- Epoch: 95 ---------\n",
      "Train Loss: 34.608\n",
      "Valid Loss: 39.034\n",
      "--------- Epoch: 96 ---------\n",
      "Train Loss: 33.657\n",
      "Valid Loss: 38.976\n",
      "--------- Epoch: 97 ---------\n",
      "Train Loss: 34.485\n",
      "Valid Loss: 38.91\n",
      "--------- Epoch: 98 ---------\n",
      "Train Loss: 34.415\n",
      "Valid Loss: 38.879\n",
      "--------- Epoch: 99 ---------\n",
      "Train Loss: 34.92\n",
      "Valid Loss: 38.844\n"
     ]
    }
   ],
   "source": [
    "# del model, X, y, y_, loss\n",
    "\n",
    "lr = 0.0002\n",
    "\n",
    "model = MLP()\n",
    "criterion = nn.MSELoss()\n",
    "optimizer = torch.optim.Adam(get_trainable(model.parameters()), lr=lr)\n",
    "\n",
    "max_valid_acc = 0.\n",
    "n = 0\n",
    "\n",
    "n_max = 100\n",
    "\n",
    "while n < n_max:\n",
    "    # Train\n",
    "    model.train();\n",
    "    \n",
    "    running_loss = 0.\n",
    "    #correct = 0\n",
    "    \n",
    "    for i, (X, y) in enumerate(train_dataloader):\n",
    "        y_ = model(X.float())\n",
    "        optimizer.zero_grad()\n",
    "        loss = criterion(y_, y)\n",
    "        loss.backward()\n",
    "        optimizer.step()\n",
    "        \n",
    "        # Statistics\n",
    "        _, y_label_ = torch.max(y_, 1)\n",
    "        running_loss += loss.item()*batch_size\n",
    "\n",
    "    train_loss = running_loss / len(train_dataloader.dataset)\n",
    "    \n",
    "    print(f'--------- Epoch: {n} ---------')\n",
    "    print(f'Train Loss: {round(train_loss,3)}')\n",
    "\n",
    "    \n",
    "    # Eval\n",
    "    model.eval();\n",
    "    \n",
    "    running_loss = 0.\n",
    "    #correct = 0\n",
    "    \n",
    "    with torch.no_grad():\n",
    "        for i, (X, y) in enumerate(valid_dataloader):\n",
    "            y_ = model(X.float());\n",
    "        \n",
    "            # Statistics\n",
    "            _, y_label_ = torch.max(y_, 1)\n",
    "            loss = criterion(y_, y)\n",
    "            running_loss += loss.item() * X.shape[0]\n",
    "            \n",
    "        valid_loss = running_loss / len(valid_dataloader.dataset)\n",
    "        \n",
    "        print(f'Valid Loss: {round(valid_loss,3)}')\n",
    "         \n",
    "    n += 1"
   ]
  },
  {
   "cell_type": "code",
   "execution_count": 24,
   "metadata": {
    "ExecuteTime": {
     "end_time": "2020-01-10T14:12:38.831546Z",
     "start_time": "2020-01-10T14:12:38.818632Z"
    }
   },
   "outputs": [
    {
     "name": "stdout",
     "output_type": "stream",
     "text": [
      "0\n"
     ]
    },
    {
     "name": "stderr",
     "output_type": "stream",
     "text": [
      "/Users/Saibo/anaconda3/lib/python3.7/site-packages/torch/nn/modules/loss.py:431: UserWarning: Using a target size (torch.Size([36])) that is different to the input size (torch.Size([36, 1])). This will likely lead to incorrect results due to broadcasting. Please ensure they have the same size.\n",
      "  return F.mse_loss(input, target, reduction=self.reduction)\n"
     ]
    }
   ],
   "source": [
    "# Final accuracy test\n",
    "model.eval();\n",
    "\n",
    "running_loss = 0.\n",
    "correct = 0\n",
    "\n",
    "with torch.no_grad():\n",
    "    for i, (X, y) in enumerate(test_dataloader):\n",
    "        print(i)\n",
    "        y_ = model(X.float());\n",
    "        # Statistics\n",
    "\n",
    "        loss = criterion(y_, y)\n",
    "#         plt.hist(loss)\n",
    "#         running_loss += loss.item() * X.shape[0]\n",
    "\n",
    "#     test_loss = running_loss / len(test_dataloader.dataset)\n",
    "#     test_acc = 100 * correct/len(test_dataloader.dataset)\n",
    "\n",
    "#     print(f'Test Loss: {round(test_loss,3)}')\n",
    "#     print(f'Test Acc:  {round(test_acc,1)} %')"
   ]
  },
  {
   "cell_type": "code",
   "execution_count": 25,
   "metadata": {
    "ExecuteTime": {
     "end_time": "2020-01-10T14:12:38.990929Z",
     "start_time": "2020-01-10T14:12:38.833473Z"
    }
   },
   "outputs": [
    {
     "data": {
      "text/plain": [
       "(array([ 2.,  1.,  1.,  0.,  2.,  1.,  1.,  3.,  5., 20.]),\n",
       " array([-22.46023746, -19.89550796, -17.33077847, -14.76604897,\n",
       "        -12.20131947,  -9.63658997,  -7.07186048,  -4.50713098,\n",
       "         -1.94240148,   0.62232802,   3.18705751]),\n",
       " <a list of 10 Patch objects>)"
      ]
     },
     "execution_count": 25,
     "metadata": {},
     "output_type": "execute_result"
    },
    {
     "data": {
      "image/png": "[encoded data removed]",
      "text/plain": [
       "<Figure size 432x288 with 1 Axes>"
      ]
     },
     "metadata": {
      "needs_background": "light"
     },
     "output_type": "display_data"
    }
   ],
   "source": [
    "plt.hist(y_.flatten().numpy()- y_test)"
   ]
  },
  {
   "cell_type": "code",
   "execution_count": 26,
   "metadata": {
    "ExecuteTime": {
     "end_time": "2020-01-10T14:12:39.005104Z",
     "start_time": "2020-01-10T14:12:38.992353Z"
    }
   },
   "outputs": [
    {
     "name": "stdout",
     "output_type": "stream",
     "text": [
      "tensor(59.3416)\n"
     ]
    }
   ],
   "source": [
    "print(loss)"
   ]
  },
  {
   "cell_type": "code",
   "execution_count": null,
   "metadata": {},
   "outputs": [],
   "source": []
  }
 ],
 "metadata": {
  "kernelspec": {
   "display_name": "Python 3",
   "language": "python",
   "name": "python3"
  },
  "language_info": {
   "codemirror_mode": {
    "name": "ipython",
    "version": 3
   },
   "file_extension": ".py",
   "mimetype": "text/x-python",
   "name": "python",
   "nbconvert_exporter": "python",
   "pygments_lexer": "ipython3",
   "version": "3.7.3"
  }
 },
 "nbformat": 4,
 "nbformat_minor": 4
}
